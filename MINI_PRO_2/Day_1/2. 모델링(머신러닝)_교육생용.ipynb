{
 "cells": [
  {
   "cell_type": "markdown",
   "id": "2072748e",
   "metadata": {},
   "source": [
    "## **AIVLE School 미니프로젝트 5기 AI트랙 2차** ##\n",
    "## **공공데이터를 활용한 <span style=\"color:skyblue\">미세먼지 농도</span> 예측**\n",
    "---"
   ]
  },
  {
   "cell_type": "markdown",
   "id": "71d4fac7",
   "metadata": {},
   "source": [
    "## [step 3] 모델링"
   ]
  },
  {
   "cell_type": "markdown",
   "id": "428de2c9",
   "metadata": {},
   "source": [
    "## **0.프로젝트 소개**\n",
    "\n",
    "### (1) 수행 목표\n",
    "- 미세먼지 농도를 예측하는 머신러닝 모델을 만드세요."
   ]
  },
  {
   "cell_type": "markdown",
   "id": "673a15d8",
   "metadata": {},
   "source": [
    "#### 우리가 풀어야 하는 문제는 무엇인가요? \n",
    "* 서울 지역의 미세먼지 데이터와 날씨 데이터를 활용하여,\n",
    "미세먼지 예측에 관련 있는 데이터 항목으로 데이터를 구성, 전처리 하여 \n",
    "미세먼지 농도를 예측하는 머신러닝 모델 구현\n"
   ]
  },
  {
   "cell_type": "markdown",
   "id": "69494029",
   "metadata": {},
   "source": [
    "### (2) 데이터 소개\n",
    "\n",
    "#### 1) 기본 데이터\n",
    "\n",
    "* 학습 데이터\n",
    "    * air_2022.csv : 2022년 미세먼지 데이터\n",
    "    * weather_2022.csv : 2022년 날씨 데이터\n",
    "* 테스트 데이터\n",
    "    * air_2023.csv : 2023년 미세먼지 데이터\n",
    "    * weather_2023.csv : 2023년 날씨 데이터\n",
    "\n",
    "#### 2) 데이터셋의 변수 소개(weather_2022,2023)\n",
    "\n",
    "* 증기압: 증기가 고체 또는 액체와 동적 평형 상태에 있을 때 증기의 압력 (증기가 되려는 힘)\n",
    "* 이슬점 온도: 불포화 상태의 공기가 냉각될 때, 포화 상태에 도달하여 수증기의 응결이 시작되는 온도\n",
    "* 일조: 일정한 물체나 땅의 겉면에 태양 광선이 비치는 시간 (1시간 중 비율)\n",
    "* 일사(량): 태양으로부터 오는 태양 복사 에너지가 지표에 닿는 양 (면적당 에너지 량)\n",
    "* 전운량: 하늘을 육안으로 관측하여 전부 구름일 때 10, 구름이 덮고 있는 하늘의 비율에 따라 0~10\n",
    "* 중하층운량: 중층과 하층에 있는 구름의 분포량(중하층 구름이 날씨에 영향 주므로 따로 표기)\n",
    "* 운형(운형약어): 구름의 종류. 약어 코드로 기재됨\n",
    "* 최저운고: 가장 낮은 구름의 높이\n",
    "* 현상번호(국내식): 비, 소낙비, 싸락눈, 눈보라 등의 기상현상을 나타낸 코드번호\n",
    "* 지면온도: 지면 0cm 온도\n",
    "* 지중온도: 땅 속 온도변수1"
   ]
  },
  {
   "cell_type": "markdown",
   "id": "bc18a997",
   "metadata": {},
   "source": [
    "## **1.환경설정**"
   ]
  },
  {
   "cell_type": "markdown",
   "id": "aa9b0b72",
   "metadata": {},
   "source": [
    "* 세부 요구사항\n",
    "    - 경로 설정 : 다음의 두가지 방법 중 하나를 선택하여 폴더를 준비하고 데이터를 로딩하시오.\n",
    "        * 1) 로컬 수행(Ananconda)\n",
    "            * 제공된 압축파일을 다운받아 압축을 풀고\n",
    "            * anaconda의 root directory(보통 C:/Users/< ID > 에 project 폴더를 만들고, 복사해 넣습니다.\n",
    "        * 2) 구글코랩\n",
    "            * 구글 드라이브 바로 밑에 project 폴더를 만들고, \n",
    "            * 데이터 파일을 복사해 넣습니다.\n",
    "            \n",
    "    - 기본적으로 필요한 라이브러리를 import 하도록 코드가 작성되어 있습니다. \n",
    "        * 필요하다고 판단되는 라이브러리를 추가하세요."
   ]
  },
  {
   "cell_type": "markdown",
   "id": "a47552a4",
   "metadata": {},
   "source": [
    "### (1) 경로 설정\n",
    "* 로컬환경 또는 구글 코랩 중 하나를 사용하시면 됩니다."
   ]
  },
  {
   "cell_type": "markdown",
   "id": "6aac7e46",
   "metadata": {},
   "source": [
    "#### 1) 로컬 수행(Anaconda)\n",
    "* project 폴더에 필요한 파일들을 넣고, 본 파일을 열었다면, 별도 경로 지정이 필요하지 않습니다."
   ]
  },
  {
   "cell_type": "code",
   "execution_count": 1,
   "id": "dfe4ca4c",
   "metadata": {},
   "outputs": [],
   "source": [
    "path = 'C:/Users/User/project/'"
   ]
  },
  {
   "cell_type": "markdown",
   "id": "73dcba5a",
   "metadata": {},
   "source": [
    "#### 2) 구글 코랩 수행"
   ]
  },
  {
   "cell_type": "markdown",
   "id": "6c4e499c",
   "metadata": {},
   "source": [
    "* 구글 드라이브 연결"
   ]
  },
  {
   "cell_type": "code",
   "execution_count": 2,
   "id": "89670042",
   "metadata": {},
   "outputs": [],
   "source": [
    "# from google.colab import drive\n",
    "# drive.mount('/content/drive')"
   ]
  },
  {
   "cell_type": "code",
   "execution_count": 3,
   "id": "b1fa58df",
   "metadata": {},
   "outputs": [],
   "source": [
    "# path = '/content/drive/MyDrive/project/'"
   ]
  },
  {
   "cell_type": "code",
   "execution_count": 97,
   "id": "49443946",
   "metadata": {},
   "outputs": [],
   "source": [
    "from sklearn.preprocessing import MinMaxScaler\n",
    "scaler = MinMaxScaler()\n",
    "x_train_s = scaler.fit_transform(x_train)\n",
    "x_test_s = scaler.transform(x_test)"
   ]
  },
  {
   "cell_type": "markdown",
   "id": "effcb513",
   "metadata": {},
   "source": [
    "### (2) 라이브러리 설치 및 불러오기"
   ]
  },
  {
   "cell_type": "markdown",
   "id": "66a50a8f",
   "metadata": {},
   "source": [
    "#### 1) 라이브러리 설치 및 로딩"
   ]
  },
  {
   "cell_type": "code",
   "execution_count": 754,
   "id": "6c7ede7b",
   "metadata": {},
   "outputs": [],
   "source": [
    "# 필요한 라이브러리 설치 및 불러오기\n",
    "import pandas as pd\n",
    "import numpy as np\n",
    "import matplotlib.pyplot as plt\n",
    "import seaborn as sns\n",
    "import datetime\n",
    "\n",
    "from statsmodels.graphics.mosaicplot import mosaic\n",
    "from scipy import stats as spst\n",
    "import statsmodels.api as sm\n",
    "import joblib\n",
    "\n",
    "# 더 필요한 라이브러리를 아래에 추가합니다.\n",
    "\n",
    "import pandas as pd\n",
    "\n",
    "from sklearn.neighbors import KNeighborsRegressor\n",
    "from sklearn.linear_model import LinearRegression, Lasso, Ridge, ElasticNet\n",
    "from sklearn.tree import DecisionTreeRegressor as DTR\n",
    "from sklearn.ensemble import RandomForestRegressor as RFR\n",
    "from sklearn.ensemble import GradientBoostingRegressor as GBR\n",
    "from sklearn.metrics import mean_squared_error as mse\n",
    "from sklearn.metrics import r2_score\n",
    "from sklearn.metrics import f1_score\n",
    "from sklearn.metrics import accuracy_score as acc\n",
    "from sklearn.metrics import recall_score as recall\n",
    "import joblib"
   ]
  },
  {
   "cell_type": "code",
   "execution_count": 755,
   "id": "85064fd0",
   "metadata": {},
   "outputs": [],
   "source": [
    "# 시각화 한글폰트 설정을 위해 아래 코드를 실행하세요.\n",
    "plt.rc('font', family='AppleGothic')\n",
    "sns.set(font=\"AppleGothic\",#\"NanumGothicCoding\", \n",
    "        rc={\"axes.unicode_minus\":False}, # 마이너스 부호 깨짐 현상 해결\n",
    "        style='darkgrid')"
   ]
  },
  {
   "cell_type": "markdown",
   "id": "2c10e691",
   "metadata": {},
   "source": [
    "### (3) 데이터 불러오기\n",
    "* 주어진 데이터셋\n",
    "    * 미세먼지 및 날씨 데이터 : train_x.csv / train_y.csv / test_x.csv / test_y.csv"
   ]
  },
  {
   "cell_type": "code",
   "execution_count": 756,
   "id": "c04e0ce8",
   "metadata": {},
   "outputs": [],
   "source": [
    "pd.set_option(\"display.max_columns\", 150)"
   ]
  },
  {
   "cell_type": "markdown",
   "id": "23ec5bb8",
   "metadata": {},
   "source": [
    "#### 1) 데이터 로딩"
   ]
  },
  {
   "cell_type": "code",
   "execution_count": 757,
   "id": "1b9cf763",
   "metadata": {},
   "outputs": [],
   "source": [
    "# train_x.csv / train_y.csv / test_x.csv / test_y.csv 4개의 데이터 로딩\n",
    "x_train = pd.read_csv('train_x.csv',index_col=0)\n",
    "y_train = pd.read_csv('train_y.csv',index_col=0)\n",
    "x_test = pd.read_csv('test_x.csv',index_col=0)\n",
    "y_test = pd.read_csv('test_y.csv',index_col=0)"
   ]
  },
  {
   "cell_type": "markdown",
   "id": "bc1e7485",
   "metadata": {},
   "source": [
    "#### 2) 기본 정보 조회\n",
    "* 로딩한 데이터의 기본 정보를 확인 합니다(info 등..)"
   ]
  },
  {
   "cell_type": "code",
   "execution_count": 32,
   "id": "d8cc7d75",
   "metadata": {},
   "outputs": [
    {
     "data": {
      "text/html": [
       "<div>\n",
       "<style scoped>\n",
       "    .dataframe tbody tr th:only-of-type {\n",
       "        vertical-align: middle;\n",
       "    }\n",
       "\n",
       "    .dataframe tbody tr th {\n",
       "        vertical-align: top;\n",
       "    }\n",
       "\n",
       "    .dataframe thead th {\n",
       "        text-align: right;\n",
       "    }\n",
       "</style>\n",
       "<table border=\"1\" class=\"dataframe\">\n",
       "  <thead>\n",
       "    <tr style=\"text-align: right;\">\n",
       "      <th></th>\n",
       "      <th>SO2</th>\n",
       "      <th>CO</th>\n",
       "      <th>O3</th>\n",
       "      <th>NO2</th>\n",
       "      <th>PM10</th>\n",
       "      <th>PM25</th>\n",
       "      <th>기온(°C)</th>\n",
       "      <th>강수량(mm)</th>\n",
       "      <th>풍속(m/s)</th>\n",
       "      <th>풍향(16방위)</th>\n",
       "      <th>습도(%)</th>\n",
       "      <th>증기압(hPa)</th>\n",
       "      <th>이슬점온도(°C)</th>\n",
       "      <th>현지기압(hPa)</th>\n",
       "      <th>해면기압(hPa)</th>\n",
       "      <th>전운량(10분위)</th>\n",
       "      <th>중하층운량(10분위)</th>\n",
       "      <th>시정(10m)</th>\n",
       "      <th>지면온도(°C)</th>\n",
       "      <th>5cm 지중온도(°C)</th>\n",
       "      <th>10cm 지중온도(°C)</th>\n",
       "      <th>20cm 지중온도(°C)</th>\n",
       "      <th>30cm 지중온도(°C)</th>\n",
       "      <th>month</th>\n",
       "      <th>day</th>\n",
       "      <th>hour</th>\n",
       "      <th>24_PM10</th>\n",
       "    </tr>\n",
       "    <tr>\n",
       "      <th>time</th>\n",
       "      <th></th>\n",
       "      <th></th>\n",
       "      <th></th>\n",
       "      <th></th>\n",
       "      <th></th>\n",
       "      <th></th>\n",
       "      <th></th>\n",
       "      <th></th>\n",
       "      <th></th>\n",
       "      <th></th>\n",
       "      <th></th>\n",
       "      <th></th>\n",
       "      <th></th>\n",
       "      <th></th>\n",
       "      <th></th>\n",
       "      <th></th>\n",
       "      <th></th>\n",
       "      <th></th>\n",
       "      <th></th>\n",
       "      <th></th>\n",
       "      <th></th>\n",
       "      <th></th>\n",
       "      <th></th>\n",
       "      <th></th>\n",
       "      <th></th>\n",
       "      <th></th>\n",
       "      <th></th>\n",
       "    </tr>\n",
       "  </thead>\n",
       "  <tbody>\n",
       "    <tr>\n",
       "      <th>2022-01-02 00:00:00</th>\n",
       "      <td>0.004</td>\n",
       "      <td>0.8</td>\n",
       "      <td>0.002</td>\n",
       "      <td>0.052</td>\n",
       "      <td>38.0</td>\n",
       "      <td>24.0</td>\n",
       "      <td>-2.8</td>\n",
       "      <td>0.0</td>\n",
       "      <td>2.3</td>\n",
       "      <td>50</td>\n",
       "      <td>55</td>\n",
       "      <td>2.7</td>\n",
       "      <td>-10.6</td>\n",
       "      <td>1016.3</td>\n",
       "      <td>1027.3</td>\n",
       "      <td>7</td>\n",
       "      <td>7</td>\n",
       "      <td>2000</td>\n",
       "      <td>-3.3</td>\n",
       "      <td>-0.4</td>\n",
       "      <td>-0.7</td>\n",
       "      <td>-0.3</td>\n",
       "      <td>0.8</td>\n",
       "      <td>1</td>\n",
       "      <td>2</td>\n",
       "      <td>0</td>\n",
       "      <td>23.0</td>\n",
       "    </tr>\n",
       "    <tr>\n",
       "      <th>2022-01-02 01:00:00</th>\n",
       "      <td>0.004</td>\n",
       "      <td>0.8</td>\n",
       "      <td>0.002</td>\n",
       "      <td>0.052</td>\n",
       "      <td>34.0</td>\n",
       "      <td>23.0</td>\n",
       "      <td>-2.9</td>\n",
       "      <td>0.0</td>\n",
       "      <td>2.1</td>\n",
       "      <td>50</td>\n",
       "      <td>57</td>\n",
       "      <td>2.8</td>\n",
       "      <td>-10.2</td>\n",
       "      <td>1015.8</td>\n",
       "      <td>1026.8</td>\n",
       "      <td>8</td>\n",
       "      <td>8</td>\n",
       "      <td>2000</td>\n",
       "      <td>-3.4</td>\n",
       "      <td>-0.4</td>\n",
       "      <td>-0.7</td>\n",
       "      <td>-0.3</td>\n",
       "      <td>0.8</td>\n",
       "      <td>1</td>\n",
       "      <td>2</td>\n",
       "      <td>1</td>\n",
       "      <td>20.0</td>\n",
       "    </tr>\n",
       "    <tr>\n",
       "      <th>2022-01-02 02:00:00</th>\n",
       "      <td>0.004</td>\n",
       "      <td>0.8</td>\n",
       "      <td>0.002</td>\n",
       "      <td>0.052</td>\n",
       "      <td>35.0</td>\n",
       "      <td>26.0</td>\n",
       "      <td>-2.6</td>\n",
       "      <td>0.0</td>\n",
       "      <td>1.9</td>\n",
       "      <td>50</td>\n",
       "      <td>57</td>\n",
       "      <td>2.9</td>\n",
       "      <td>-9.9</td>\n",
       "      <td>1015.3</td>\n",
       "      <td>1026.3</td>\n",
       "      <td>8</td>\n",
       "      <td>8</td>\n",
       "      <td>2000</td>\n",
       "      <td>-2.5</td>\n",
       "      <td>-0.4</td>\n",
       "      <td>-0.7</td>\n",
       "      <td>-0.3</td>\n",
       "      <td>0.8</td>\n",
       "      <td>1</td>\n",
       "      <td>2</td>\n",
       "      <td>2</td>\n",
       "      <td>20.0</td>\n",
       "    </tr>\n",
       "    <tr>\n",
       "      <th>2022-01-02 03:00:00</th>\n",
       "      <td>0.004</td>\n",
       "      <td>0.6</td>\n",
       "      <td>0.002</td>\n",
       "      <td>0.046</td>\n",
       "      <td>33.0</td>\n",
       "      <td>24.0</td>\n",
       "      <td>-2.1</td>\n",
       "      <td>0.0</td>\n",
       "      <td>2.5</td>\n",
       "      <td>50</td>\n",
       "      <td>56</td>\n",
       "      <td>2.9</td>\n",
       "      <td>-9.7</td>\n",
       "      <td>1015.1</td>\n",
       "      <td>1026.1</td>\n",
       "      <td>9</td>\n",
       "      <td>9</td>\n",
       "      <td>2000</td>\n",
       "      <td>-2.1</td>\n",
       "      <td>-0.4</td>\n",
       "      <td>-0.7</td>\n",
       "      <td>-0.3</td>\n",
       "      <td>0.8</td>\n",
       "      <td>1</td>\n",
       "      <td>2</td>\n",
       "      <td>3</td>\n",
       "      <td>19.0</td>\n",
       "    </tr>\n",
       "    <tr>\n",
       "      <th>2022-01-02 04:00:00</th>\n",
       "      <td>0.003</td>\n",
       "      <td>0.5</td>\n",
       "      <td>0.005</td>\n",
       "      <td>0.039</td>\n",
       "      <td>33.0</td>\n",
       "      <td>25.0</td>\n",
       "      <td>-1.9</td>\n",
       "      <td>0.0</td>\n",
       "      <td>2.0</td>\n",
       "      <td>50</td>\n",
       "      <td>55</td>\n",
       "      <td>2.9</td>\n",
       "      <td>-9.7</td>\n",
       "      <td>1014.3</td>\n",
       "      <td>1025.3</td>\n",
       "      <td>8</td>\n",
       "      <td>8</td>\n",
       "      <td>2000</td>\n",
       "      <td>-2.1</td>\n",
       "      <td>-0.3</td>\n",
       "      <td>-0.7</td>\n",
       "      <td>-0.3</td>\n",
       "      <td>0.8</td>\n",
       "      <td>1</td>\n",
       "      <td>2</td>\n",
       "      <td>4</td>\n",
       "      <td>24.0</td>\n",
       "    </tr>\n",
       "  </tbody>\n",
       "</table>\n",
       "</div>"
      ],
      "text/plain": [
       "                       SO2   CO     O3    NO2  PM10  PM25  기온(°C)  강수량(mm)  \\\n",
       "time                                                                         \n",
       "2022-01-02 00:00:00  0.004  0.8  0.002  0.052  38.0  24.0    -2.8      0.0   \n",
       "2022-01-02 01:00:00  0.004  0.8  0.002  0.052  34.0  23.0    -2.9      0.0   \n",
       "2022-01-02 02:00:00  0.004  0.8  0.002  0.052  35.0  26.0    -2.6      0.0   \n",
       "2022-01-02 03:00:00  0.004  0.6  0.002  0.046  33.0  24.0    -2.1      0.0   \n",
       "2022-01-02 04:00:00  0.003  0.5  0.005  0.039  33.0  25.0    -1.9      0.0   \n",
       "\n",
       "                     풍속(m/s)  풍향(16방위)  습도(%)  증기압(hPa)  이슬점온도(°C)  현지기압(hPa)  \\\n",
       "time                                                                            \n",
       "2022-01-02 00:00:00      2.3        50     55       2.7      -10.6     1016.3   \n",
       "2022-01-02 01:00:00      2.1        50     57       2.8      -10.2     1015.8   \n",
       "2022-01-02 02:00:00      1.9        50     57       2.9       -9.9     1015.3   \n",
       "2022-01-02 03:00:00      2.5        50     56       2.9       -9.7     1015.1   \n",
       "2022-01-02 04:00:00      2.0        50     55       2.9       -9.7     1014.3   \n",
       "\n",
       "                     해면기압(hPa)  전운량(10분위)  중하층운량(10분위)  시정(10m)  지면온도(°C)  \\\n",
       "time                                                                        \n",
       "2022-01-02 00:00:00     1027.3          7            7     2000      -3.3   \n",
       "2022-01-02 01:00:00     1026.8          8            8     2000      -3.4   \n",
       "2022-01-02 02:00:00     1026.3          8            8     2000      -2.5   \n",
       "2022-01-02 03:00:00     1026.1          9            9     2000      -2.1   \n",
       "2022-01-02 04:00:00     1025.3          8            8     2000      -2.1   \n",
       "\n",
       "                     5cm 지중온도(°C)  10cm 지중온도(°C)  20cm 지중온도(°C)  \\\n",
       "time                                                              \n",
       "2022-01-02 00:00:00          -0.4           -0.7           -0.3   \n",
       "2022-01-02 01:00:00          -0.4           -0.7           -0.3   \n",
       "2022-01-02 02:00:00          -0.4           -0.7           -0.3   \n",
       "2022-01-02 03:00:00          -0.4           -0.7           -0.3   \n",
       "2022-01-02 04:00:00          -0.3           -0.7           -0.3   \n",
       "\n",
       "                     30cm 지중온도(°C)  month  day  hour  24_PM10  \n",
       "time                                                           \n",
       "2022-01-02 00:00:00            0.8      1    2     0     23.0  \n",
       "2022-01-02 01:00:00            0.8      1    2     1     20.0  \n",
       "2022-01-02 02:00:00            0.8      1    2     2     20.0  \n",
       "2022-01-02 03:00:00            0.8      1    2     3     19.0  \n",
       "2022-01-02 04:00:00            0.8      1    2     4     24.0  "
      ]
     },
     "execution_count": 32,
     "metadata": {},
     "output_type": "execute_result"
    }
   ],
   "source": [
    "# 아래에 실습코드를 작성하고 결과를 확인합니다.\n",
    "x_train.head()"
   ]
  },
  {
   "cell_type": "markdown",
   "id": "20aaca37-89d7-4045-affa-5a510c69495e",
   "metadata": {
    "tags": []
   },
   "source": [
    "## **2.머신러닝 모델링**"
   ]
  },
  {
   "cell_type": "markdown",
   "id": "66dca0e8-a0d1-4562-8afe-3e8f85733393",
   "metadata": {
    "tags": []
   },
   "source": [
    "### (1) 모델링: LinearRegression"
   ]
  },
  {
   "cell_type": "markdown",
   "id": "joined-client",
   "metadata": {},
   "source": [
    "* Train과 Test로 나눈 데이터를 기준으로 LinearRegression 모델링을 진행하고 평가를 해주세요.\n",
    "* 그리고 모델 파일을 pkl로 저장해주세요.\n",
    "* 성능지표 : MSE, R-squared Score(소수점 5째자리까지)"
   ]
  },
  {
   "cell_type": "code",
   "execution_count": null,
   "id": "59c58130",
   "metadata": {},
   "outputs": [],
   "source": []
  },
  {
   "cell_type": "code",
   "execution_count": 82,
   "id": "willing-disclaimer",
   "metadata": {},
   "outputs": [
    {
     "data": {
      "text/plain": [
       "LinearRegression()"
      ]
     },
     "execution_count": 82,
     "metadata": {},
     "output_type": "execute_result"
    }
   ],
   "source": [
    "# LinearRegression 코드를 작성하세요.\n",
    "from sklearn.linear_model import LinearRegression\n",
    "from sklearn.metrics import mean_squared_error, r2_score\n",
    "\n",
    "plk = LinearRegression()\n",
    "plk.fit(x_train, y_train)"
   ]
  },
  {
   "cell_type": "code",
   "execution_count": 83,
   "id": "34e3d420-703f-4de5-bd81-4b1b167318e2",
   "metadata": {},
   "outputs": [],
   "source": [
    "# predict로 예측하여 y_pred_LR에 저장해보세요.\n",
    "y_pred_LR = plk.predict(x_test)\n"
   ]
  },
  {
   "cell_type": "code",
   "execution_count": 84,
   "id": "0a21d60f",
   "metadata": {},
   "outputs": [
    {
     "data": {
      "text/plain": [
       "45.46378865716679"
      ]
     },
     "execution_count": 84,
     "metadata": {},
     "output_type": "execute_result"
    }
   ],
   "source": [
    "# test_y 데이터와 y_pred_LR 데이터로 성능을 평가하여 출력해보세요.\n",
    "# 성능지표는 mse와 r2를 이용하세요.\n",
    "\n",
    "mean_squared_error(y_pred_LR, y_test)"
   ]
  },
  {
   "cell_type": "code",
   "execution_count": 85,
   "id": "0e351667",
   "metadata": {},
   "outputs": [
    {
     "data": {
      "text/plain": [
       "0.9566944041762635"
      ]
     },
     "execution_count": 85,
     "metadata": {},
     "output_type": "execute_result"
    }
   ],
   "source": [
    "r2_score(y_pred_LR, y_test)"
   ]
  },
  {
   "cell_type": "code",
   "execution_count": 86,
   "id": "fe2096b7",
   "metadata": {},
   "outputs": [
    {
     "data": {
      "text/plain": [
       "['Linear_model.pkl']"
      ]
     },
     "execution_count": 86,
     "metadata": {},
     "output_type": "execute_result"
    }
   ],
   "source": [
    "# 학습한 모델을 pkl 파일로 저장해보세요.(joblib 활용)\n",
    "import joblib\n",
    "joblib.dump(plk, 'Linear_model.pkl')\n"
   ]
  },
  {
   "cell_type": "code",
   "execution_count": 98,
   "id": "33e6306e",
   "metadata": {},
   "outputs": [],
   "source": [
    "# LinearRegression 코드를 작성하세요.\n",
    "from sklearn.linear_model import LinearRegression\n",
    "from sklearn.metrics import mean_squared_error, r2_score\n",
    "\n",
    "plk = LinearRegression()\n",
    "plk.fit(x_train_s, y_train)\n",
    "y_pred_LR_s = plk.predict(x_test_s)\n"
   ]
  },
  {
   "cell_type": "code",
   "execution_count": 99,
   "id": "7e2a8751",
   "metadata": {},
   "outputs": [
    {
     "data": {
      "text/plain": [
       "0.9566944041762615"
      ]
     },
     "execution_count": 99,
     "metadata": {},
     "output_type": "execute_result"
    }
   ],
   "source": [
    "r2_score(y_pred_LR_s, y_test)"
   ]
  },
  {
   "cell_type": "markdown",
   "id": "44e1265e-939a-41d6-87cd-98211da2b7d1",
   "metadata": {
    "tags": []
   },
   "source": [
    "### (2) 모델링: 랜덤포레스트"
   ]
  },
  {
   "cell_type": "markdown",
   "id": "crazy-escape",
   "metadata": {},
   "source": [
    "* 랜덤포레스트: 배깅의 일종으로 의사결정나무(Decision Tree) 여러 개를 모아서 숲을 랜덤으로 구성하고 이를 종합해서 최종 모델을 산출하는 기법\n",
    "* Train과 Test로 나눈 데이터를 기준으로 렌덤포레스트로 모델을 학습을 진행하고 평가를 해주세요.\n",
    "* 그리고 모델 파일을 pkl로 저장해주세요.\n",
    "* 성능지표 : MSE, R-squared Score(소수점 5째자리까지)"
   ]
  },
  {
   "cell_type": "code",
   "execution_count": 87,
   "id": "10b33a11",
   "metadata": {},
   "outputs": [],
   "source": [
    "# 랜덤포레스트로 모델 학습 진행 하고 성능을 평가하여 출력해 보세요.\n",
    "# 성능평가는 MSE, R-Squared Score\n",
    "from sklearn.ensemble import RandomForestRegressor\n",
    "model = RandomForestRegressor()\n",
    "model.fit(x_train, y_train.values.ravel())\n",
    "y_pred = model.predict(x_test)\n"
   ]
  },
  {
   "cell_type": "code",
   "execution_count": 88,
   "id": "41971ff8",
   "metadata": {},
   "outputs": [
    {
     "name": "stdout",
     "output_type": "stream",
     "text": [
      "69.02515366064044\n",
      "0.9350372176343927\n"
     ]
    }
   ],
   "source": [
    "# 학습한 모델을 파일로 저장해보세요.(joblib 활용)\n",
    "print(mean_squared_error(y_pred, y_test))\n",
    "print(r2_score(y_pred, y_test))\n"
   ]
  },
  {
   "cell_type": "code",
   "execution_count": 89,
   "id": "e02b5a89",
   "metadata": {},
   "outputs": [
    {
     "data": {
      "text/plain": [
       "['RF_model.pkl']"
      ]
     },
     "execution_count": 89,
     "metadata": {},
     "output_type": "execute_result"
    }
   ],
   "source": [
    "import joblib\n",
    "joblib.dump(plk, 'RF_model.pkl')"
   ]
  },
  {
   "cell_type": "code",
   "execution_count": 100,
   "id": "6924c7b0",
   "metadata": {},
   "outputs": [],
   "source": [
    "# 랜덤포레스트로 모델 학습 진행 하고 성능을 평가하여 출력해 보세요.\n",
    "# 성능평가는 MSE, R-Squared Score\n",
    "from sklearn.ensemble import RandomForestRegressor\n",
    "model = RandomForestRegressor()\n",
    "model.fit(x_train_s, y_train.values.ravel())\n",
    "y_pred = model.predict(x_test_s)\n"
   ]
  },
  {
   "cell_type": "code",
   "execution_count": 101,
   "id": "17722457",
   "metadata": {},
   "outputs": [
    {
     "name": "stdout",
     "output_type": "stream",
     "text": [
      "70.50193620689285\n",
      "0.9338457584153853\n"
     ]
    }
   ],
   "source": [
    "# 학습한 모델을 파일로 저장해보세요.(joblib 활용)\n",
    "print(mean_squared_error(y_pred, y_test))\n",
    "print(r2_score(y_pred, y_test))\n"
   ]
  },
  {
   "cell_type": "code",
   "execution_count": null,
   "id": "a9f044a6",
   "metadata": {},
   "outputs": [],
   "source": []
  },
  {
   "cell_type": "markdown",
   "id": "4b942bb3",
   "metadata": {},
   "source": [
    "### (2-1) 랜덤포레스트 feature_importances 확인\n",
    "* 렌덤포레스트로 학습한 모델의 feature_importances를 구해보세요."
   ]
  },
  {
   "cell_type": "code",
   "execution_count": 90,
   "id": "e19f84b0",
   "metadata": {},
   "outputs": [
    {
     "data": {
      "image/png": "[encoded data removed]",
      "text/plain": [
       "<Figure size 1440x576 with 1 Axes>"
      ]
     },
     "metadata": {},
     "output_type": "display_data"
    }
   ],
   "source": [
    "# 렌덤포레스트로 학습한 모델의 feature_importances를 구해보세요.\n",
    "# 아래에 필요한 코드를 작성하고 결과를 확인합니다.\n",
    "plt.figure(figsize=(20,8))\n",
    "plt.barh(list(x_train),model.feature_importances_)\n",
    "plt.show()"
   ]
  },
  {
   "cell_type": "code",
   "execution_count": 91,
   "id": "7c21c320",
   "metadata": {},
   "outputs": [],
   "source": [
    "# 확인 후 알수 있었던 인사이트가 있었으면 정리해보세요!\n",
    "#이전 pm 값이 큰 영향을 미침"
   ]
  },
  {
   "cell_type": "code",
   "execution_count": 102,
   "id": "49d373d7",
   "metadata": {},
   "outputs": [
    {
     "data": {
      "image/png": "[encoded data removed]",
      "text/plain": [
       "<Figure size 1440x576 with 1 Axes>"
      ]
     },
     "metadata": {},
     "output_type": "display_data"
    }
   ],
   "source": [
    "# 렌덤포레스트로 학습한 모델의 feature_importances를 구해보세요.\n",
    "# 아래에 필요한 코드를 작성하고 결과를 확인합니다.\n",
    "plt.figure(figsize=(20,8))\n",
    "plt.barh(list(x_train),model.feature_importances_)\n",
    "plt.show()"
   ]
  },
  {
   "cell_type": "markdown",
   "id": "95401368-9bff-4118-b07a-92b833e33f20",
   "metadata": {
    "tags": []
   },
   "source": [
    "### (3) 모델링: GradientBoosting"
   ]
  },
  {
   "cell_type": "markdown",
   "id": "convinced-vocabulary",
   "metadata": {},
   "source": [
    "* GradientBoosting: 앞선 모델의 에러를 다음 모델의 예측 값으로 활용하면서 가중치 업데이트 하는데 경사하강법(Gradient Descent)를 활용해서 최적 모델을 만드는 기법\n",
    "* Train과 Test로 나눈 데이터를 기준으로 그라디언트부스팅으로 모델을 학습을 진행하고 평가를 해주세요.\n",
    "* 그리고 모델 파일을 pkl로 저장해주세요.\n",
    "* 성능지표 : MSE, R-squared Score(소수점 5째자리까지)"
   ]
  },
  {
   "cell_type": "code",
   "execution_count": 105,
   "id": "continent-olympus",
   "metadata": {},
   "outputs": [
    {
     "data": {
      "text/plain": [
       "['GB_model.pkl']"
      ]
     },
     "execution_count": 105,
     "metadata": {},
     "output_type": "execute_result"
    }
   ],
   "source": [
    "# 아래에 필요한 코드를 작성하고 결과를 확인합니다.\n",
    "\n",
    "# 랜덤포레스트로 모델 학습 진행 하고 성능을 평가하여 출력해 보세요.\n",
    "# 성능평가는 MSE, R-Squared Score\n",
    "from sklearn.ensemble import GradientBoostingRegressor\n",
    "model = GradientBoostingRegressor()\n",
    "model.fit(x_train, y_train.values.ravel())\n",
    "y_pred = model.predict(x_test)\n",
    "joblib.dump(model, 'GB_model.pkl')"
   ]
  },
  {
   "cell_type": "code",
   "execution_count": 93,
   "id": "9bdccb80",
   "metadata": {},
   "outputs": [
    {
     "name": "stdout",
     "output_type": "stream",
     "text": [
      "72.53565\n",
      "0.93577\n"
     ]
    }
   ],
   "source": [
    "# 학습한 모델을 파일로 저장해보세요.(joblib 활용)\n",
    "\n",
    "print(np.round(mean_squared_error(y_pred, y_test),5))\n",
    "print(np.round(r2_score(y_pred, y_test),5))\n"
   ]
  },
  {
   "cell_type": "code",
   "execution_count": 230,
   "id": "fbcfb93a",
   "metadata": {},
   "outputs": [],
   "source": [
    "# 아래에 필요한 코드를 작성하고 결과를 확인합니다.\n",
    "\n",
    "# 랜덤포레스트로 모델 학습 진행 하고 성능을 평가하여 출력해 보세요.\n",
    "# 성능평가는 MSE, R-Squared Score\n",
    "from sklearn.ensemble import GradientBoostingRegressor\n",
    "model = GradientBoostingRegressor()\n",
    "model.fit(x_train_s, y_train.values.ravel())\n",
    "y_pred = model.predict(x_test_s)\n"
   ]
  },
  {
   "cell_type": "code",
   "execution_count": 107,
   "id": "d2a58ef9",
   "metadata": {},
   "outputs": [
    {
     "name": "stdout",
     "output_type": "stream",
     "text": [
      "73.62669\n",
      "0.93494\n"
     ]
    }
   ],
   "source": [
    "# 학습한 모델을 파일로 저장해보세요.(joblib 활용)\n",
    "\n",
    "print(np.round(mean_squared_error(y_pred, y_test),5))\n",
    "print(np.round(r2_score(y_pred, y_test),5))\n"
   ]
  },
  {
   "cell_type": "markdown",
   "id": "803ed8fd",
   "metadata": {},
   "source": [
    "### (3-1) 그라디언트부스팅 feature_importances 확인\n",
    "* 학습한 모델의 feature_importances를 구해보세요."
   ]
  },
  {
   "cell_type": "code",
   "execution_count": 108,
   "id": "8deba58d",
   "metadata": {
    "scrolled": true
   },
   "outputs": [
    {
     "data": {
      "image/png": "[encoded data removed]",
      "text/plain": [
       "<Figure size 1440x576 with 1 Axes>"
      ]
     },
     "metadata": {},
     "output_type": "display_data"
    }
   ],
   "source": [
    "# 그라디언트부스팅으로 학습한 모델의 feature_importances를 구해보세요.\n",
    "# 아래에 필요한 코드를 작성하고 결과를 확인합니다.\n",
    "plt.figure(figsize=(20,8))\n",
    "plt.barh(list(x_train),model.feature_importances_)\n",
    "plt.show()"
   ]
  },
  {
   "cell_type": "code",
   "execution_count": 95,
   "id": "9d1bfe7d",
   "metadata": {
    "tags": []
   },
   "outputs": [],
   "source": [
    "# 확인 후 알수 있었던 인사이트가 있었으면 정리해보세요!\n"
   ]
  },
  {
   "cell_type": "markdown",
   "id": "eb89852b-b155-4f0a-aaef-2a035caccda7",
   "metadata": {
    "tags": []
   },
   "source": [
    "### (4) 모델링: Self Choice Model "
   ]
  },
  {
   "cell_type": "markdown",
   "id": "305bbd5b",
   "metadata": {},
   "source": [
    "* Self Choice Model: 앞선 교육과정에서 배운 머신러닝 모델 중 어떤 것이든 좋습니다. 원하는 모델을 선택해서 학습을 시켜보세요.\n",
    "* Train과 Test로 나눈 데이터를 기준으로 Self Choice Model로 모델을 학습을 진행하고 평가를 해주세요.\n",
    "* 그리고 모델 파일을 pkl로 저장해주세요.\n",
    "* 성능지표 : MSE, R-squared Score(소수점 5째자리까지)"
   ]
  },
  {
   "cell_type": "code",
   "execution_count": 96,
   "id": "a2c66605",
   "metadata": {},
   "outputs": [
    {
     "ename": "SyntaxError",
     "evalue": "invalid syntax (1708944438.py, line 2)",
     "output_type": "error",
     "traceback": [
      "\u001b[0;36m  File \u001b[0;32m\"/var/folders/mj/4721wdlx14z7chpqqlq171fw0000gn/T/ipykernel_2332/1708944438.py\"\u001b[0;36m, line \u001b[0;32m2\u001b[0m\n\u001b[0;31m    import sklearn.\u001b[0m\n\u001b[0m                   ^\u001b[0m\n\u001b[0;31mSyntaxError\u001b[0m\u001b[0;31m:\u001b[0m invalid syntax\n"
     ]
    }
   ],
   "source": [
    "# 아래에 필요한 코드를 작성하고 결과를 확인합니다.\n",
    "import sklearn."
   ]
  },
  {
   "cell_type": "code",
   "execution_count": null,
   "id": "546ac8bf",
   "metadata": {},
   "outputs": [],
   "source": [
    "# Test 데이터로 성능을 평가해보세요.\n",
    "\n"
   ]
  },
  {
   "cell_type": "code",
   "execution_count": null,
   "id": "e69d0d7c",
   "metadata": {},
   "outputs": [],
   "source": [
    "# 학습한 모델을 파일로 저장해보세요.\n",
    "\n",
    "\n"
   ]
  },
  {
   "cell_type": "code",
   "execution_count": null,
   "id": "a8ac782c",
   "metadata": {},
   "outputs": [],
   "source": [
    "# 시간이 되면 Seif choice Model로 학습한 모델의 feature_importances를 구해보세요.\n",
    "# 확인 후 알수 있었던 인사이트가 있었으면 정리해보세요!"
   ]
  },
  {
   "cell_type": "markdown",
   "id": "cb9a8cf9",
   "metadata": {},
   "source": [
    "# 고생하셨습니다👍👍 "
   ]
  },
  {
   "cell_type": "code",
   "execution_count": 489,
   "id": "7a969f52",
   "metadata": {},
   "outputs": [
    {
     "name": "stderr",
     "output_type": "stream",
     "text": [
      "/Users/nacho/opt/anaconda3/lib/python3.9/site-packages/sklearn/preprocessing/_data.py:400: RuntimeWarning: All-NaN slice encountered\n",
      "  data_min = np.nanmin(X, axis=0)\n",
      "/Users/nacho/opt/anaconda3/lib/python3.9/site-packages/sklearn/preprocessing/_data.py:401: RuntimeWarning: All-NaN slice encountered\n",
      "  data_max = np.nanmax(X, axis=0)\n"
     ]
    },
    {
     "ename": "ValueError",
     "evalue": "X has 27 features, but MinMaxScaler is expecting 7 features as input.",
     "output_type": "error",
     "traceback": [
      "\u001b[0;31m---------------------------------------------------------------------------\u001b[0m",
      "\u001b[0;31mValueError\u001b[0m                                Traceback (most recent call last)",
      "\u001b[0;32m/var/folders/mj/4721wdlx14z7chpqqlq171fw0000gn/T/ipykernel_2332/920221328.py\u001b[0m in \u001b[0;36m<module>\u001b[0;34m\u001b[0m\n\u001b[1;32m      2\u001b[0m \u001b[0mscaler\u001b[0m \u001b[0;34m=\u001b[0m \u001b[0mMinMaxScaler\u001b[0m\u001b[0;34m(\u001b[0m\u001b[0;34m)\u001b[0m\u001b[0;34m\u001b[0m\u001b[0;34m\u001b[0m\u001b[0m\n\u001b[1;32m      3\u001b[0m \u001b[0mx_train_s\u001b[0m \u001b[0;34m=\u001b[0m \u001b[0mscaler\u001b[0m\u001b[0;34m.\u001b[0m\u001b[0mfit_transform\u001b[0m\u001b[0;34m(\u001b[0m\u001b[0mx_train_s\u001b[0m\u001b[0;34m)\u001b[0m\u001b[0;34m\u001b[0m\u001b[0;34m\u001b[0m\u001b[0m\n\u001b[0;32m----> 4\u001b[0;31m \u001b[0mx_test_s\u001b[0m \u001b[0;34m=\u001b[0m \u001b[0mscaler\u001b[0m\u001b[0;34m.\u001b[0m\u001b[0mtransform\u001b[0m\u001b[0;34m(\u001b[0m\u001b[0mx_test\u001b[0m\u001b[0;34m)\u001b[0m\u001b[0;34m\u001b[0m\u001b[0;34m\u001b[0m\u001b[0m\n\u001b[0m",
      "\u001b[0;32m~/opt/anaconda3/lib/python3.9/site-packages/sklearn/preprocessing/_data.py\u001b[0m in \u001b[0;36mtransform\u001b[0;34m(self, X)\u001b[0m\n\u001b[1;32m    432\u001b[0m         \u001b[0mcheck_is_fitted\u001b[0m\u001b[0;34m(\u001b[0m\u001b[0mself\u001b[0m\u001b[0;34m)\u001b[0m\u001b[0;34m\u001b[0m\u001b[0;34m\u001b[0m\u001b[0m\n\u001b[1;32m    433\u001b[0m \u001b[0;34m\u001b[0m\u001b[0m\n\u001b[0;32m--> 434\u001b[0;31m         X = self._validate_data(X, copy=self.copy, dtype=FLOAT_DTYPES,\n\u001b[0m\u001b[1;32m    435\u001b[0m                                 force_all_finite=\"allow-nan\", reset=False)\n\u001b[1;32m    436\u001b[0m \u001b[0;34m\u001b[0m\u001b[0m\n",
      "\u001b[0;32m~/opt/anaconda3/lib/python3.9/site-packages/sklearn/base.py\u001b[0m in \u001b[0;36m_validate_data\u001b[0;34m(self, X, y, reset, validate_separately, **check_params)\u001b[0m\n\u001b[1;32m    435\u001b[0m \u001b[0;34m\u001b[0m\u001b[0m\n\u001b[1;32m    436\u001b[0m         \u001b[0;32mif\u001b[0m \u001b[0mcheck_params\u001b[0m\u001b[0;34m.\u001b[0m\u001b[0mget\u001b[0m\u001b[0;34m(\u001b[0m\u001b[0;34m'ensure_2d'\u001b[0m\u001b[0;34m,\u001b[0m \u001b[0;32mTrue\u001b[0m\u001b[0;34m)\u001b[0m\u001b[0;34m:\u001b[0m\u001b[0;34m\u001b[0m\u001b[0;34m\u001b[0m\u001b[0m\n\u001b[0;32m--> 437\u001b[0;31m             \u001b[0mself\u001b[0m\u001b[0;34m.\u001b[0m\u001b[0m_check_n_features\u001b[0m\u001b[0;34m(\u001b[0m\u001b[0mX\u001b[0m\u001b[0;34m,\u001b[0m \u001b[0mreset\u001b[0m\u001b[0;34m=\u001b[0m\u001b[0mreset\u001b[0m\u001b[0;34m)\u001b[0m\u001b[0;34m\u001b[0m\u001b[0;34m\u001b[0m\u001b[0m\n\u001b[0m\u001b[1;32m    438\u001b[0m \u001b[0;34m\u001b[0m\u001b[0m\n\u001b[1;32m    439\u001b[0m         \u001b[0;32mreturn\u001b[0m \u001b[0mout\u001b[0m\u001b[0;34m\u001b[0m\u001b[0;34m\u001b[0m\u001b[0m\n",
      "\u001b[0;32m~/opt/anaconda3/lib/python3.9/site-packages/sklearn/base.py\u001b[0m in \u001b[0;36m_check_n_features\u001b[0;34m(self, X, reset)\u001b[0m\n\u001b[1;32m    363\u001b[0m \u001b[0;34m\u001b[0m\u001b[0m\n\u001b[1;32m    364\u001b[0m         \u001b[0;32mif\u001b[0m \u001b[0mn_features\u001b[0m \u001b[0;34m!=\u001b[0m \u001b[0mself\u001b[0m\u001b[0;34m.\u001b[0m\u001b[0mn_features_in_\u001b[0m\u001b[0;34m:\u001b[0m\u001b[0;34m\u001b[0m\u001b[0;34m\u001b[0m\u001b[0m\n\u001b[0;32m--> 365\u001b[0;31m             raise ValueError(\n\u001b[0m\u001b[1;32m    366\u001b[0m                 \u001b[0;34mf\"X has {n_features} features, but {self.__class__.__name__} \"\u001b[0m\u001b[0;34m\u001b[0m\u001b[0;34m\u001b[0m\u001b[0m\n\u001b[1;32m    367\u001b[0m                 f\"is expecting {self.n_features_in_} features as input.\")\n",
      "\u001b[0;31mValueError\u001b[0m: X has 27 features, but MinMaxScaler is expecting 7 features as input."
     ]
    }
   ],
   "source": [
    "from sklearn.preprocessing import MinMaxScaler\n",
    "scaler = MinMaxScaler()\n",
    "x_train_s = scaler.fit_transform(x_train_s)\n",
    "x_test_s = scaler.transform(x_test)"
   ]
  },
  {
   "cell_type": "code",
   "execution_count": null,
   "id": "681b0579",
   "metadata": {
    "scrolled": true
   },
   "outputs": [],
   "source": []
  },
  {
   "cell_type": "code",
   "execution_count": null,
   "id": "a07b3c99",
   "metadata": {},
   "outputs": [],
   "source": []
  },
  {
   "cell_type": "code",
   "execution_count": 697,
   "id": "b6ee310e",
   "metadata": {},
   "outputs": [],
   "source": [
    "col = ['PM10','PM25','증기압(hPa)','30cm 지중온도(°C)']"
   ]
  },
  {
   "cell_type": "code",
   "execution_count": 698,
   "id": "96f16196",
   "metadata": {
    "scrolled": true
   },
   "outputs": [
    {
     "data": {
      "text/plain": [
       "RandomForestRegressor(max_depth=6, random_state=1)"
      ]
     },
     "execution_count": 698,
     "metadata": {},
     "output_type": "execute_result"
    }
   ],
   "source": [
    "from sklearn.ensemble import RandomForestRegressor\n",
    "model = RandomForestRegressor(max_depth=6, random_state=1)\n",
    "model.fit(x_train[col], y_train.values.ravel())\n"
   ]
  },
  {
   "cell_type": "code",
   "execution_count": 699,
   "id": "496dd4ee",
   "metadata": {},
   "outputs": [],
   "source": [
    "y_pred = model.predict(x_test[col])\n"
   ]
  },
  {
   "cell_type": "code",
   "execution_count": 700,
   "id": "ab38a32f",
   "metadata": {},
   "outputs": [
    {
     "name": "stdout",
     "output_type": "stream",
     "text": [
      "46.38338\n",
      "0.95659\n"
     ]
    }
   ],
   "source": [
    "\n",
    "print(np.round(mean_squared_error(y_pred, y_test),5))\n",
    "print(np.round(r2_score(y_pred, y_test),5))"
   ]
  },
  {
   "cell_type": "code",
   "execution_count": 701,
   "id": "6d762783",
   "metadata": {},
   "outputs": [
    {
     "data": {
      "image/png": "[encoded data removed]",
      "text/plain": [
       "<Figure size 1440x576 with 1 Axes>"
      ]
     },
     "metadata": {},
     "output_type": "display_data"
    }
   ],
   "source": [
    "plt.figure(figsize=(20,8))\n",
    "plt.barh(list(x_train[col]),model.feature_importances_)\n",
    "plt.show()"
   ]
  },
  {
   "cell_type": "code",
   "execution_count": 504,
   "id": "9998b57e",
   "metadata": {},
   "outputs": [],
   "source": [
    "from sklearn.model_selection import GridSearchCV\n",
    "param = {'max_depth' : range(1,10)}\n",
    "model = GridSearchCV(model, param, cv=10)"
   ]
  },
  {
   "cell_type": "code",
   "execution_count": 505,
   "id": "3a5a6707",
   "metadata": {},
   "outputs": [],
   "source": [
    "model.fit(x_train[col], y_train.values.ravel())\n",
    "y_pred = model.predict(x_test[col])"
   ]
  },
  {
   "cell_type": "code",
   "execution_count": 506,
   "id": "73a5d55b",
   "metadata": {},
   "outputs": [
    {
     "name": "stdout",
     "output_type": "stream",
     "text": [
      "48.77091\n",
      "0.95354\n"
     ]
    }
   ],
   "source": [
    "print(np.round(mean_squared_error(y_pred, y_test),5))\n",
    "print(np.round(r2_score(y_pred, y_test),5))\n"
   ]
  },
  {
   "cell_type": "code",
   "execution_count": 507,
   "id": "fa868598",
   "metadata": {},
   "outputs": [
    {
     "data": {
      "text/plain": [
       "{'max_depth': 5}"
      ]
     },
     "execution_count": 507,
     "metadata": {},
     "output_type": "execute_result"
    }
   ],
   "source": [
    "model.best_params_"
   ]
  },
  {
   "cell_type": "code",
   "execution_count": null,
   "id": "cd64e18a",
   "metadata": {},
   "outputs": [],
   "source": [
    "\n",
    "from sklearn.ensemble import GradientBoostingRegressor\n",
    "model = GradientBoostingRegressor()\n",
    "model.fit(x_train[col], y_train.values.ravel())\n",
    "y_pred = model.predict(x_test[col])\n"
   ]
  },
  {
   "cell_type": "code",
   "execution_count": null,
   "id": "c5e420f8",
   "metadata": {},
   "outputs": [],
   "source": [
    "print(np.round(mean_squared_error(y_pred, y_test),5))\n",
    "print(np.round(r2_score(y_pred, y_test),5))"
   ]
  },
  {
   "cell_type": "code",
   "execution_count": 726,
   "id": "cf205332",
   "metadata": {},
   "outputs": [
    {
     "name": "stdout",
     "output_type": "stream",
     "text": [
      "['CO' 'O3' '기온(°C)' '풍향(16방위)' '습도(%)' '증기압(hPa)' '이슬점온도(°C)' '시정(10m)'\n",
      " '30cm 지중온도(°C)' 'month' 'day' '24_PM10']\n"
     ]
    }
   ],
   "source": [
    "#1. 모듈 및 함수 불러오기\n",
    "from sklearn.feature_selection import RFE\n",
    "from sklearn.ensemble import RandomForestRegressor\n",
    "import numpy as np\n",
    "\n",
    "#2. 반복적 변수 선택\n",
    "select = RFE(RandomForestRegressor(n_estimators = 100, random_state = 1))\n",
    "select.fit(x_train.drop(['PM10','PM25'],axis=1), y_train.values.ravel())\n",
    "\n",
    "#3. 선택된 변수 출력\n",
    "features_bool = np.array(select.get_support())\n",
    "features = np.array(x_train.drop(['PM10','PM25'],axis=1).columns)\n",
    "result = features[features_bool]\n",
    "print(result)"
   ]
  },
  {
   "cell_type": "code",
   "execution_count": 736,
   "id": "e407015c",
   "metadata": {},
   "outputs": [],
   "source": [
    "cols=['O3','NO2','PM10','PM25','풍속(m/s)','습도(%)', '이슬점온도(°C)', '현지기압(hPa)','해면기압(hPa)', '시정(10m)', '10cm 지중온도(°C)', 'hour', '24_PM10']"
   ]
  },
  {
   "cell_type": "code",
   "execution_count": 727,
   "id": "551c3f9c",
   "metadata": {},
   "outputs": [],
   "source": [
    "cols_2 = ['CO', 'O3', '기온(°C)', '풍향(16방위)', '습도(%)', '증기압(hPa)', '이슬점온도(°C)', '시정(10m)','30cm 지중온도(°C)', 'month', 'day', '24_PM10']"
   ]
  },
  {
   "cell_type": "code",
   "execution_count": 760,
   "id": "819ff5e9",
   "metadata": {},
   "outputs": [
    {
     "name": "stdout",
     "output_type": "stream",
     "text": [
      "702.1119\n",
      "-1.12975\n"
     ]
    }
   ],
   "source": [
    "from sklearn.ensemble import RandomForestRegressor\n",
    "model = RandomForestRegressor(max_depth=6, random_state=1)\n",
    "model.fit(x_train[cols_2], y_train.values.ravel())\n",
    "y_pred = model.predict(x_test[cols_2])\n",
    "print(np.round(mean_squared_error(y_pred, y_test),5))\n",
    "print(np.round(r2_score(y_pred, y_test),5))"
   ]
  },
  {
   "cell_type": "code",
   "execution_count": 732,
   "id": "e18a89d4",
   "metadata": {},
   "outputs": [
    {
     "name": "stdout",
     "output_type": "stream",
     "text": [
      "709.91892\n",
      "-1.52627\n"
     ]
    }
   ],
   "source": [
    "from sklearn.linear_model import LinearRegression\n",
    "from sklearn.metrics import mean_squared_error, r2_score\n",
    "\n",
    "model = LinearRegression()\n",
    "model.fit(x_train[cols_2], y_train)\n",
    "y_pred_LR = model.predict(x_test[cols_2])\n",
    "print(np.round(mean_squared_error(y_pred_LR, y_test),5))\n",
    "print(np.round(r2_score(y_pred_LR, y_test),5))\n"
   ]
  },
  {
   "cell_type": "code",
   "execution_count": 741,
   "id": "66b91e6c",
   "metadata": {},
   "outputs": [
    {
     "name": "stdout",
     "output_type": "stream",
     "text": [
      "668.68342\n",
      "-0.75033\n"
     ]
    }
   ],
   "source": [
    "from sklearn.ensemble import GradientBoostingRegressor\n",
    "model = GradientBoostingRegressor()\n",
    "model.fit(x_train[cols_2], y_train.values.ravel())\n",
    "y_pred = model.predict(x_test[cols_2])\n",
    "print(np.round(mean_squared_error(y_pred, y_test),5))\n",
    "print(np.round(r2_score(y_pred, y_test),5))"
   ]
  },
  {
   "cell_type": "code",
   "execution_count": 734,
   "id": "c9dae887",
   "metadata": {
    "scrolled": true
   },
   "outputs": [
    {
     "name": "stdout",
     "output_type": "stream",
     "text": [
      "731.15922\n",
      "-1.03601\n"
     ]
    }
   ],
   "source": [
    "from sklearn.neighbors import KNeighborsRegressor\n",
    "model = KNeighborsRegressor()\n",
    "model.fit(x_train[cols_2], y_train)\n",
    "y_pred = model.predict(x_test[cols_2])\n",
    "print(np.round(mean_squared_error(y_pred, y_test),5))\n",
    "print(np.round(r2_score(y_pred, y_test),5))"
   ]
  },
  {
   "cell_type": "code",
   "execution_count": null,
   "id": "a9054cc5",
   "metadata": {},
   "outputs": [],
   "source": []
  },
  {
   "cell_type": "code",
   "execution_count": null,
   "id": "f532df16",
   "metadata": {},
   "outputs": [],
   "source": []
  },
  {
   "cell_type": "code",
   "execution_count": null,
   "id": "33e5efd6",
   "metadata": {},
   "outputs": [],
   "source": []
  },
  {
   "cell_type": "code",
   "execution_count": 737,
   "id": "9a5883dd",
   "metadata": {},
   "outputs": [
    {
     "name": "stdout",
     "output_type": "stream",
     "text": [
      "76.25257\n",
      "0.93147\n"
     ]
    }
   ],
   "source": [
    "from sklearn.ensemble import RandomForestRegressor\n",
    "model = RandomForestRegressor(max_depth=6, random_state=1)\n",
    "model.fit(x_train[cols], y_train.values.ravel())\n",
    "y_pred = model.predict(x_test[cols])\n",
    "print(np.round(mean_squared_error(y_pred, y_test),5))\n",
    "print(np.round(r2_score(y_pred, y_test),5))"
   ]
  },
  {
   "cell_type": "code",
   "execution_count": 738,
   "id": "bd0bea11",
   "metadata": {},
   "outputs": [
    {
     "name": "stdout",
     "output_type": "stream",
     "text": [
      "45.87086\n",
      "0.95627\n"
     ]
    }
   ],
   "source": [
    "from sklearn.linear_model import LinearRegression\n",
    "from sklearn.metrics import mean_squared_error, r2_score\n",
    "\n",
    "model = LinearRegression()\n",
    "model.fit(x_train[cols], y_train)\n",
    "y_pred_LR = model.predict(x_test[cols])\n",
    "print(np.round(mean_squared_error(y_pred_LR, y_test),5))\n",
    "print(np.round(r2_score(y_pred_LR, y_test),5))\n"
   ]
  },
  {
   "cell_type": "code",
   "execution_count": 740,
   "id": "5d5ae65a",
   "metadata": {},
   "outputs": [
    {
     "name": "stdout",
     "output_type": "stream",
     "text": [
      "80.98836\n",
      "0.9296\n"
     ]
    }
   ],
   "source": [
    "from sklearn.ensemble import GradientBoostingRegressor\n",
    "model = GradientBoostingRegressor()\n",
    "model.fit(x_train[cols], y_train.values.ravel())\n",
    "y_pred = model.predict(x_test[cols])\n",
    "print(np.round(mean_squared_error(y_pred, y_test),5))\n",
    "print(np.round(r2_score(y_pred, y_test),5))"
   ]
  },
  {
   "cell_type": "code",
   "execution_count": 742,
   "id": "a651495d",
   "metadata": {},
   "outputs": [
    {
     "name": "stdout",
     "output_type": "stream",
     "text": [
      "233.9037\n",
      "0.60656\n"
     ]
    }
   ],
   "source": [
    "from sklearn.neighbors import KNeighborsRegressor\n",
    "model = KNeighborsRegressor()\n",
    "model.fit(x_train[cols], y_train)\n",
    "y_pred = model.predict(x_test[cols])\n",
    "print(np.round(mean_squared_error(y_pred, y_test),5))\n",
    "print(np.round(r2_score(y_pred, y_test),5))"
   ]
  },
  {
   "cell_type": "code",
   "execution_count": 749,
   "id": "2cd9c928",
   "metadata": {},
   "outputs": [
    {
     "name": "stdout",
     "output_type": "stream",
     "text": [
      "257.11281\n",
      "0.81629\n"
     ]
    }
   ],
   "source": [
    "from xgboost import XGBRegressor\n",
    "model = XGBRegressor()\n",
    "model.fit(x_train[cols], y_train)\n",
    "y_pred = model.predict(x_test[cols])\n",
    "print(np.round(mean_squared_error(y_pred, y_test),5))\n",
    "print(np.round(r2_score(y_pred, y_test),5))\n"
   ]
  },
  {
   "cell_type": "code",
   "execution_count": null,
   "id": "6d6ea923",
   "metadata": {},
   "outputs": [],
   "source": []
  }
 ],
 "metadata": {
  "kernelspec": {
   "display_name": "Python 3 (ipykernel)",
   "language": "python",
   "name": "python3"
  },
  "language_info": {
   "codemirror_mode": {
    "name": "ipython",
    "version": 3
   },
   "file_extension": ".py",
   "mimetype": "text/x-python",
   "name": "python",
   "nbconvert_exporter": "python",
   "pygments_lexer": "ipython3",
   "version": "3.9.7"
  },
  "vscode": {
   "interpreter": {
    "hash": "f08154012ddadd8e950e6e9e035c7a7b32c136e7647e9b7c77e02eb723a8bedb"
   }
  }
 },
 "nbformat": 4,
 "nbformat_minor": 5
}
