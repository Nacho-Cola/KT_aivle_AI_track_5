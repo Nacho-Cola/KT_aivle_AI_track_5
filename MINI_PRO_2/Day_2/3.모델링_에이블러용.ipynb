{
 "cells": [
  {
   "cell_type": "markdown",
   "metadata": {
    "id": "qsIsGzftJuH9"
   },
   "source": [
    "# 장애인콜택시 대기시간 예측\n",
    "## 단계3. 모델링"
   ]
  },
  {
   "cell_type": "markdown",
   "metadata": {
    "id": "Dh02CX03JuES"
   },
   "source": [
    "## 0.미션\n",
    "\n",
    "* 1.시계열 데이터에 맞는 전처리\n",
    "    * 데이터가 2015 ~ 2022년까지 데이터 입니다.\n",
    "    * 이 중 2022년 10월 ~ 2022년 12월까지(3개월)의 데이터는 성능 검증용으로 사용합니다.\n",
    "    * 나머지 데이터를 이용하여 학습 및 튜닝을 수행합니다.\n",
    "    * 이를 위한 데이터 전처리를 수행하시오.\n",
    "* 2.모델 최적화\n",
    "    * 머신러닝 \n",
    "        * 알고리즘 중 3가지 이상을 선정하여 모델링을 수행합니다.\n",
    "        * 각각 알고리즘에 맞는 튜닝 방법으로 최적의 모델을 만듭니다.\n",
    "    \n",
    "    * 성능 평가\n",
    "        * 시계열 그래프로 모델의 실제값과 예측값을 시각화하여 비교합니다.\n",
    "        * 성능 지표 (MAE, MAPE) 를 사용해 가장 성능이 높은 모델을 선정합니다.\n",
    "        * 성능 가이드\n",
    "            * MAE : 4 ~ 6\n",
    "            * MAPE : 0.09~0.14"
   ]
  },
  {
   "cell_type": "markdown",
   "metadata": {
    "id": "dWToio0hXNVS"
   },
   "source": [
    "## 1.환경설정"
   ]
  },
  {
   "cell_type": "markdown",
   "metadata": {
    "id": "pP-BXtKh2q7l"
   },
   "source": [
    "* 세부 요구사항\n",
    "    - 경로 설정 : 다음의 두가지 방법 중 하나를 선택하여 폴더를 준비하고 데이터를 로딩하시오.\n",
    "        * 1) 로컬 수행(Ananconda)\n",
    "            * 제공된 압축파일을 다운받아 압축을 풀고\n",
    "            * anaconda의 root directory(보통 C:/Users/< ID > 에 project 폴더를 만들고, 복사해 넣습니다.\n",
    "        * 2) 구글콜랩\n",
    "            * 구글 드라이브 바로 밑에 project 폴더를 만들고, \n",
    "            * 데이터 파일을 복사해 넣습니다.\n",
    "    - 라이브러리 설치 및 로딩\n",
    "        * requirements.txt 파일로 부터 라이브러리 설치\n",
    "    - 기본적으로 필요한 라이브러리를 import 하도록 코드가 작성되어 있습니다. \n",
    "        * 필요하다고 판단되는 라이브러리를 추가하세요.\n"
   ]
  },
  {
   "cell_type": "markdown",
   "metadata": {
    "id": "mpyr7Htc2ttd"
   },
   "source": [
    "### (1) 경로 설정"
   ]
  },
  {
   "cell_type": "markdown",
   "metadata": {
    "id": "cVm98Ekg2tCV"
   },
   "source": [
    "#### 1) 로컬 수행(Anaconda)\n",
    "* project 폴더에 필요한 파일들을 넣고, 본 파일을 열었다면, 별도 경로 지정이 필요하지 않습니다."
   ]
  },
  {
   "cell_type": "code",
   "execution_count": 1265,
   "metadata": {
    "id": "thip71iF2u6O"
   },
   "outputs": [],
   "source": [
    "# path = 'C:/Users/User/project/'"
   ]
  },
  {
   "cell_type": "markdown",
   "metadata": {
    "id": "hERdsWit-trZ"
   },
   "source": [
    "#### 2) 구글 콜랩 수행"
   ]
  },
  {
   "cell_type": "markdown",
   "metadata": {
    "id": "LFjLC21x-wQw"
   },
   "source": [
    "* 구글 드라이브 연결"
   ]
  },
  {
   "cell_type": "code",
   "execution_count": 1328,
   "metadata": {
    "colab": {
     "base_uri": "https://localhost:8080/"
    },
    "executionInfo": {
     "elapsed": 26396,
     "status": "ok",
     "timestamp": 1682643404496,
     "user": {
      "displayName": "한기영",
      "userId": "13049187003176135487"
     },
     "user_tz": -540
    },
    "id": "dd0SPbYdfhS9",
    "outputId": "fb391d78-dd28-4df7-ab11-d651d0abbf0f"
   },
   "outputs": [],
   "source": [
    "# from google.colab import drive\n",
    "# drive.mount('/content/drive')"
   ]
  },
  {
   "cell_type": "code",
   "execution_count": 1329,
   "metadata": {
    "executionInfo": {
     "elapsed": 504,
     "status": "ok",
     "timestamp": 1682643419319,
     "user": {
      "displayName": "한기영",
      "userId": "13049187003176135487"
     },
     "user_tz": -540
    },
    "id": "y5OIDazoeIN4"
   },
   "outputs": [],
   "source": [
    "# path = '/content/drive/MyDrive/project/'"
   ]
  },
  {
   "cell_type": "markdown",
   "metadata": {
    "id": "KnzVh2LmkLDU"
   },
   "source": [
    "### (2) 라이브러리 설치 및 불러오기"
   ]
  },
  {
   "cell_type": "markdown",
   "metadata": {
    "id": "TxDeBHnw_Gq5"
   },
   "source": [
    "#### 1) 설치"
   ]
  },
  {
   "cell_type": "markdown",
   "metadata": {
    "id": "rEN-C8Xw_I2e"
   },
   "source": [
    "* requirements.txt 파일을 아래 위치에 두고 다음 코드를 실행하시오.\n",
    "    * 로컬 : 다음 코드셀 실행\n",
    "    * 구글콜랩 : requirements.txt 파일을 왼쪽 [파일]탭에 복사해 넣고 다음 코드셀 실행"
   ]
  },
  {
   "cell_type": "code",
   "execution_count": 2477,
   "metadata": {
    "id": "pnfz4cCX_JsI"
   },
   "outputs": [],
   "source": [
    "# !pip install -r requirements.txt"
   ]
  },
  {
   "cell_type": "markdown",
   "metadata": {
    "id": "G3QEp8AI_SEY"
   },
   "source": [
    "#### 2) 라이브러리 로딩"
   ]
  },
  {
   "cell_type": "markdown",
   "metadata": {
    "id": "I_rCs78QJZmI"
   },
   "source": [
    "* **세부 요구사항**\n",
    "    - 기본적으로 필요한 라이브러리를 import 하도록 코드가 작성되어 있습니다.\n",
    "    - 필요하다고 판단되는 라이브러리를 추가하세요."
   ]
  },
  {
   "cell_type": "code",
   "execution_count": 2478,
   "metadata": {
    "executionInfo": {
     "elapsed": 1863,
     "status": "ok",
     "timestamp": 1682643424565,
     "user": {
      "displayName": "한기영",
      "userId": "13049187003176135487"
     },
     "user_tz": -540
    },
    "id": "3rsQerEaELwI"
   },
   "outputs": [],
   "source": [
    "import pandas as pd\n",
    "import numpy as np\n",
    "import matplotlib.pyplot as plt\n",
    "import seaborn as sns\n",
    "\n",
    "import joblib\n",
    "\n",
    "# 필요하다고 판단되는 라이브러리를 추가하세요.\n",
    "\n",
    "from sklearn.model_selection import train_test_split, GridSearchCV\n",
    "from sklearn.metrics import *\n",
    "from sklearn.preprocessing import MinMaxScaler"
   ]
  },
  {
   "cell_type": "code",
   "execution_count": 2479,
   "metadata": {},
   "outputs": [],
   "source": [
    "from sklearn.linear_model import LinearRegression\n",
    "from sklearn.neighbors import KNeighborsRegressor\n",
    "from sklearn.svm import SVR\n",
    "from sklearn.ensemble import RandomForestRegressor\n",
    "from xgboost import XGBRegressor"
   ]
  },
  {
   "cell_type": "markdown",
   "metadata": {
    "id": "wsLDv9tZc_i1"
   },
   "source": [
    "### (3) 데이터 불러오기\n",
    "* 주어진 데이터셋\n",
    "    * [2.탐색적 데이터분석] 단계에서 저장한 파일 : data2.pkl\n"
   ]
  },
  {
   "cell_type": "code",
   "execution_count": 2480,
   "metadata": {
    "executionInfo": {
     "elapsed": 877,
     "status": "ok",
     "timestamp": 1682643425437,
     "user": {
      "displayName": "한기영",
      "userId": "13049187003176135487"
     },
     "user_tz": -540
    },
    "id": "FT_JFnclfcQ4"
   },
   "outputs": [
    {
     "data": {
      "text/html": [
       "<div>\n",
       "<style scoped>\n",
       "    .dataframe tbody tr th:only-of-type {\n",
       "        vertical-align: middle;\n",
       "    }\n",
       "\n",
       "    .dataframe tbody tr th {\n",
       "        vertical-align: top;\n",
       "    }\n",
       "\n",
       "    .dataframe thead th {\n",
       "        text-align: right;\n",
       "    }\n",
       "</style>\n",
       "<table border=\"1\" class=\"dataframe\">\n",
       "  <thead>\n",
       "    <tr style=\"text-align: right;\">\n",
       "      <th></th>\n",
       "      <th>Date</th>\n",
       "      <th>taxi_count</th>\n",
       "      <th>call</th>\n",
       "      <th>catch</th>\n",
       "      <th>wait_time</th>\n",
       "      <th>cost</th>\n",
       "      <th>dist</th>\n",
       "      <th>week</th>\n",
       "      <th>month</th>\n",
       "      <th>year</th>\n",
       "      <th>temp_max</th>\n",
       "      <th>temp_min</th>\n",
       "      <th>rain(mm)</th>\n",
       "      <th>humidity_max(%)</th>\n",
       "      <th>humidity_min(%)</th>\n",
       "      <th>sunshine(MJ/m2)</th>\n",
       "      <th>weekday</th>\n",
       "      <th>season</th>\n",
       "      <th>holiday</th>\n",
       "      <th>week_dist_mean</th>\n",
       "      <th>catch_rate</th>\n",
       "    </tr>\n",
       "  </thead>\n",
       "  <tbody>\n",
       "    <tr>\n",
       "      <th>0</th>\n",
       "      <td>2015-01-01</td>\n",
       "      <td>213</td>\n",
       "      <td>1023</td>\n",
       "      <td>924</td>\n",
       "      <td>23.2</td>\n",
       "      <td>2427</td>\n",
       "      <td>10764</td>\n",
       "      <td>1</td>\n",
       "      <td>1</td>\n",
       "      <td>2015</td>\n",
       "      <td>-2.0</td>\n",
       "      <td>-8.9</td>\n",
       "      <td>0.0</td>\n",
       "      <td>63.0</td>\n",
       "      <td>28.0</td>\n",
       "      <td>9.07</td>\n",
       "      <td>Thursday</td>\n",
       "      <td>Winter</td>\n",
       "      <td>1.0</td>\n",
       "      <td>10764.000000</td>\n",
       "      <td>0.903226</td>\n",
       "    </tr>\n",
       "    <tr>\n",
       "      <th>1</th>\n",
       "      <td>2015-01-02</td>\n",
       "      <td>420</td>\n",
       "      <td>3158</td>\n",
       "      <td>2839</td>\n",
       "      <td>17.2</td>\n",
       "      <td>2216</td>\n",
       "      <td>8611</td>\n",
       "      <td>1</td>\n",
       "      <td>1</td>\n",
       "      <td>2015</td>\n",
       "      <td>2.4</td>\n",
       "      <td>-9.2</td>\n",
       "      <td>0.0</td>\n",
       "      <td>73.0</td>\n",
       "      <td>37.0</td>\n",
       "      <td>8.66</td>\n",
       "      <td>Friday</td>\n",
       "      <td>Winter</td>\n",
       "      <td>0.0</td>\n",
       "      <td>9687.500000</td>\n",
       "      <td>0.898987</td>\n",
       "    </tr>\n",
       "    <tr>\n",
       "      <th>2</th>\n",
       "      <td>2015-01-03</td>\n",
       "      <td>209</td>\n",
       "      <td>1648</td>\n",
       "      <td>1514</td>\n",
       "      <td>26.2</td>\n",
       "      <td>2377</td>\n",
       "      <td>10198</td>\n",
       "      <td>1</td>\n",
       "      <td>1</td>\n",
       "      <td>2015</td>\n",
       "      <td>8.2</td>\n",
       "      <td>0.2</td>\n",
       "      <td>0.0</td>\n",
       "      <td>89.0</td>\n",
       "      <td>58.0</td>\n",
       "      <td>5.32</td>\n",
       "      <td>Saturday</td>\n",
       "      <td>Winter</td>\n",
       "      <td>0.0</td>\n",
       "      <td>9857.666667</td>\n",
       "      <td>0.918689</td>\n",
       "    </tr>\n",
       "    <tr>\n",
       "      <th>3</th>\n",
       "      <td>2015-01-04</td>\n",
       "      <td>196</td>\n",
       "      <td>1646</td>\n",
       "      <td>1526</td>\n",
       "      <td>24.5</td>\n",
       "      <td>2431</td>\n",
       "      <td>10955</td>\n",
       "      <td>1</td>\n",
       "      <td>1</td>\n",
       "      <td>2015</td>\n",
       "      <td>7.9</td>\n",
       "      <td>-0.9</td>\n",
       "      <td>0.0</td>\n",
       "      <td>95.0</td>\n",
       "      <td>52.0</td>\n",
       "      <td>6.48</td>\n",
       "      <td>Sunday</td>\n",
       "      <td>Winter</td>\n",
       "      <td>0.0</td>\n",
       "      <td>10132.000000</td>\n",
       "      <td>0.927096</td>\n",
       "    </tr>\n",
       "    <tr>\n",
       "      <th>4</th>\n",
       "      <td>2015-01-05</td>\n",
       "      <td>421</td>\n",
       "      <td>4250</td>\n",
       "      <td>3730</td>\n",
       "      <td>26.2</td>\n",
       "      <td>2214</td>\n",
       "      <td>8663</td>\n",
       "      <td>2</td>\n",
       "      <td>1</td>\n",
       "      <td>2015</td>\n",
       "      <td>4.1</td>\n",
       "      <td>-7.4</td>\n",
       "      <td>3.4</td>\n",
       "      <td>98.0</td>\n",
       "      <td>29.0</td>\n",
       "      <td>10.47</td>\n",
       "      <td>Monday</td>\n",
       "      <td>Winter</td>\n",
       "      <td>0.0</td>\n",
       "      <td>9838.200000</td>\n",
       "      <td>0.877647</td>\n",
       "    </tr>\n",
       "    <tr>\n",
       "      <th>...</th>\n",
       "      <td>...</td>\n",
       "      <td>...</td>\n",
       "      <td>...</td>\n",
       "      <td>...</td>\n",
       "      <td>...</td>\n",
       "      <td>...</td>\n",
       "      <td>...</td>\n",
       "      <td>...</td>\n",
       "      <td>...</td>\n",
       "      <td>...</td>\n",
       "      <td>...</td>\n",
       "      <td>...</td>\n",
       "      <td>...</td>\n",
       "      <td>...</td>\n",
       "      <td>...</td>\n",
       "      <td>...</td>\n",
       "      <td>...</td>\n",
       "      <td>...</td>\n",
       "      <td>...</td>\n",
       "      <td>...</td>\n",
       "      <td>...</td>\n",
       "    </tr>\n",
       "    <tr>\n",
       "      <th>2918</th>\n",
       "      <td>2022-12-27</td>\n",
       "      <td>669</td>\n",
       "      <td>5635</td>\n",
       "      <td>4654</td>\n",
       "      <td>44.4</td>\n",
       "      <td>2198</td>\n",
       "      <td>8178</td>\n",
       "      <td>52</td>\n",
       "      <td>12</td>\n",
       "      <td>2022</td>\n",
       "      <td>-0.3</td>\n",
       "      <td>-5.4</td>\n",
       "      <td>0.1</td>\n",
       "      <td>92.0</td>\n",
       "      <td>40.0</td>\n",
       "      <td>10.86</td>\n",
       "      <td>Tuesday</td>\n",
       "      <td>Winter</td>\n",
       "      <td>0.0</td>\n",
       "      <td>8567.285714</td>\n",
       "      <td>0.825909</td>\n",
       "    </tr>\n",
       "    <tr>\n",
       "      <th>2919</th>\n",
       "      <td>2022-12-28</td>\n",
       "      <td>607</td>\n",
       "      <td>5654</td>\n",
       "      <td>4648</td>\n",
       "      <td>44.8</td>\n",
       "      <td>2161</td>\n",
       "      <td>7882</td>\n",
       "      <td>52</td>\n",
       "      <td>12</td>\n",
       "      <td>2022</td>\n",
       "      <td>1.7</td>\n",
       "      <td>-7.8</td>\n",
       "      <td>0.0</td>\n",
       "      <td>71.0</td>\n",
       "      <td>34.0</td>\n",
       "      <td>10.88</td>\n",
       "      <td>Wednesday</td>\n",
       "      <td>Winter</td>\n",
       "      <td>0.0</td>\n",
       "      <td>8574.428571</td>\n",
       "      <td>0.822073</td>\n",
       "    </tr>\n",
       "    <tr>\n",
       "      <th>2920</th>\n",
       "      <td>2022-12-29</td>\n",
       "      <td>581</td>\n",
       "      <td>5250</td>\n",
       "      <td>4247</td>\n",
       "      <td>52.5</td>\n",
       "      <td>2229</td>\n",
       "      <td>8433</td>\n",
       "      <td>52</td>\n",
       "      <td>12</td>\n",
       "      <td>2022</td>\n",
       "      <td>2.1</td>\n",
       "      <td>-4.0</td>\n",
       "      <td>0.0</td>\n",
       "      <td>87.0</td>\n",
       "      <td>38.0</td>\n",
       "      <td>10.84</td>\n",
       "      <td>Thursday</td>\n",
       "      <td>Winter</td>\n",
       "      <td>0.0</td>\n",
       "      <td>8629.000000</td>\n",
       "      <td>0.808952</td>\n",
       "    </tr>\n",
       "    <tr>\n",
       "      <th>2921</th>\n",
       "      <td>2022-12-30</td>\n",
       "      <td>600</td>\n",
       "      <td>5293</td>\n",
       "      <td>4200</td>\n",
       "      <td>38.3</td>\n",
       "      <td>2183</td>\n",
       "      <td>8155</td>\n",
       "      <td>52</td>\n",
       "      <td>12</td>\n",
       "      <td>2022</td>\n",
       "      <td>-4.4</td>\n",
       "      <td>-4.4</td>\n",
       "      <td>0.0</td>\n",
       "      <td>66.0</td>\n",
       "      <td>66.0</td>\n",
       "      <td>0.00</td>\n",
       "      <td>Friday</td>\n",
       "      <td>Winter</td>\n",
       "      <td>0.0</td>\n",
       "      <td>8650.714286</td>\n",
       "      <td>0.793501</td>\n",
       "    </tr>\n",
       "    <tr>\n",
       "      <th>2922</th>\n",
       "      <td>2022-12-31</td>\n",
       "      <td>263</td>\n",
       "      <td>2167</td>\n",
       "      <td>1806</td>\n",
       "      <td>33.7</td>\n",
       "      <td>2318</td>\n",
       "      <td>9435</td>\n",
       "      <td>52</td>\n",
       "      <td>12</td>\n",
       "      <td>2022</td>\n",
       "      <td>-4.4</td>\n",
       "      <td>-4.4</td>\n",
       "      <td>0.0</td>\n",
       "      <td>66.0</td>\n",
       "      <td>66.0</td>\n",
       "      <td>0.00</td>\n",
       "      <td>Saturday</td>\n",
       "      <td>Winter</td>\n",
       "      <td>0.0</td>\n",
       "      <td>8597.714286</td>\n",
       "      <td>0.833410</td>\n",
       "    </tr>\n",
       "  </tbody>\n",
       "</table>\n",
       "<p>2923 rows × 21 columns</p>\n",
       "</div>"
      ],
      "text/plain": [
       "           Date  taxi_count  call  catch  wait_time  cost   dist  week  month  \\\n",
       "0    2015-01-01         213  1023    924       23.2  2427  10764     1      1   \n",
       "1    2015-01-02         420  3158   2839       17.2  2216   8611     1      1   \n",
       "2    2015-01-03         209  1648   1514       26.2  2377  10198     1      1   \n",
       "3    2015-01-04         196  1646   1526       24.5  2431  10955     1      1   \n",
       "4    2015-01-05         421  4250   3730       26.2  2214   8663     2      1   \n",
       "...         ...         ...   ...    ...        ...   ...    ...   ...    ...   \n",
       "2918 2022-12-27         669  5635   4654       44.4  2198   8178    52     12   \n",
       "2919 2022-12-28         607  5654   4648       44.8  2161   7882    52     12   \n",
       "2920 2022-12-29         581  5250   4247       52.5  2229   8433    52     12   \n",
       "2921 2022-12-30         600  5293   4200       38.3  2183   8155    52     12   \n",
       "2922 2022-12-31         263  2167   1806       33.7  2318   9435    52     12   \n",
       "\n",
       "      year  temp_max  temp_min  rain(mm)  humidity_max(%)  humidity_min(%)  \\\n",
       "0     2015      -2.0      -8.9       0.0             63.0             28.0   \n",
       "1     2015       2.4      -9.2       0.0             73.0             37.0   \n",
       "2     2015       8.2       0.2       0.0             89.0             58.0   \n",
       "3     2015       7.9      -0.9       0.0             95.0             52.0   \n",
       "4     2015       4.1      -7.4       3.4             98.0             29.0   \n",
       "...    ...       ...       ...       ...              ...              ...   \n",
       "2918  2022      -0.3      -5.4       0.1             92.0             40.0   \n",
       "2919  2022       1.7      -7.8       0.0             71.0             34.0   \n",
       "2920  2022       2.1      -4.0       0.0             87.0             38.0   \n",
       "2921  2022      -4.4      -4.4       0.0             66.0             66.0   \n",
       "2922  2022      -4.4      -4.4       0.0             66.0             66.0   \n",
       "\n",
       "      sunshine(MJ/m2)    weekday  season  holiday  week_dist_mean  catch_rate  \n",
       "0                9.07   Thursday  Winter      1.0    10764.000000    0.903226  \n",
       "1                8.66     Friday  Winter      0.0     9687.500000    0.898987  \n",
       "2                5.32   Saturday  Winter      0.0     9857.666667    0.918689  \n",
       "3                6.48     Sunday  Winter      0.0    10132.000000    0.927096  \n",
       "4               10.47     Monday  Winter      0.0     9838.200000    0.877647  \n",
       "...               ...        ...     ...      ...             ...         ...  \n",
       "2918            10.86    Tuesday  Winter      0.0     8567.285714    0.825909  \n",
       "2919            10.88  Wednesday  Winter      0.0     8574.428571    0.822073  \n",
       "2920            10.84   Thursday  Winter      0.0     8629.000000    0.808952  \n",
       "2921             0.00     Friday  Winter      0.0     8650.714286    0.793501  \n",
       "2922             0.00   Saturday  Winter      0.0     8597.714286    0.833410  \n",
       "\n",
       "[2923 rows x 21 columns]"
      ]
     },
     "execution_count": 2480,
     "metadata": {},
     "output_type": "execute_result"
    }
   ],
   "source": [
    "# 아래에 실습코드를 작성하고 결과를 확인합니다.\n",
    "data = joblib.load('data1.plk') \n",
    "data"
   ]
  },
  {
   "cell_type": "code",
   "execution_count": 2481,
   "metadata": {},
   "outputs": [],
   "source": [
    "data['weekend'] =  data['Date'].dt.weekday\n",
    "data['weekend'] = data['weekend'].map(lambda x: 1 if x==5 or x==6 else 0 )"
   ]
  },
  {
   "cell_type": "code",
   "execution_count": 2482,
   "metadata": {},
   "outputs": [],
   "source": [
    "\n",
    "data['rain'] = data['rain(mm)']\n",
    "data['rain'] = data['rain'].map(lambda x: 1 if x>2 else 0 )\n",
    "data['weekend'] =  data['Date'].dt.weekday\n",
    "data['weekend'] = data['weekend'].map(lambda x: 1 if x==5 or x==6 else 0 )\n",
    "data['cold'] = data['temp_max']\n",
    "data['cold'] = data['temp_max'].map(lambda x: 1 if x<0 else 0 )\n",
    "data['hot'] = data['temp_max']\n",
    "data['hot'] = data['temp_max'].map(lambda x: 1 if x>31 else 0 )\n",
    "data['catch_rate'] = (data['catch_rate']*10)**2\n",
    "data['temp_min'] = data['temp_min'] + (data['temp_min']-10)\n",
    "\n",
    "start_date = '2020-01-20'\n",
    "end_date = '2023-05-11'\n",
    "data['covid'] = 0  \n",
    "data.loc[(data['Date'] >= start_date) & (data['Date'] <= end_date), 'covid'] = 1\n",
    "\n",
    "def add_basic_fare(year):\n",
    "    if 2012 == year:\n",
    "        return 2400\n",
    "    elif 2013 <= year <2019:\n",
    "        return 3000\n",
    "    elif year >= 2019:\n",
    "        return 3800\n",
    "    else:  # 나머지 경우는 0으로 처리\n",
    "        return 0\n",
    "data['기본요금'] = data['year'].apply(add_basic_fare)"
   ]
  },
  {
   "cell_type": "code",
   "execution_count": 2483,
   "metadata": {},
   "outputs": [],
   "source": [
    "data['week_dist_mean_4'] = data['dist'].rolling(window=4,min_periods=1).mean()\n"
   ]
  },
  {
   "cell_type": "code",
   "execution_count": 2484,
   "metadata": {},
   "outputs": [],
   "source": [
    "\n",
    "data['hot'] = data['temp_max']\n",
    "data['hot'] = data['temp_max'].map(lambda x: 1 if x>31 else 0 )"
   ]
  },
  {
   "cell_type": "code",
   "execution_count": 2485,
   "metadata": {},
   "outputs": [],
   "source": [
    "start_date = '2020-01-20'\n",
    "end_date = '2023-05-11'\n",
    "\n",
    "data['covid'] = 0  \n",
    "data.loc[(data['Date'] >= start_date) & (data['Date'] <= end_date), 'covid'] = 1"
   ]
  },
  {
   "cell_type": "code",
   "execution_count": 2486,
   "metadata": {},
   "outputs": [],
   "source": [
    "def add_basic_fare(year):\n",
    "    if 2012 == year:\n",
    "        return 2400\n",
    "    elif 2013 <= year <2019:\n",
    "        return 3000\n",
    "    elif year >= 2019:\n",
    "        return 3800\n",
    "    else:  # 나머지 경우는 0으로 처리\n",
    "        return 0"
   ]
  },
  {
   "cell_type": "code",
   "execution_count": 2487,
   "metadata": {},
   "outputs": [],
   "source": [
    "data['기본요금'] = data['year'].apply(add_basic_fare)"
   ]
  },
  {
   "cell_type": "markdown",
   "metadata": {
    "id": "OQsk3V6hXSjE"
   },
   "source": [
    "## 2.데이터 준비\n",
    "* **세부요구사항**\n",
    "    * NaN에 대한 조치를 수행하시오.\n",
    "        * rolling 혹은 shift로 발생된 초기 행의 NaN은 삭제해도 무방합니다.\n",
    "    * 가변수화 : 범주형에 대해서 가변수화를 수행합니다.\n",
    "    * 데이터분할\n",
    "        * 시계열 데이터 특성에 맞게 분할합니다.\n",
    "        * 마지막 91일(3개월) 데이터를 검증셋으로 사용합니다."
   ]
  },
  {
   "cell_type": "markdown",
   "metadata": {
    "id": "mp_5volyuaA1"
   },
   "source": [
    "### (1) NA 조치"
   ]
  },
  {
   "cell_type": "markdown",
   "metadata": {
    "id": "nOF9fSLQugGf"
   },
   "source": [
    "### (2) 가변수화"
   ]
  },
  {
   "cell_type": "code",
   "execution_count": 2488,
   "metadata": {},
   "outputs": [],
   "source": [
    "pd.set_option(\"display.max_columns\", 150)\n",
    "pd.set_option(\"display.max_info_rows\", 150)\n",
    "data['day'] = data['Date'].dt.day"
   ]
  },
  {
   "cell_type": "code",
   "execution_count": 2489,
   "metadata": {
    "colab": {
     "base_uri": "https://localhost:8080/",
     "height": 661
    },
    "executionInfo": {
     "elapsed": 21,
     "status": "ok",
     "timestamp": 1682643425444,
     "user": {
      "displayName": "한기영",
      "userId": "13049187003176135487"
     },
     "user_tz": -540
    },
    "id": "CZgBC2QSoKc8",
    "outputId": "470a1788-e410-4430-b956-9744b1a0c8a2"
   },
   "outputs": [],
   "source": [
    "# 아래에 실습코드를 작성하고 결과를 확인합니다.\n",
    "# data_f = data\n",
    "data_f = pd.get_dummies(data, columns=['season'])\n",
    "data_f.drop(['weekday'],axis=1,inplace=True)\n",
    "date = data_f.drop('Date',axis=1,inplace=True)"
   ]
  },
  {
   "cell_type": "code",
   "execution_count": 2490,
   "metadata": {},
   "outputs": [],
   "source": [
    "data_f.drop(['week', 'month','year','sunshine(MJ/m2)','기본요금','humidity_min(%)','humidity_max(%)','rain(mm)','day','week_dist_mean','hot','cold','catch','cost'],axis=1, inplace=True)\n"
   ]
  },
  {
   "cell_type": "markdown",
   "metadata": {
    "id": "WpJEGpUuuVWm"
   },
   "source": [
    "### (3) 데이터분할\n",
    "* **세부요구사항**\n",
    "    * 마지막 91일 간의 데이터를 검증 셋으로 만듭니다. (2022-10-01 ~ )\n",
    "    * 이 기간의 날짜 리스트를 별도로 저장하여, 모델 검증시 시각화할 때 활용합니다."
   ]
  },
  {
   "cell_type": "code",
   "execution_count": 2491,
   "metadata": {
    "executionInfo": {
     "elapsed": 19,
     "status": "ok",
     "timestamp": 1682643425444,
     "user": {
      "displayName": "한기영",
      "userId": "13049187003176135487"
     },
     "user_tz": -540
    },
    "id": "MkhKUJj_vOQD",
    "scrolled": false
   },
   "outputs": [
    {
     "data": {
      "text/html": [
       "<div>\n",
       "<style scoped>\n",
       "    .dataframe tbody tr th:only-of-type {\n",
       "        vertical-align: middle;\n",
       "    }\n",
       "\n",
       "    .dataframe tbody tr th {\n",
       "        vertical-align: top;\n",
       "    }\n",
       "\n",
       "    .dataframe thead th {\n",
       "        text-align: right;\n",
       "    }\n",
       "</style>\n",
       "<table border=\"1\" class=\"dataframe\">\n",
       "  <thead>\n",
       "    <tr style=\"text-align: right;\">\n",
       "      <th></th>\n",
       "      <th>taxi_count</th>\n",
       "      <th>call</th>\n",
       "      <th>wait_time</th>\n",
       "      <th>dist</th>\n",
       "      <th>temp_max</th>\n",
       "      <th>temp_min</th>\n",
       "      <th>holiday</th>\n",
       "      <th>catch_rate</th>\n",
       "      <th>weekend</th>\n",
       "      <th>rain</th>\n",
       "      <th>covid</th>\n",
       "      <th>week_dist_mean_4</th>\n",
       "      <th>season_Spring</th>\n",
       "      <th>season_Summer</th>\n",
       "      <th>season_Fall</th>\n",
       "      <th>season_Winter</th>\n",
       "    </tr>\n",
       "  </thead>\n",
       "  <tbody>\n",
       "    <tr>\n",
       "      <th>0</th>\n",
       "      <td>213</td>\n",
       "      <td>1023</td>\n",
       "      <td>23.2</td>\n",
       "      <td>10764</td>\n",
       "      <td>-2.0</td>\n",
       "      <td>-27.8</td>\n",
       "      <td>1.0</td>\n",
       "      <td>81.581686</td>\n",
       "      <td>0</td>\n",
       "      <td>0</td>\n",
       "      <td>0</td>\n",
       "      <td>10764.000000</td>\n",
       "      <td>False</td>\n",
       "      <td>False</td>\n",
       "      <td>False</td>\n",
       "      <td>True</td>\n",
       "    </tr>\n",
       "    <tr>\n",
       "      <th>1</th>\n",
       "      <td>420</td>\n",
       "      <td>3158</td>\n",
       "      <td>17.2</td>\n",
       "      <td>8611</td>\n",
       "      <td>2.4</td>\n",
       "      <td>-28.4</td>\n",
       "      <td>0.0</td>\n",
       "      <td>80.817709</td>\n",
       "      <td>0</td>\n",
       "      <td>0</td>\n",
       "      <td>0</td>\n",
       "      <td>9687.500000</td>\n",
       "      <td>False</td>\n",
       "      <td>False</td>\n",
       "      <td>False</td>\n",
       "      <td>True</td>\n",
       "    </tr>\n",
       "    <tr>\n",
       "      <th>2</th>\n",
       "      <td>209</td>\n",
       "      <td>1648</td>\n",
       "      <td>26.2</td>\n",
       "      <td>10198</td>\n",
       "      <td>8.2</td>\n",
       "      <td>-9.6</td>\n",
       "      <td>0.0</td>\n",
       "      <td>84.399007</td>\n",
       "      <td>1</td>\n",
       "      <td>0</td>\n",
       "      <td>0</td>\n",
       "      <td>9857.666667</td>\n",
       "      <td>False</td>\n",
       "      <td>False</td>\n",
       "      <td>False</td>\n",
       "      <td>True</td>\n",
       "    </tr>\n",
       "    <tr>\n",
       "      <th>3</th>\n",
       "      <td>196</td>\n",
       "      <td>1646</td>\n",
       "      <td>24.5</td>\n",
       "      <td>10955</td>\n",
       "      <td>7.9</td>\n",
       "      <td>-11.8</td>\n",
       "      <td>0.0</td>\n",
       "      <td>85.950698</td>\n",
       "      <td>1</td>\n",
       "      <td>0</td>\n",
       "      <td>0</td>\n",
       "      <td>10132.000000</td>\n",
       "      <td>False</td>\n",
       "      <td>False</td>\n",
       "      <td>False</td>\n",
       "      <td>True</td>\n",
       "    </tr>\n",
       "    <tr>\n",
       "      <th>4</th>\n",
       "      <td>421</td>\n",
       "      <td>4250</td>\n",
       "      <td>26.2</td>\n",
       "      <td>8663</td>\n",
       "      <td>4.1</td>\n",
       "      <td>-24.8</td>\n",
       "      <td>0.0</td>\n",
       "      <td>77.026436</td>\n",
       "      <td>0</td>\n",
       "      <td>1</td>\n",
       "      <td>0</td>\n",
       "      <td>9606.750000</td>\n",
       "      <td>False</td>\n",
       "      <td>False</td>\n",
       "      <td>False</td>\n",
       "      <td>True</td>\n",
       "    </tr>\n",
       "    <tr>\n",
       "      <th>...</th>\n",
       "      <td>...</td>\n",
       "      <td>...</td>\n",
       "      <td>...</td>\n",
       "      <td>...</td>\n",
       "      <td>...</td>\n",
       "      <td>...</td>\n",
       "      <td>...</td>\n",
       "      <td>...</td>\n",
       "      <td>...</td>\n",
       "      <td>...</td>\n",
       "      <td>...</td>\n",
       "      <td>...</td>\n",
       "      <td>...</td>\n",
       "      <td>...</td>\n",
       "      <td>...</td>\n",
       "      <td>...</td>\n",
       "    </tr>\n",
       "    <tr>\n",
       "      <th>2918</th>\n",
       "      <td>669</td>\n",
       "      <td>5635</td>\n",
       "      <td>44.4</td>\n",
       "      <td>8178</td>\n",
       "      <td>-0.3</td>\n",
       "      <td>-20.8</td>\n",
       "      <td>0.0</td>\n",
       "      <td>68.212649</td>\n",
       "      <td>0</td>\n",
       "      <td>0</td>\n",
       "      <td>1</td>\n",
       "      <td>9021.250000</td>\n",
       "      <td>False</td>\n",
       "      <td>False</td>\n",
       "      <td>False</td>\n",
       "      <td>True</td>\n",
       "    </tr>\n",
       "    <tr>\n",
       "      <th>2919</th>\n",
       "      <td>607</td>\n",
       "      <td>5654</td>\n",
       "      <td>44.8</td>\n",
       "      <td>7882</td>\n",
       "      <td>1.7</td>\n",
       "      <td>-25.6</td>\n",
       "      <td>0.0</td>\n",
       "      <td>67.580380</td>\n",
       "      <td>0</td>\n",
       "      <td>0</td>\n",
       "      <td>1</td>\n",
       "      <td>8540.250000</td>\n",
       "      <td>False</td>\n",
       "      <td>False</td>\n",
       "      <td>False</td>\n",
       "      <td>True</td>\n",
       "    </tr>\n",
       "    <tr>\n",
       "      <th>2920</th>\n",
       "      <td>581</td>\n",
       "      <td>5250</td>\n",
       "      <td>52.5</td>\n",
       "      <td>8433</td>\n",
       "      <td>2.1</td>\n",
       "      <td>-18.0</td>\n",
       "      <td>0.0</td>\n",
       "      <td>65.440395</td>\n",
       "      <td>0</td>\n",
       "      <td>0</td>\n",
       "      <td>1</td>\n",
       "      <td>8095.500000</td>\n",
       "      <td>False</td>\n",
       "      <td>False</td>\n",
       "      <td>False</td>\n",
       "      <td>True</td>\n",
       "    </tr>\n",
       "    <tr>\n",
       "      <th>2921</th>\n",
       "      <td>600</td>\n",
       "      <td>5293</td>\n",
       "      <td>38.3</td>\n",
       "      <td>8155</td>\n",
       "      <td>-4.4</td>\n",
       "      <td>-18.8</td>\n",
       "      <td>0.0</td>\n",
       "      <td>62.964360</td>\n",
       "      <td>0</td>\n",
       "      <td>0</td>\n",
       "      <td>1</td>\n",
       "      <td>8162.000000</td>\n",
       "      <td>False</td>\n",
       "      <td>False</td>\n",
       "      <td>False</td>\n",
       "      <td>True</td>\n",
       "    </tr>\n",
       "    <tr>\n",
       "      <th>2922</th>\n",
       "      <td>263</td>\n",
       "      <td>2167</td>\n",
       "      <td>33.7</td>\n",
       "      <td>9435</td>\n",
       "      <td>-4.4</td>\n",
       "      <td>-18.8</td>\n",
       "      <td>0.0</td>\n",
       "      <td>69.457264</td>\n",
       "      <td>1</td>\n",
       "      <td>0</td>\n",
       "      <td>1</td>\n",
       "      <td>8476.250000</td>\n",
       "      <td>False</td>\n",
       "      <td>False</td>\n",
       "      <td>False</td>\n",
       "      <td>True</td>\n",
       "    </tr>\n",
       "  </tbody>\n",
       "</table>\n",
       "<p>2923 rows × 16 columns</p>\n",
       "</div>"
      ],
      "text/plain": [
       "      taxi_count  call  wait_time   dist  temp_max  temp_min  holiday  \\\n",
       "0            213  1023       23.2  10764      -2.0     -27.8      1.0   \n",
       "1            420  3158       17.2   8611       2.4     -28.4      0.0   \n",
       "2            209  1648       26.2  10198       8.2      -9.6      0.0   \n",
       "3            196  1646       24.5  10955       7.9     -11.8      0.0   \n",
       "4            421  4250       26.2   8663       4.1     -24.8      0.0   \n",
       "...          ...   ...        ...    ...       ...       ...      ...   \n",
       "2918         669  5635       44.4   8178      -0.3     -20.8      0.0   \n",
       "2919         607  5654       44.8   7882       1.7     -25.6      0.0   \n",
       "2920         581  5250       52.5   8433       2.1     -18.0      0.0   \n",
       "2921         600  5293       38.3   8155      -4.4     -18.8      0.0   \n",
       "2922         263  2167       33.7   9435      -4.4     -18.8      0.0   \n",
       "\n",
       "      catch_rate  weekend  rain  covid  week_dist_mean_4  season_Spring  \\\n",
       "0      81.581686        0     0      0      10764.000000          False   \n",
       "1      80.817709        0     0      0       9687.500000          False   \n",
       "2      84.399007        1     0      0       9857.666667          False   \n",
       "3      85.950698        1     0      0      10132.000000          False   \n",
       "4      77.026436        0     1      0       9606.750000          False   \n",
       "...          ...      ...   ...    ...               ...            ...   \n",
       "2918   68.212649        0     0      1       9021.250000          False   \n",
       "2919   67.580380        0     0      1       8540.250000          False   \n",
       "2920   65.440395        0     0      1       8095.500000          False   \n",
       "2921   62.964360        0     0      1       8162.000000          False   \n",
       "2922   69.457264        1     0      1       8476.250000          False   \n",
       "\n",
       "      season_Summer  season_Fall  season_Winter  \n",
       "0             False        False           True  \n",
       "1             False        False           True  \n",
       "2             False        False           True  \n",
       "3             False        False           True  \n",
       "4             False        False           True  \n",
       "...             ...          ...            ...  \n",
       "2918          False        False           True  \n",
       "2919          False        False           True  \n",
       "2920          False        False           True  \n",
       "2921          False        False           True  \n",
       "2922          False        False           True  \n",
       "\n",
       "[2923 rows x 16 columns]"
      ]
     },
     "execution_count": 2491,
     "metadata": {},
     "output_type": "execute_result"
    }
   ],
   "source": [
    "data_f"
   ]
  },
  {
   "cell_type": "code",
   "execution_count": null,
   "metadata": {
    "scrolled": true
   },
   "outputs": [],
   "source": []
  },
  {
   "cell_type": "markdown",
   "metadata": {
    "id": "yRR53accpDHL"
   },
   "source": [
    "#### 1) x, y 나누기"
   ]
  },
  {
   "cell_type": "code",
   "execution_count": 2492,
   "metadata": {
    "executionInfo": {
     "elapsed": 19,
     "status": "ok",
     "timestamp": 1682643425445,
     "user": {
      "displayName": "한기영",
      "userId": "13049187003176135487"
     },
     "user_tz": -540
    },
    "id": "N-4Msv8VsQ3R"
   },
   "outputs": [],
   "source": [
    "# 아래에 실습코드를 작성하고 결과를 확인합니다.\n",
    "\n",
    "x = data_f.drop('wait_time',axis=1)\n",
    "y = data_f['wait_time']"
   ]
  },
  {
   "cell_type": "markdown",
   "metadata": {
    "id": "VBwpOKgkf5Am"
   },
   "source": [
    "#### 2) train : validation 나누기\n",
    "* 힌트 : train_test_split(  ,   ,  test_size = 91, shuffle = False) "
   ]
  },
  {
   "cell_type": "code",
   "execution_count": 2493,
   "metadata": {
    "executionInfo": {
     "elapsed": 20,
     "status": "ok",
     "timestamp": 1682643425446,
     "user": {
      "displayName": "한기영",
      "userId": "13049187003176135487"
     },
     "user_tz": -540
    },
    "id": "1iHmTnHCgBw5"
   },
   "outputs": [
    {
     "name": "stdout",
     "output_type": "stream",
     "text": [
      "(2832, 15)\n",
      "(91, 15)\n",
      "(2832,)\n",
      "(91,)\n"
     ]
    }
   ],
   "source": [
    "# 아래에 실습코드를 작성하고 결과를 확인합니다.\n",
    "x_train, x_test, y_train, y_test = train_test_split(x,y,test_size = 91, shuffle = False)\n",
    "\n",
    "print(x_train.shape)\n",
    "print(x_test.shape)\n",
    "print(y_train.shape)\n",
    "print(y_test.shape)"
   ]
  },
  {
   "cell_type": "markdown",
   "metadata": {
    "id": "59bBv0a8heYh"
   },
   "source": [
    "### (4) Scaling\n",
    "* KNN, SVM 알고리즘을 적용하기 위해서는 스케일링을 해야 합니다."
   ]
  },
  {
   "cell_type": "code",
   "execution_count": 2494,
   "metadata": {
    "executionInfo": {
     "elapsed": 20,
     "status": "ok",
     "timestamp": 1682643425446,
     "user": {
      "displayName": "한기영",
      "userId": "13049187003176135487"
     },
     "user_tz": -540
    },
    "id": "RuDcjwhwSo5y"
   },
   "outputs": [],
   "source": [
    "# 아래에 실습코드를 작성하고 결과를 확인합니다.\n",
    "# MinMaxScaler()\n",
    "scaler = MinMaxScaler()\n",
    "x_train_s = scaler.fit_transform(x_train)\n",
    "x_test_s =  scaler.transform(x_test)\n"
   ]
  },
  {
   "cell_type": "markdown",
   "metadata": {
    "id": "30TsHQqzMSbJ"
   },
   "source": [
    "## 3.모델링\n",
    "* **세부요구사항**\n",
    "    * 머신러닝 알고리즘 중 3가지 이상을 사용하여 모델을 만들고 튜닝을 수행합니다.\n",
    "    * 성능 측정은 MAE, MAPE로 수행합니다.\n",
    "    * 모델링 후 실제값과 예측값을 시각화(라인차트)하여 분석합니다."
   ]
  },
  {
   "cell_type": "code",
   "execution_count": 2495,
   "metadata": {},
   "outputs": [],
   "source": [
    "# 아래에 실습코드를 작성하고 결과를 확인합니다.\n",
    "\n"
   ]
  },
  {
   "cell_type": "code",
   "execution_count": 2496,
   "metadata": {
    "executionInfo": {
     "elapsed": 542,
     "status": "ok",
     "timestamp": 1682643425969,
     "user": {
      "displayName": "한기영",
      "userId": "13049187003176135487"
     },
     "user_tz": -540
    },
    "id": "mCG_2LfEMdce"
   },
   "outputs": [],
   "source": [
    "# 아래에 실습코드를 작성하고 결과를 확인합니다.\n",
    "\n",
    " "
   ]
  },
  {
   "cell_type": "code",
   "execution_count": 2497,
   "metadata": {
    "executionInfo": {
     "elapsed": 4,
     "status": "ok",
     "timestamp": 1682643425969,
     "user": {
      "displayName": "한기영",
      "userId": "13049187003176135487"
     },
     "user_tz": -540
    },
    "id": "9NIx9yoHZDyp"
   },
   "outputs": [],
   "source": [
    "def pred_plot(y_val, pred, date):\n",
    "    plt.figure(figsize = (18,6))\n",
    "    sns.lineplot(x=date, y = y_val.values, label = 'actual value', marker = 'o')\n",
    "    sns.lineplot(x=date, y = pred, label = 'predicted value', marker = 'o')\n",
    "    plt.ylim(0,60)\n",
    "    plt.grid()\n",
    "    plt.show()"
   ]
  },
  {
   "cell_type": "markdown",
   "metadata": {
    "id": "ztJOSw2_MaHs"
   },
   "source": [
    "### (1) 머신러닝"
   ]
  },
  {
   "cell_type": "markdown",
   "metadata": {
    "id": "Xb0VvIreaRZF"
   },
   "source": [
    "# 랜덤포레스트"
   ]
  },
  {
   "cell_type": "code",
   "execution_count": 2498,
   "metadata": {},
   "outputs": [],
   "source": [
    "result = {}\n",
    "\n",
    "result_mape ={}\n",
    "result_r2 ={}\n"
   ]
  },
  {
   "cell_type": "code",
   "execution_count": 2499,
   "metadata": {
    "colab": {
     "base_uri": "https://localhost:8080/"
    },
    "executionInfo": {
     "elapsed": 4,
     "status": "ok",
     "timestamp": 1682643425969,
     "user": {
      "displayName": "한기영",
      "userId": "13049187003176135487"
     },
     "user_tz": -540
    },
    "id": "dIuWc-NuMZ91",
    "outputId": "dea02564-c2f8-4955-dae6-8ba1bfd09132"
   },
   "outputs": [],
   "source": [
    "# 아래에 실습코드를 작성하고 결과를 확인합니다.\n",
    "model = RandomForestRegressor(random_state=1)\n",
    "model.fit(x_train,y_train)\n",
    "y_pred = model.predict(x_test)\n"
   ]
  },
  {
   "cell_type": "code",
   "execution_count": 2500,
   "metadata": {
    "colab": {
     "base_uri": "https://localhost:8080/",
     "height": 338
    },
    "executionInfo": {
     "elapsed": 992,
     "status": "ok",
     "timestamp": 1682643426958,
     "user": {
      "displayName": "한기영",
      "userId": "13049187003176135487"
     },
     "user_tz": -540
    },
    "id": "dZWz4v3DMZ7S",
    "outputId": "b3844592-9fc2-4830-bae4-7f3440eef11a"
   },
   "outputs": [
    {
     "name": "stdout",
     "output_type": "stream",
     "text": [
      "3.1345274725274708\n",
      "0.07431345859454784\n",
      "4.055527361000561\n",
      "0.5574500548735499\n"
     ]
    }
   ],
   "source": [
    "# 아래에 실습코드를 작성하고 결과를 확인합니다.\n",
    "\n",
    "print(mean_absolute_error(y_test,y_pred))\n",
    "print(mean_absolute_percentage_error(y_test,y_pred))\n",
    "print(mean_squared_error(y_test,y_pred)**0.5)\n",
    "print(r2_score(y_test,y_pred))\n",
    "result['RandomForestRegressor']= mean_absolute_error(y_test,y_pred)\n",
    "result_mape['RandomForestRegressor']= mean_absolute_percentage_error(y_test,y_pred)\n",
    "result_r2['RandomForestRegressor']= r2_score(y_test,y_pred)"
   ]
  },
  {
   "cell_type": "code",
   "execution_count": 2501,
   "metadata": {
    "scrolled": true
   },
   "outputs": [
    {
     "data": {
      "image/png": "[encoded data removed]",
      "text/plain": [
       "<Figure size 1440x576 with 1 Axes>"
      ]
     },
     "metadata": {
      "needs_background": "light"
     },
     "output_type": "display_data"
    }
   ],
   "source": [
    "plt.figure(figsize=(20,8))\n",
    "plt.barh(list(x_train),model.feature_importances_)\n",
    "plt.show()"
   ]
  },
  {
   "cell_type": "code",
   "execution_count": null,
   "metadata": {},
   "outputs": [],
   "source": []
  },
  {
   "cell_type": "markdown",
   "metadata": {
    "id": "hthJE54INBFD"
   },
   "source": [
    "#### 2) 모델2"
   ]
  },
  {
   "cell_type": "code",
   "execution_count": 2502,
   "metadata": {
    "colab": {
     "base_uri": "https://localhost:8080/"
    },
    "executionInfo": {
     "elapsed": 6839,
     "status": "ok",
     "timestamp": 1682643433793,
     "user": {
      "displayName": "한기영",
      "userId": "13049187003176135487"
     },
     "user_tz": -540
    },
    "id": "gcnXT_HxNBFD",
    "outputId": "5e4c3dce-efcd-44f7-c0a1-a5df00669006"
   },
   "outputs": [],
   "source": [
    "# 아래에 실습코드를 작성하고 결과를 확인합니다.\n",
    "\n",
    "# 아래에 실습코드를 작성하고 결과를 확인합니다.\n",
    "model = LinearRegression()\n",
    "model.fit(x_train,y_train)\n",
    "y_pred = model.predict(x_test)\n"
   ]
  },
  {
   "cell_type": "code",
   "execution_count": 2503,
   "metadata": {
    "colab": {
     "base_uri": "https://localhost:8080/",
     "height": 338
    },
    "executionInfo": {
     "elapsed": 1427,
     "status": "ok",
     "timestamp": 1682643435212,
     "user": {
      "displayName": "한기영",
      "userId": "13049187003176135487"
     },
     "user_tz": -540
    },
    "id": "hYBbOb7DMZ4j",
    "outputId": "e55c28f9-9074-4eac-a9c6-d929224b24cb"
   },
   "outputs": [
    {
     "name": "stdout",
     "output_type": "stream",
     "text": [
      "3.4217606748338096\n",
      "0.08433311166656864\n",
      "4.200521308981365\n",
      "0.5252401279542225\n"
     ]
    }
   ],
   "source": [
    "# 아래에 실습코드를 작성하고 결과를 확인합니다.\n",
    "\n",
    "# 아래에 실습코드를 작성하고 결과를 확인합니다.\n",
    "\n",
    "print(mean_absolute_error(y_test,y_pred))\n",
    "print(mean_absolute_percentage_error(y_test,y_pred))\n",
    "print(mean_squared_error(y_test,y_pred)**0.5)\n",
    "print(r2_score(y_test,y_pred))\n",
    "result['LinearRegression']= mean_absolute_error(y_test,y_pred)\n",
    "result_mape['LinearRegression']= mean_absolute_percentage_error(y_test,y_pred)\n",
    "result_r2['LinearRegression']= r2_score(y_test,y_pred)"
   ]
  },
  {
   "cell_type": "markdown",
   "metadata": {
    "id": "Xc5u-D-yNCJc"
   },
   "source": [
    "#### 3) 모델3"
   ]
  },
  {
   "cell_type": "code",
   "execution_count": 2504,
   "metadata": {
    "colab": {
     "base_uri": "https://localhost:8080/"
    },
    "executionInfo": {
     "elapsed": 7531,
     "status": "ok",
     "timestamp": 1682643442738,
     "user": {
      "displayName": "한기영",
      "userId": "13049187003176135487"
     },
     "user_tz": -540
    },
    "id": "JUdCztbFNCJc",
    "outputId": "1cb4bb00-80b2-4647-b319-39f8f6abf810"
   },
   "outputs": [],
   "source": [
    "# 아래에 실습코드를 작성하고 결과를 확인합니다.\n",
    "model = XGBRegressor(random_state=1)\n",
    "model.fit(x_train,y_train)\n",
    "y_pred = model.predict(x_test)\n"
   ]
  },
  {
   "cell_type": "code",
   "execution_count": 2505,
   "metadata": {
    "colab": {
     "base_uri": "https://localhost:8080/",
     "height": 338
    },
    "executionInfo": {
     "elapsed": 1336,
     "status": "ok",
     "timestamp": 1682643444044,
     "user": {
      "displayName": "한기영",
      "userId": "13049187003176135487"
     },
     "user_tz": -540
    },
    "id": "PGPvGR9fMZy4",
    "outputId": "410947c9-ec0a-4f6f-d387-08f6fac7cc72"
   },
   "outputs": [
    {
     "name": "stdout",
     "output_type": "stream",
     "text": [
      "3.1643507779299562\n",
      "0.0739838884095995\n",
      "4.200584724874173\n",
      "0.525225792805698\n"
     ]
    }
   ],
   "source": [
    "# 아래에 실습코드를 작성하고 결과를 확인합니다.\n",
    "\n",
    "print(mean_absolute_error(y_test,y_pred))\n",
    "print(mean_absolute_percentage_error(y_test,y_pred))\n",
    "print(mean_squared_error(y_test,y_pred)**0.5)\n",
    "print(r2_score(y_test,y_pred))\n",
    "result['XGBRegressor']= mean_absolute_error(y_test,y_pred)\n",
    "result_mape['XGBRegressor']= mean_absolute_percentage_error(y_test,y_pred)\n",
    "result_r2['XGBRegressor']= r2_score(y_test,y_pred)"
   ]
  },
  {
   "cell_type": "code",
   "execution_count": 2506,
   "metadata": {},
   "outputs": [
    {
     "data": {
      "image/png": "[encoded data removed]",
      "text/plain": [
       "<Figure size 1440x576 with 1 Axes>"
      ]
     },
     "metadata": {
      "needs_background": "light"
     },
     "output_type": "display_data"
    }
   ],
   "source": [
    "plt.figure(figsize=(20,8))\n",
    "plt.barh(list(x_train),model.feature_importances_)\n",
    "plt.show()"
   ]
  },
  {
   "cell_type": "markdown",
   "metadata": {
    "id": "eyR5lrnkNC_M"
   },
   "source": [
    "#### 4) 모델4"
   ]
  },
  {
   "cell_type": "code",
   "execution_count": 2507,
   "metadata": {
    "colab": {
     "base_uri": "https://localhost:8080/"
    },
    "executionInfo": {
     "elapsed": 26449,
     "status": "ok",
     "timestamp": 1682643470487,
     "user": {
      "displayName": "한기영",
      "userId": "13049187003176135487"
     },
     "user_tz": -540
    },
    "id": "GVia2Q5XNC_M",
    "outputId": "b60ec3a2-3038-493f-a5a1-b7f5b6304e78"
   },
   "outputs": [],
   "source": [
    "# 아래에 실습코드를 작성하고 결과를 확인합니다.\n",
    "model = SVR()\n",
    "model.fit(x_train_s,y_train)\n",
    "y_pred = model.predict(x_test_s)\n"
   ]
  },
  {
   "cell_type": "code",
   "execution_count": 2508,
   "metadata": {
    "colab": {
     "base_uri": "https://localhost:8080/",
     "height": 338
    },
    "executionInfo": {
     "elapsed": 38,
     "status": "ok",
     "timestamp": 1682643470488,
     "user": {
      "displayName": "한기영",
      "userId": "13049187003176135487"
     },
     "user_tz": -540
    },
    "id": "o1FhhKqSMZv_",
    "outputId": "f2fa42a9-1c08-4537-cd54-357c4ef413a9",
    "scrolled": false
   },
   "outputs": [
    {
     "name": "stdout",
     "output_type": "stream",
     "text": [
      "4.992122197447097\n",
      "0.11002011627053927\n",
      "6.455506654523839\n",
      "-0.12131668908970195\n"
     ]
    }
   ],
   "source": [
    "# 아래에 실습코드를 작성하고 결과를 확인합니다.\n",
    "\n",
    "print(mean_absolute_error(y_test,y_pred))\n",
    "print(mean_absolute_percentage_error(y_test,y_pred))\n",
    "print(mean_squared_error(y_test,y_pred)**0.5)\n",
    "print(r2_score(y_test,y_pred))\n",
    "result['SVR']= mean_absolute_error(y_test,y_pred)\n",
    "result_mape['SVR']= mean_absolute_percentage_error(y_test,y_pred)\n",
    "result_r2['SVR']= r2_score(y_test,y_pred)"
   ]
  },
  {
   "cell_type": "code",
   "execution_count": 2509,
   "metadata": {},
   "outputs": [],
   "source": [
    "model = KNeighborsRegressor()\n",
    "model.fit(x_train_s,y_train)\n",
    "y_pred = model.predict(x_test_s)"
   ]
  },
  {
   "cell_type": "code",
   "execution_count": 2510,
   "metadata": {},
   "outputs": [
    {
     "name": "stdout",
     "output_type": "stream",
     "text": [
      "5.665934065934066\n",
      "0.12771094101731095\n",
      "7.172366997836096\n",
      "-0.38418018175856106\n"
     ]
    }
   ],
   "source": [
    "\n",
    "print(mean_absolute_error(y_test,y_pred))\n",
    "print(mean_absolute_percentage_error(y_test,y_pred))\n",
    "print(mean_squared_error(y_test,y_pred)**0.5)\n",
    "print(r2_score(y_test,y_pred))\n",
    "result['KNeighborsRegressor']= mean_absolute_error(y_test,y_pred)\n",
    "result_mape['KNeighborsRegressor']= mean_absolute_percentage_error(y_test,y_pred)\n",
    "result_r2['KNeighborsRegressor']= r2_score(y_test,y_pred)"
   ]
  },
  {
   "cell_type": "code",
   "execution_count": 2511,
   "metadata": {},
   "outputs": [],
   "source": [
    "from sklearn.gaussian_process import GaussianProcessRegressor"
   ]
  },
  {
   "cell_type": "code",
   "execution_count": 2512,
   "metadata": {},
   "outputs": [],
   "source": [
    "model = GaussianProcessRegressor(random_state=1)\n",
    "model.fit(x_train_s,y_train)\n",
    "y_pred = model.predict(x_test_s)"
   ]
  },
  {
   "cell_type": "code",
   "execution_count": 2513,
   "metadata": {},
   "outputs": [
    {
     "name": "stdout",
     "output_type": "stream",
     "text": [
      "88.73228787008551\n",
      "2.158359343791495\n",
      "189.36629007525272\n",
      "-963.8792380149222\n"
     ]
    }
   ],
   "source": [
    "print(mean_absolute_error(y_test,y_pred))\n",
    "print(mean_absolute_percentage_error(y_test,y_pred))\n",
    "print(mean_squared_error(y_test,y_pred)**0.5)\n",
    "print(r2_score(y_test,y_pred))\n",
    "result['KNeighborsRegressor']= mean_absolute_error(y_test,y_pred)"
   ]
  },
  {
   "cell_type": "code",
   "execution_count": 2514,
   "metadata": {},
   "outputs": [],
   "source": [
    "from sklearn.ensemble import AdaBoostRegressor, BaggingRegressor, ExtraTreesRegressor ,GradientBoostingRegressor"
   ]
  },
  {
   "cell_type": "code",
   "execution_count": 2515,
   "metadata": {},
   "outputs": [],
   "source": [
    "from sklearn.ensemble import StackingRegressor, VotingRegressor"
   ]
  },
  {
   "cell_type": "code",
   "execution_count": 2516,
   "metadata": {},
   "outputs": [],
   "source": [
    "model = AdaBoostRegressor(random_state=1)\n",
    "model.fit(x_train,y_train)\n",
    "y_pred = model.predict(x_test)"
   ]
  },
  {
   "cell_type": "code",
   "execution_count": 2517,
   "metadata": {},
   "outputs": [
    {
     "name": "stdout",
     "output_type": "stream",
     "text": [
      "3.8925485006535974\n",
      "0.09030340480834247\n",
      "4.76948567255932\n",
      "0.38791643740243476\n"
     ]
    }
   ],
   "source": [
    "print(mean_absolute_error(y_test,y_pred))\n",
    "print(mean_absolute_percentage_error(y_test,y_pred))\n",
    "print(mean_squared_error(y_test,y_pred)**0.5)\n",
    "print(r2_score(y_test,y_pred))\n",
    "result['AdaBoostRegressor']= mean_absolute_error(y_test,y_pred)\n",
    "result_mape['AdaBoostRegressor']= mean_absolute_percentage_error(y_test,y_pred)\n",
    "result_r2['AdaBoostRegressor']= r2_score(y_test,y_pred)"
   ]
  },
  {
   "cell_type": "code",
   "execution_count": 2518,
   "metadata": {},
   "outputs": [
    {
     "data": {
      "image/png": "[encoded data removed]",
      "text/plain": [
       "<Figure size 1440x576 with 1 Axes>"
      ]
     },
     "metadata": {
      "needs_background": "light"
     },
     "output_type": "display_data"
    }
   ],
   "source": [
    "plt.figure(figsize=(20,8))\n",
    "plt.barh(list(x_train),model.feature_importances_)\n",
    "plt.show()"
   ]
  },
  {
   "cell_type": "code",
   "execution_count": 2519,
   "metadata": {},
   "outputs": [],
   "source": [
    "model = BaggingRegressor(random_state=1)\n",
    "model.fit(x_train,y_train)\n",
    "y_pred = model.predict(x_test)"
   ]
  },
  {
   "cell_type": "code",
   "execution_count": 2520,
   "metadata": {},
   "outputs": [
    {
     "name": "stdout",
     "output_type": "stream",
     "text": [
      "3.4398901098901096\n",
      "0.08181386561128053\n",
      "4.643438830847691\n",
      "0.41984094176372344\n"
     ]
    }
   ],
   "source": [
    "print(mean_absolute_error(y_test,y_pred))\n",
    "print(mean_absolute_percentage_error(y_test,y_pred))\n",
    "print(mean_squared_error(y_test,y_pred)**0.5)\n",
    "print(r2_score(y_test,y_pred))\n",
    "result['BaggingRegressor']= mean_absolute_error(y_test,y_pred)\n",
    "result_mape['BaggingRegressor']= mean_absolute_percentage_error(y_test,y_pred)\n",
    "result_r2['BaggingRegressor']= r2_score(y_test,y_pred)"
   ]
  },
  {
   "cell_type": "code",
   "execution_count": 2550,
   "metadata": {},
   "outputs": [],
   "source": [
    "model = ExtraTreesRegressor(random_state=1)\n",
    "model.fit(x_train,y_train)\n",
    "y_pred = model.predict(x_test)"
   ]
  },
  {
   "cell_type": "code",
   "execution_count": 2551,
   "metadata": {},
   "outputs": [
    {
     "name": "stdout",
     "output_type": "stream",
     "text": [
      "2.9315384615384597\n",
      "0.06819968014698312\n",
      "3.7228190311189606\n",
      "0.627083610809544\n"
     ]
    }
   ],
   "source": [
    "print(mean_absolute_error(y_test,y_pred))\n",
    "print(mean_absolute_percentage_error(y_test,y_pred))\n",
    "print(mean_squared_error(y_test,y_pred)**0.5)\n",
    "print(r2_score(y_test,y_pred))\n",
    "result['ExtraTreesRegressor']= mean_absolute_error(y_test,y_pred)\n",
    "result_mape['ExtraTreesRegressor']= mean_absolute_percentage_error(y_test,y_pred)\n",
    "result_r2['ExtraTreesRegressor']= r2_score(y_test,y_pred)"
   ]
  },
  {
   "cell_type": "code",
   "execution_count": 2556,
   "metadata": {},
   "outputs": [
    {
     "data": {
      "text/plain": [
       "[<matplotlib.lines.Line2D at 0x7fec4e3c6670>]"
      ]
     },
     "execution_count": 2556,
     "metadata": {},
     "output_type": "execute_result"
    },
    {
     "data": {
      "image/png": "[encoded data removed]",
      "text/plain": [
       "<Figure size 1440x504 with 1 Axes>"
      ]
     },
     "metadata": {
      "needs_background": "light"
     },
     "output_type": "display_data"
    }
   ],
   "source": [
    "plt.figure(figsize=(20,7))\n",
    "plt.plot(y_pred)\n",
    "plt.plot(y_test.values)\n"
   ]
  },
  {
   "cell_type": "code",
   "execution_count": 2523,
   "metadata": {},
   "outputs": [
    {
     "data": {
      "text/plain": [
       "(2923, 16)"
      ]
     },
     "execution_count": 2523,
     "metadata": {},
     "output_type": "execute_result"
    }
   ],
   "source": [
    "data_f.shape"
   ]
  },
  {
   "cell_type": "code",
   "execution_count": 2524,
   "metadata": {},
   "outputs": [
    {
     "data": {
      "image/png": "[encoded data removed]",
      "text/plain": [
       "<Figure size 1440x720 with 1 Axes>"
      ]
     },
     "metadata": {
      "needs_background": "light"
     },
     "output_type": "display_data"
    }
   ],
   "source": [
    "plt.figure(figsize=(20,10))\n",
    "plt.barh(list(x_train),model.feature_importances_)\n",
    "plt.show()"
   ]
  },
  {
   "cell_type": "code",
   "execution_count": 2525,
   "metadata": {},
   "outputs": [],
   "source": [
    "\n",
    "model = GradientBoostingRegressor(random_state=1)\n",
    "model.fit(x_train,y_train)\n",
    "y_pred = model.predict(x_test)"
   ]
  },
  {
   "cell_type": "code",
   "execution_count": 2526,
   "metadata": {
    "scrolled": false
   },
   "outputs": [
    {
     "name": "stdout",
     "output_type": "stream",
     "text": [
      "3.6667926363630015\n",
      "0.08312145374834996\n",
      "4.734858504448873\n",
      "0.396771808180051\n"
     ]
    }
   ],
   "source": [
    "print(mean_absolute_error(y_test,y_pred))\n",
    "print(mean_absolute_percentage_error(y_test,y_pred))\n",
    "print(mean_squared_error(y_test,y_pred)**0.5)\n",
    "print(r2_score(y_test,y_pred))\n",
    "result['GradientBoostingRegressor']= mean_absolute_error(y_test,y_pred)\n",
    "result_mape['GradientBoostingRegressor']= mean_absolute_percentage_error(y_test,y_pred)\n",
    "result_r2['GradientBoostingRegressor']= r2_score(y_test,y_pred)"
   ]
  },
  {
   "cell_type": "code",
   "execution_count": 2527,
   "metadata": {},
   "outputs": [
    {
     "data": {
      "image/png": "[encoded data removed]",
      "text/plain": [
       "<Figure size 1440x576 with 1 Axes>"
      ]
     },
     "metadata": {
      "needs_background": "light"
     },
     "output_type": "display_data"
    }
   ],
   "source": [
    "plt.figure(figsize=(20,8))\n",
    "plt.barh(list(x_train),model.feature_importances_)\n",
    "plt.show()"
   ]
  },
  {
   "cell_type": "code",
   "execution_count": 2528,
   "metadata": {},
   "outputs": [],
   "source": [
    "estimators = [('li', LinearRegression()),('svr', SVR()) ]\n",
    "\n",
    "model = StackingRegressor(estimators=estimators)\n",
    "model.fit(x_train,y_train)\n",
    "y_pred = model.predict(x_test)"
   ]
  },
  {
   "cell_type": "code",
   "execution_count": 2529,
   "metadata": {},
   "outputs": [
    {
     "name": "stdout",
     "output_type": "stream",
     "text": [
      "3.788787860109193\n",
      "0.09423835707619414\n",
      "4.780622371990458\n",
      "0.3850546827118616\n"
     ]
    }
   ],
   "source": [
    "print(mean_absolute_error(y_test,y_pred))\n",
    "print(mean_absolute_percentage_error(y_test,y_pred))\n",
    "print(mean_squared_error(y_test,y_pred)**0.5)\n",
    "print(r2_score(y_test,y_pred))\n",
    "result['StackingRegressor']= mean_absolute_error(y_test,y_pred)\n",
    "result_mape['StackingRegressor']= mean_absolute_percentage_error(y_test,y_pred)\n",
    "result_r2['StackingRegressor']= r2_score(y_test,y_pred)"
   ]
  },
  {
   "cell_type": "code",
   "execution_count": 2530,
   "metadata": {},
   "outputs": [],
   "source": [
    "model = VotingRegressor(estimators=estimators)\n",
    "model.fit(x_train,y_train)\n",
    "y_pred = model.predict(x_test)"
   ]
  },
  {
   "cell_type": "code",
   "execution_count": 2531,
   "metadata": {},
   "outputs": [
    {
     "name": "stdout",
     "output_type": "stream",
     "text": [
      "3.2369201995799433\n",
      "0.07444270206823489\n",
      "4.012748411297776\n",
      "0.5667371195770965\n"
     ]
    }
   ],
   "source": [
    "print(mean_absolute_error(y_test,y_pred))\n",
    "print(mean_absolute_percentage_error(y_test,y_pred))\n",
    "print(mean_squared_error(y_test,y_pred)**0.5)\n",
    "print(r2_score(y_test,y_pred))\n",
    "result['VotingRegressor']= mean_absolute_error(y_test,y_pred)\n",
    "result_mape['VotingRegressor']= mean_absolute_percentage_error(y_test,y_pred)\n",
    "result_r2['VotingRegressor']= r2_score(y_test,y_pred)"
   ]
  },
  {
   "cell_type": "code",
   "execution_count": 2532,
   "metadata": {},
   "outputs": [],
   "source": [
    "from sklearn.naive_bayes import GaussianNB"
   ]
  },
  {
   "cell_type": "code",
   "execution_count": null,
   "metadata": {},
   "outputs": [],
   "source": []
  },
  {
   "cell_type": "markdown",
   "metadata": {
    "id": "Ik2DNmAC0Zzd"
   },
   "source": [
    "## 3.모델별 비교\n",
    "* **세부요구사항**\n",
    "    * 모델링 단계에서 생성한 모든 모델의 성능을 하나로 모아서 비교합니다.\n",
    "    * 가장 성능이 높은 모델을 선정합니다."
   ]
  },
  {
   "cell_type": "code",
   "execution_count": 2533,
   "metadata": {
    "colab": {
     "base_uri": "https://localhost:8080/",
     "height": 269
    },
    "executionInfo": {
     "elapsed": 20,
     "status": "ok",
     "timestamp": 1682643538242,
     "user": {
      "displayName": "한기영",
      "userId": "13049187003176135487"
     },
     "user_tz": -540
    },
    "id": "qISwMmIK65i1",
    "outputId": "38562f85-2c02-45c0-db33-b285733581f8"
   },
   "outputs": [
    {
     "data": {
      "text/plain": [
       "Index(['taxi_count', 'call', 'wait_time', 'dist', 'temp_max', 'temp_min',\n",
       "       'holiday', 'catch_rate', 'weekend', 'rain', 'covid', 'week_dist_mean_4',\n",
       "       'season_Spring', 'season_Summer', 'season_Fall', 'season_Winter'],\n",
       "      dtype='object')"
      ]
     },
     "execution_count": 2533,
     "metadata": {},
     "output_type": "execute_result"
    }
   ],
   "source": [
    "# 아래에 실습코드를 작성하고 결과를 확인합니다.\n",
    "data_f.columns"
   ]
  },
  {
   "cell_type": "code",
   "execution_count": 2534,
   "metadata": {
    "executionInfo": {
     "elapsed": 19,
     "status": "ok",
     "timestamp": 1682643538243,
     "user": {
      "displayName": "한기영",
      "userId": "13049187003176135487"
     },
     "user_tz": -540
    },
    "id": "431fKlaTeCWg"
   },
   "outputs": [
    {
     "name": "stdout",
     "output_type": "stream",
     "text": [
      "MAE\n",
      "========================================\n",
      "RandomForestRegressor 3.135\n",
      "LinearRegression 3.422\n",
      "XGBRegressor 3.164\n",
      "SVR 4.992\n",
      "KNeighborsRegressor 88.732\n",
      "AdaBoostRegressor 3.893\n",
      "BaggingRegressor 3.44\n",
      "ExtraTreesRegressor 2.932\n",
      "GradientBoostingRegressor 3.667\n",
      "StackingRegressor 3.789\n",
      "VotingRegressor 3.237\n",
      "========================================\n"
     ]
    }
   ],
   "source": [
    "\n",
    "# 성능 비교\n",
    "print(\"MAE\")\n",
    "print('=' * 40)\n",
    "for m_name, score in result.items():\n",
    "    print(m_name, score.round(3))\n",
    "print('=' * 40)"
   ]
  },
  {
   "cell_type": "code",
   "execution_count": 2535,
   "metadata": {},
   "outputs": [
    {
     "name": "stdout",
     "output_type": "stream",
     "text": [
      "MAPE\n",
      "========================================\n",
      "RandomForestRegressor 0.074\n",
      "LinearRegression 0.084\n",
      "XGBRegressor 0.074\n",
      "SVR 0.11\n",
      "KNeighborsRegressor 0.128\n",
      "AdaBoostRegressor 0.09\n",
      "BaggingRegressor 0.082\n",
      "ExtraTreesRegressor 0.068\n",
      "GradientBoostingRegressor 0.083\n",
      "StackingRegressor 0.094\n",
      "VotingRegressor 0.074\n",
      "========================================\n"
     ]
    }
   ],
   "source": [
    "# 아래에 실습코드를 작성하고 결과를 확인합니다.\n",
    "\n",
    "# 성능 비교\n",
    "print(\"MAPE\")\n",
    "print('=' * 40)\n",
    "for m_name, score in result_mape.items():\n",
    "    print(m_name, score.round(3))\n",
    "print('=' * 40)"
   ]
  },
  {
   "cell_type": "code",
   "execution_count": 2536,
   "metadata": {},
   "outputs": [
    {
     "name": "stdout",
     "output_type": "stream",
     "text": [
      "R2\n",
      "========================================\n",
      "RandomForestRegressor 0.557\n",
      "LinearRegression 0.525\n",
      "XGBRegressor 0.525\n",
      "SVR -0.121\n",
      "KNeighborsRegressor -0.384\n",
      "AdaBoostRegressor 0.388\n",
      "BaggingRegressor 0.42\n",
      "ExtraTreesRegressor 0.627\n",
      "GradientBoostingRegressor 0.397\n",
      "StackingRegressor 0.385\n",
      "VotingRegressor 0.567\n",
      "========================================\n"
     ]
    }
   ],
   "source": [
    "# 성능 비교\n",
    "print(\"R2\")\n",
    "print('=' * 40)\n",
    "for m_name, score in result_r2.items():\n",
    "    print(m_name, score.round(3))\n",
    "print('=' * 40)"
   ]
  },
  {
   "cell_type": "code",
   "execution_count": null,
   "metadata": {},
   "outputs": [],
   "source": []
  },
  {
   "cell_type": "code",
   "execution_count": 2547,
   "metadata": {},
   "outputs": [],
   "source": [
    "param = {\n",
    "    'n_estimators':range(20,150,5),\n",
    "    'max_depth':range(3,6),\n",
    "}"
   ]
  },
  {
   "cell_type": "code",
   "execution_count": 2548,
   "metadata": {},
   "outputs": [],
   "source": [
    "GB = ExtraTreesRegressor()\n",
    "model = GridSearchCV(GB,param,cv=10,scoring='r2')\n",
    "model.fit(x_train,y_train)\n",
    "y_pred = model.predict(x_test)"
   ]
  },
  {
   "cell_type": "code",
   "execution_count": 2549,
   "metadata": {},
   "outputs": [
    {
     "name": "stdout",
     "output_type": "stream",
     "text": [
      "4.781567444278168\n",
      "0.10598248734591896\n",
      "5.90987688518863\n",
      "0.06022370273197597\n"
     ]
    }
   ],
   "source": [
    "print(mean_absolute_error(y_test,y_pred))\n",
    "print(mean_absolute_percentage_error(y_test,y_pred))\n",
    "print(mean_squared_error(y_test,y_pred)**0.5)\n",
    "print(r2_score(y_test,y_pred))"
   ]
  },
  {
   "cell_type": "code",
   "execution_count": null,
   "metadata": {},
   "outputs": [],
   "source": []
  },
  {
   "cell_type": "code",
   "execution_count": null,
   "metadata": {},
   "outputs": [],
   "source": [
    "import numpy as np\n",
    "import pandas as pd\n",
    "import matplotlib.pyplot as plt\n",
    "import tensorflow as tf\n",
    "from tensorflow.keras.layers import Dense\n",
    "from tensorflow.keras.layers import LSTM\n",
    "from tensorflow.keras.layers import Dropout\n",
    "from tensorflow.keras.layers import Activation\n",
    "from tensorflow.keras.models import Sequential\n",
    "from tensorflow.keras.optimizers import Adam\n",
    "from tensorflow.keras.losses import MSE\n",
    "from tensorflow.keras.callbacks import EarlyStopping\n",
    "from tensorflow.keras.callbacks import ModelCheckpoint\n",
    "from tensorflow.keras.callbacks import ReduceLROnPlateau\n",
    "\n",
    "\n",
    "class ForecastLSTM:\n",
    "    def __init__(self, random_seed: int = 1):\n",
    "        self.random_seed = random_seed"
   ]
  },
  {
   "cell_type": "code",
   "execution_count": null,
   "metadata": {},
   "outputs": [],
   "source": [
    "data = joblib.load('data1.plk') \n",
    "data.shape"
   ]
  },
  {
   "cell_type": "code",
   "execution_count": null,
   "metadata": {},
   "outputs": [],
   "source": [
    "data['rain'] = data['rain(mm)']\n",
    "data['rain'] = data['rain'].map(lambda x: 1 if x>15 else 0 )\n",
    "data['weekend'] =  data['Date'].dt.weekday\n",
    "data['weekend'] = data['weekend'].map(lambda x: 1 if x==5 or x==6 else 0 )\n",
    "data['cold'] = data['temp_max']\n",
    "data['cold'] = data['temp_max'].map(lambda x: 1 if x<0 else 0 )\n",
    "data['hot'] = data['temp_max']\n",
    "data['hot'] = data['temp_max'].map(lambda x: 1 if x>31 else 0 )\n",
    "\n",
    "start_date = '2020-01-20'\n",
    "end_date = '2023-05-11'\n",
    "data['covid'] = 0  \n",
    "data.loc[(data['Date'] >= start_date) & (data['Date'] <= end_date), 'covid'] = 1\n",
    "\n",
    "def add_basic_fare(year):\n",
    "    if 2012 == year:\n",
    "        return 2400\n",
    "    elif 2013 <= year <2019:\n",
    "        return 3000\n",
    "    elif year >= 2019:\n",
    "        return 3800\n",
    "    else:  # 나머지 경우는 0으로 처리\n",
    "        return 0\n",
    "data['기본요금'] = data['year'].apply(add_basic_fare)\n",
    "data['week_dist_mean'] = data['dist'].rolling(window=4,min_periods=1).mean()"
   ]
  },
  {
   "cell_type": "code",
   "execution_count": null,
   "metadata": {},
   "outputs": [],
   "source": [
    "data_lstm = data.copy()"
   ]
  },
  {
   "cell_type": "code",
   "execution_count": null,
   "metadata": {},
   "outputs": [],
   "source": [
    "# x와 y 분리\n",
    "data_lstm = pd.get_dummies(data_lstm, columns=['weekday','season'])\n",
    "\n",
    "x = data_lstm.drop('wait_time',axis=1)\n",
    "y = data_lstm['wait_time']"
   ]
  },
  {
   "cell_type": "code",
   "execution_count": null,
   "metadata": {},
   "outputs": [],
   "source": [
    "dates = pd.to_datetime(data_lstm['Date'])"
   ]
  },
  {
   "cell_type": "code",
   "execution_count": null,
   "metadata": {},
   "outputs": [],
   "source": [
    "# variables for training\n",
    "cols = list(data_lstm)[1:]\n",
    "\n",
    "# new dataframe with only training data - 5 columns\n",
    "stock_data = data_lstm[cols].astype(float)\n",
    "stock_data.drop(['week', 'month','year','sunshine(MJ/m2)','기본요금','humidity_min(%)','humidity_max(%)','rain(mm)'],axis=1, inplace=True)\n",
    "stock_data"
   ]
  },
  {
   "cell_type": "code",
   "execution_count": null,
   "metadata": {},
   "outputs": [],
   "source": [
    "n_train = -92\n",
    "train_dates = dates[0: n_train]\n",
    "test_dates = dates[n_train:]\n",
    "\n",
    "from sklearn.preprocessing import StandardScaler\n",
    "\n",
    "scaler = StandardScaler()\n",
    "train_data_scaled = scaler.fit_transform(stock_data.iloc[0: n_train,:])\n",
    "test_data_scaled = scaler.transform(stock_data.iloc[n_train:,:])\n",
    "\n",
    "train_data_scaled.shape\n"
   ]
  },
  {
   "cell_type": "code",
   "execution_count": null,
   "metadata": {},
   "outputs": [],
   "source": [
    "pred_days = 1  # prediction period\n",
    "seq_len = 7   # sequence length = past days for future prediction.\n",
    "input_dim = 34"
   ]
  },
  {
   "cell_type": "code",
   "execution_count": null,
   "metadata": {},
   "outputs": [],
   "source": [
    "\n",
    "trainX = []\n",
    "trainY = []\n",
    "testX = []\n",
    "testY = []\n",
    "\n",
    "for i in range(seq_len, 2831-pred_days +1):\n",
    "    trainX.append(train_data_scaled[i - seq_len:i, 0:train_data_scaled.shape[1]])\n",
    "    trainY.append(train_data_scaled[i + pred_days - 1:i + pred_days, 0])\n",
    "\n",
    "for i in range(seq_len, 92-pred_days +1):\n",
    "    testX.append(test_data_scaled[i - seq_len:i, 0:test_data_scaled.shape[1]])\n",
    "    testY.append(test_data_scaled[i + pred_days - 1:i + pred_days, 0])\n"
   ]
  },
  {
   "cell_type": "code",
   "execution_count": null,
   "metadata": {},
   "outputs": [],
   "source": []
  },
  {
   "cell_type": "code",
   "execution_count": null,
   "metadata": {
    "scrolled": false
   },
   "outputs": [],
   "source": [
    "trainX, trainY = np.array(trainX), np.array(trainY)\n",
    "testX, testY = np.array(testX), np.array(testY)\n",
    "\n",
    "# print(trainX.shape, trainY.shape)\n",
    "# print(testX.shape, testY.shape)\n",
    "\n",
    "# LSTM model\n",
    "model = Sequential()\n",
    "model.add(LSTM(64, input_shape=(trainX.shape[1], trainX.shape[2]), # (seq length, input dimension)\n",
    "               return_sequences=True))\n",
    "model.add(LSTM(32, return_sequences=False))\n",
    "model.add(Dense(trainY.shape[1]))\n",
    "\n",
    "model.summary()\n",
    "\n",
    "# specify your learning rate\n",
    "learning_rate = 0.01\n",
    "# create an Adam optimizer with the specified learning rate\n",
    "optimizer = Adam(learning_rate=learning_rate)\n",
    "# compile your model using the custom optimizer\n",
    "model.compile(optimizer=optimizer, loss='mae')\n",
    "\n",
    "# Try to load weights\n",
    "try:\n",
    "    model.load_weights('./save_weights/lstm_weights.h5')\n",
    "    print(\"Loaded model weights from disk\")\n",
    "except:\n",
    "    print(\"No weights found, training model from scratch\")\n",
    "    # Fit the model\n",
    "    history = model.fit(trainX, trainY, epochs=30, batch_size=32,\n",
    "                    validation_split=0.1, verbose=1)\n",
    "    # Save model weights after training\n",
    "    model.save_weights('./lstm_weights.h5')\n",
    "\n",
    "    plt.plot(history.history['loss'], label='Training loss')\n",
    "    plt.plot(history.history['val_loss'], label='Validation loss')\n",
    "    plt.legend()\n",
    "    plt.show()\n",
    "\n",
    "\n",
    "# prediction\n",
    "prediction = model.predict(testX)\n",
    "print(prediction.shape, testY.shape)\n",
    "\n",
    "# generate array filled with means for prediction\n",
    "mean_values_pred = np.repeat(scaler.mean_[np.newaxis, :], prediction.shape[0], axis=0)\n",
    "\n",
    "# substitute predictions into the first column\n",
    "mean_values_pred[:, 0] = np.squeeze(prediction)\n",
    "\n",
    "# inverse transform\n",
    "y_pred = scaler.inverse_transform(mean_values_pred)[:,0]\n",
    "print(y_pred.shape)\n",
    "\n"
   ]
  },
  {
   "cell_type": "code",
   "execution_count": null,
   "metadata": {},
   "outputs": [],
   "source": [
    "print(mean_absolute_error(testY,y_pred))\n",
    "print(mean_absolute_percentage_error(testY,y_pred))\n",
    "print(r2_score(testY,y_pred))"
   ]
  },
  {
   "cell_type": "code",
   "execution_count": null,
   "metadata": {},
   "outputs": [],
   "source": [
    "prediction"
   ]
  },
  {
   "cell_type": "code",
   "execution_count": null,
   "metadata": {
    "scrolled": false
   },
   "outputs": [],
   "source": [
    "y_pred"
   ]
  },
  {
   "cell_type": "code",
   "execution_count": null,
   "metadata": {},
   "outputs": [],
   "source": [
    "testY"
   ]
  },
  {
   "cell_type": "code",
   "execution_count": 766,
   "metadata": {},
   "outputs": [
    {
     "ename": "ValueError",
     "evalue": "Multi-dimensional indexing (e.g. `obj[:, None]`) is no longer supported. Convert to a numpy array before indexing instead.",
     "output_type": "error",
     "traceback": [
      "\u001b[0;31m---------------------------------------------------------------------------\u001b[0m",
      "\u001b[0;31mValueError\u001b[0m                                Traceback (most recent call last)",
      "\u001b[0;32m/var/folders/mj/4721wdlx14z7chpqqlq171fw0000gn/T/ipykernel_2238/2331362427.py\u001b[0m in \u001b[0;36m<module>\u001b[0;34m\u001b[0m\n\u001b[1;32m      3\u001b[0m \u001b[0;31m# plot original 'Open' price\u001b[0m\u001b[0;34m\u001b[0m\u001b[0;34m\u001b[0m\u001b[0m\n\u001b[1;32m      4\u001b[0m \u001b[0;34m\u001b[0m\u001b[0m\n\u001b[0;32m----> 5\u001b[0;31m \u001b[0mplt\u001b[0m\u001b[0;34m.\u001b[0m\u001b[0mplot\u001b[0m\u001b[0;34m(\u001b[0m\u001b[0mtest_dates\u001b[0m\u001b[0;34m,\u001b[0m \u001b[0my_pred\u001b[0m\u001b[0;34m)\u001b[0m\u001b[0;34m\u001b[0m\u001b[0;34m\u001b[0m\u001b[0m\n\u001b[0m\u001b[1;32m      6\u001b[0m \u001b[0mplt\u001b[0m\u001b[0;34m.\u001b[0m\u001b[0mplot\u001b[0m\u001b[0;34m(\u001b[0m\u001b[0mtest_dates\u001b[0m\u001b[0;34m[\u001b[0m\u001b[0mseq_len\u001b[0m\u001b[0;34m:\u001b[0m\u001b[0;34m]\u001b[0m\u001b[0;34m,\u001b[0m \u001b[0my_pred\u001b[0m\u001b[0;34m,\u001b[0m \u001b[0mcolor\u001b[0m\u001b[0;34m=\u001b[0m\u001b[0;34m'red'\u001b[0m\u001b[0;34m,\u001b[0m \u001b[0mlinestyle\u001b[0m\u001b[0;34m=\u001b[0m\u001b[0;34m'--'\u001b[0m\u001b[0;34m,\u001b[0m \u001b[0mlabel\u001b[0m\u001b[0;34m=\u001b[0m\u001b[0;34m'Predicted Open Price'\u001b[0m\u001b[0;34m)\u001b[0m\u001b[0;34m\u001b[0m\u001b[0;34m\u001b[0m\u001b[0m\n\u001b[1;32m      7\u001b[0m \u001b[0mplt\u001b[0m\u001b[0;34m.\u001b[0m\u001b[0mxlabel\u001b[0m\u001b[0;34m(\u001b[0m\u001b[0;34m'Date'\u001b[0m\u001b[0;34m)\u001b[0m\u001b[0;34m\u001b[0m\u001b[0;34m\u001b[0m\u001b[0m\n",
      "\u001b[0;32m~/opt/anaconda3/lib/python3.9/site-packages/matplotlib/pyplot.py\u001b[0m in \u001b[0;36mplot\u001b[0;34m(scalex, scaley, data, *args, **kwargs)\u001b[0m\n\u001b[1;32m   3017\u001b[0m \u001b[0;34m@\u001b[0m\u001b[0m_copy_docstring_and_deprecators\u001b[0m\u001b[0;34m(\u001b[0m\u001b[0mAxes\u001b[0m\u001b[0;34m.\u001b[0m\u001b[0mplot\u001b[0m\u001b[0;34m)\u001b[0m\u001b[0;34m\u001b[0m\u001b[0;34m\u001b[0m\u001b[0m\n\u001b[1;32m   3018\u001b[0m \u001b[0;32mdef\u001b[0m \u001b[0mplot\u001b[0m\u001b[0;34m(\u001b[0m\u001b[0;34m*\u001b[0m\u001b[0margs\u001b[0m\u001b[0;34m,\u001b[0m \u001b[0mscalex\u001b[0m\u001b[0;34m=\u001b[0m\u001b[0;32mTrue\u001b[0m\u001b[0;34m,\u001b[0m \u001b[0mscaley\u001b[0m\u001b[0;34m=\u001b[0m\u001b[0;32mTrue\u001b[0m\u001b[0;34m,\u001b[0m \u001b[0mdata\u001b[0m\u001b[0;34m=\u001b[0m\u001b[0;32mNone\u001b[0m\u001b[0;34m,\u001b[0m \u001b[0;34m**\u001b[0m\u001b[0mkwargs\u001b[0m\u001b[0;34m)\u001b[0m\u001b[0;34m:\u001b[0m\u001b[0;34m\u001b[0m\u001b[0;34m\u001b[0m\u001b[0m\n\u001b[0;32m-> 3019\u001b[0;31m     return gca().plot(\n\u001b[0m\u001b[1;32m   3020\u001b[0m         \u001b[0;34m*\u001b[0m\u001b[0margs\u001b[0m\u001b[0;34m,\u001b[0m \u001b[0mscalex\u001b[0m\u001b[0;34m=\u001b[0m\u001b[0mscalex\u001b[0m\u001b[0;34m,\u001b[0m \u001b[0mscaley\u001b[0m\u001b[0;34m=\u001b[0m\u001b[0mscaley\u001b[0m\u001b[0;34m,\u001b[0m\u001b[0;34m\u001b[0m\u001b[0;34m\u001b[0m\u001b[0m\n\u001b[1;32m   3021\u001b[0m         **({\"data\": data} if data is not None else {}), **kwargs)\n",
      "\u001b[0;32m~/opt/anaconda3/lib/python3.9/site-packages/matplotlib/axes/_axes.py\u001b[0m in \u001b[0;36mplot\u001b[0;34m(self, scalex, scaley, data, *args, **kwargs)\u001b[0m\n\u001b[1;32m   1603\u001b[0m         \"\"\"\n\u001b[1;32m   1604\u001b[0m         \u001b[0mkwargs\u001b[0m \u001b[0;34m=\u001b[0m \u001b[0mcbook\u001b[0m\u001b[0;34m.\u001b[0m\u001b[0mnormalize_kwargs\u001b[0m\u001b[0;34m(\u001b[0m\u001b[0mkwargs\u001b[0m\u001b[0;34m,\u001b[0m \u001b[0mmlines\u001b[0m\u001b[0;34m.\u001b[0m\u001b[0mLine2D\u001b[0m\u001b[0;34m)\u001b[0m\u001b[0;34m\u001b[0m\u001b[0;34m\u001b[0m\u001b[0m\n\u001b[0;32m-> 1605\u001b[0;31m         \u001b[0mlines\u001b[0m \u001b[0;34m=\u001b[0m \u001b[0;34m[\u001b[0m\u001b[0;34m*\u001b[0m\u001b[0mself\u001b[0m\u001b[0;34m.\u001b[0m\u001b[0m_get_lines\u001b[0m\u001b[0;34m(\u001b[0m\u001b[0;34m*\u001b[0m\u001b[0margs\u001b[0m\u001b[0;34m,\u001b[0m \u001b[0mdata\u001b[0m\u001b[0;34m=\u001b[0m\u001b[0mdata\u001b[0m\u001b[0;34m,\u001b[0m \u001b[0;34m**\u001b[0m\u001b[0mkwargs\u001b[0m\u001b[0;34m)\u001b[0m\u001b[0;34m]\u001b[0m\u001b[0;34m\u001b[0m\u001b[0;34m\u001b[0m\u001b[0m\n\u001b[0m\u001b[1;32m   1606\u001b[0m         \u001b[0;32mfor\u001b[0m \u001b[0mline\u001b[0m \u001b[0;32min\u001b[0m \u001b[0mlines\u001b[0m\u001b[0;34m:\u001b[0m\u001b[0;34m\u001b[0m\u001b[0;34m\u001b[0m\u001b[0m\n\u001b[1;32m   1607\u001b[0m             \u001b[0mself\u001b[0m\u001b[0;34m.\u001b[0m\u001b[0madd_line\u001b[0m\u001b[0;34m(\u001b[0m\u001b[0mline\u001b[0m\u001b[0;34m)\u001b[0m\u001b[0;34m\u001b[0m\u001b[0;34m\u001b[0m\u001b[0m\n",
      "\u001b[0;32m~/opt/anaconda3/lib/python3.9/site-packages/matplotlib/axes/_base.py\u001b[0m in \u001b[0;36m__call__\u001b[0;34m(self, data, *args, **kwargs)\u001b[0m\n\u001b[1;32m    313\u001b[0m                 \u001b[0mthis\u001b[0m \u001b[0;34m+=\u001b[0m \u001b[0margs\u001b[0m\u001b[0;34m[\u001b[0m\u001b[0;36m0\u001b[0m\u001b[0;34m]\u001b[0m\u001b[0;34m,\u001b[0m\u001b[0;34m\u001b[0m\u001b[0;34m\u001b[0m\u001b[0m\n\u001b[1;32m    314\u001b[0m                 \u001b[0margs\u001b[0m \u001b[0;34m=\u001b[0m \u001b[0margs\u001b[0m\u001b[0;34m[\u001b[0m\u001b[0;36m1\u001b[0m\u001b[0;34m:\u001b[0m\u001b[0;34m]\u001b[0m\u001b[0;34m\u001b[0m\u001b[0;34m\u001b[0m\u001b[0m\n\u001b[0;32m--> 315\u001b[0;31m             \u001b[0;32myield\u001b[0m \u001b[0;32mfrom\u001b[0m \u001b[0mself\u001b[0m\u001b[0;34m.\u001b[0m\u001b[0m_plot_args\u001b[0m\u001b[0;34m(\u001b[0m\u001b[0mthis\u001b[0m\u001b[0;34m,\u001b[0m \u001b[0mkwargs\u001b[0m\u001b[0;34m)\u001b[0m\u001b[0;34m\u001b[0m\u001b[0;34m\u001b[0m\u001b[0m\n\u001b[0m\u001b[1;32m    316\u001b[0m \u001b[0;34m\u001b[0m\u001b[0m\n\u001b[1;32m    317\u001b[0m     \u001b[0;32mdef\u001b[0m \u001b[0mget_next_color\u001b[0m\u001b[0;34m(\u001b[0m\u001b[0mself\u001b[0m\u001b[0;34m)\u001b[0m\u001b[0;34m:\u001b[0m\u001b[0;34m\u001b[0m\u001b[0;34m\u001b[0m\u001b[0m\n",
      "\u001b[0;32m~/opt/anaconda3/lib/python3.9/site-packages/matplotlib/axes/_base.py\u001b[0m in \u001b[0;36m_plot_args\u001b[0;34m(self, tup, kwargs, return_kwargs)\u001b[0m\n\u001b[1;32m    488\u001b[0m \u001b[0;34m\u001b[0m\u001b[0m\n\u001b[1;32m    489\u001b[0m         \u001b[0;32mif\u001b[0m \u001b[0mlen\u001b[0m\u001b[0;34m(\u001b[0m\u001b[0mxy\u001b[0m\u001b[0;34m)\u001b[0m \u001b[0;34m==\u001b[0m \u001b[0;36m2\u001b[0m\u001b[0;34m:\u001b[0m\u001b[0;34m\u001b[0m\u001b[0;34m\u001b[0m\u001b[0m\n\u001b[0;32m--> 490\u001b[0;31m             \u001b[0mx\u001b[0m \u001b[0;34m=\u001b[0m \u001b[0m_check_1d\u001b[0m\u001b[0;34m(\u001b[0m\u001b[0mxy\u001b[0m\u001b[0;34m[\u001b[0m\u001b[0;36m0\u001b[0m\u001b[0;34m]\u001b[0m\u001b[0;34m)\u001b[0m\u001b[0;34m\u001b[0m\u001b[0;34m\u001b[0m\u001b[0m\n\u001b[0m\u001b[1;32m    491\u001b[0m             \u001b[0my\u001b[0m \u001b[0;34m=\u001b[0m \u001b[0m_check_1d\u001b[0m\u001b[0;34m(\u001b[0m\u001b[0mxy\u001b[0m\u001b[0;34m[\u001b[0m\u001b[0;36m1\u001b[0m\u001b[0;34m]\u001b[0m\u001b[0;34m)\u001b[0m\u001b[0;34m\u001b[0m\u001b[0;34m\u001b[0m\u001b[0m\n\u001b[1;32m    492\u001b[0m         \u001b[0;32melse\u001b[0m\u001b[0;34m:\u001b[0m\u001b[0;34m\u001b[0m\u001b[0;34m\u001b[0m\u001b[0m\n",
      "\u001b[0;32m~/opt/anaconda3/lib/python3.9/site-packages/matplotlib/cbook/__init__.py\u001b[0m in \u001b[0;36m_check_1d\u001b[0;34m(x)\u001b[0m\n\u001b[1;32m   1360\u001b[0m                     message='Support for multi-dimensional indexing')\n\u001b[1;32m   1361\u001b[0m \u001b[0;34m\u001b[0m\u001b[0m\n\u001b[0;32m-> 1362\u001b[0;31m                 \u001b[0mndim\u001b[0m \u001b[0;34m=\u001b[0m \u001b[0mx\u001b[0m\u001b[0;34m[\u001b[0m\u001b[0;34m:\u001b[0m\u001b[0;34m,\u001b[0m \u001b[0;32mNone\u001b[0m\u001b[0;34m]\u001b[0m\u001b[0;34m.\u001b[0m\u001b[0mndim\u001b[0m\u001b[0;34m\u001b[0m\u001b[0;34m\u001b[0m\u001b[0m\n\u001b[0m\u001b[1;32m   1363\u001b[0m                 \u001b[0;31m# we have definitely hit a pandas index or series object\u001b[0m\u001b[0;34m\u001b[0m\u001b[0;34m\u001b[0m\u001b[0m\n\u001b[1;32m   1364\u001b[0m                 \u001b[0;31m# cast to a numpy array.\u001b[0m\u001b[0;34m\u001b[0m\u001b[0;34m\u001b[0m\u001b[0m\n",
      "\u001b[0;32m~/opt/anaconda3/lib/python3.9/site-packages/pandas/core/series.py\u001b[0m in \u001b[0;36m__getitem__\u001b[0;34m(self, key)\u001b[0m\n\u001b[1;32m   1142\u001b[0m             \u001b[0;32mreturn\u001b[0m \u001b[0mself\u001b[0m\u001b[0;34m.\u001b[0m\u001b[0m_get_rows_with_mask\u001b[0m\u001b[0;34m(\u001b[0m\u001b[0mkey\u001b[0m\u001b[0;34m)\u001b[0m\u001b[0;34m\u001b[0m\u001b[0;34m\u001b[0m\u001b[0m\n\u001b[1;32m   1143\u001b[0m \u001b[0;34m\u001b[0m\u001b[0m\n\u001b[0;32m-> 1144\u001b[0;31m         \u001b[0;32mreturn\u001b[0m \u001b[0mself\u001b[0m\u001b[0;34m.\u001b[0m\u001b[0m_get_with\u001b[0m\u001b[0;34m(\u001b[0m\u001b[0mkey\u001b[0m\u001b[0;34m)\u001b[0m\u001b[0;34m\u001b[0m\u001b[0;34m\u001b[0m\u001b[0m\n\u001b[0m\u001b[1;32m   1145\u001b[0m \u001b[0;34m\u001b[0m\u001b[0m\n\u001b[1;32m   1146\u001b[0m     \u001b[0;32mdef\u001b[0m \u001b[0m_get_with\u001b[0m\u001b[0;34m(\u001b[0m\u001b[0mself\u001b[0m\u001b[0;34m,\u001b[0m \u001b[0mkey\u001b[0m\u001b[0;34m)\u001b[0m\u001b[0;34m:\u001b[0m\u001b[0;34m\u001b[0m\u001b[0;34m\u001b[0m\u001b[0m\n",
      "\u001b[0;32m~/opt/anaconda3/lib/python3.9/site-packages/pandas/core/series.py\u001b[0m in \u001b[0;36m_get_with\u001b[0;34m(self, key)\u001b[0m\n\u001b[1;32m   1152\u001b[0m             )\n\u001b[1;32m   1153\u001b[0m         \u001b[0;32melif\u001b[0m \u001b[0misinstance\u001b[0m\u001b[0;34m(\u001b[0m\u001b[0mkey\u001b[0m\u001b[0;34m,\u001b[0m \u001b[0mtuple\u001b[0m\u001b[0;34m)\u001b[0m\u001b[0;34m:\u001b[0m\u001b[0;34m\u001b[0m\u001b[0;34m\u001b[0m\u001b[0m\n\u001b[0;32m-> 1154\u001b[0;31m             \u001b[0;32mreturn\u001b[0m \u001b[0mself\u001b[0m\u001b[0;34m.\u001b[0m\u001b[0m_get_values_tuple\u001b[0m\u001b[0;34m(\u001b[0m\u001b[0mkey\u001b[0m\u001b[0;34m)\u001b[0m\u001b[0;34m\u001b[0m\u001b[0;34m\u001b[0m\u001b[0m\n\u001b[0m\u001b[1;32m   1155\u001b[0m \u001b[0;34m\u001b[0m\u001b[0m\n\u001b[1;32m   1156\u001b[0m         \u001b[0;32melif\u001b[0m \u001b[0;32mnot\u001b[0m \u001b[0mis_list_like\u001b[0m\u001b[0;34m(\u001b[0m\u001b[0mkey\u001b[0m\u001b[0;34m)\u001b[0m\u001b[0;34m:\u001b[0m\u001b[0;34m\u001b[0m\u001b[0;34m\u001b[0m\u001b[0m\n",
      "\u001b[0;32m~/opt/anaconda3/lib/python3.9/site-packages/pandas/core/series.py\u001b[0m in \u001b[0;36m_get_values_tuple\u001b[0;34m(self, key)\u001b[0m\n\u001b[1;32m   1192\u001b[0m             \u001b[0;31m# the asarray is needed to avoid returning a 2D DatetimeArray\u001b[0m\u001b[0;34m\u001b[0m\u001b[0;34m\u001b[0m\u001b[0m\n\u001b[1;32m   1193\u001b[0m             \u001b[0mresult\u001b[0m \u001b[0;34m=\u001b[0m \u001b[0mnp\u001b[0m\u001b[0;34m.\u001b[0m\u001b[0masarray\u001b[0m\u001b[0;34m(\u001b[0m\u001b[0mself\u001b[0m\u001b[0;34m.\u001b[0m\u001b[0m_values\u001b[0m\u001b[0;34m[\u001b[0m\u001b[0mkey\u001b[0m\u001b[0;34m]\u001b[0m\u001b[0;34m)\u001b[0m\u001b[0;34m\u001b[0m\u001b[0;34m\u001b[0m\u001b[0m\n\u001b[0;32m-> 1194\u001b[0;31m             \u001b[0mdisallow_ndim_indexing\u001b[0m\u001b[0;34m(\u001b[0m\u001b[0mresult\u001b[0m\u001b[0;34m)\u001b[0m\u001b[0;34m\u001b[0m\u001b[0;34m\u001b[0m\u001b[0m\n\u001b[0m\u001b[1;32m   1195\u001b[0m             \u001b[0;32mreturn\u001b[0m \u001b[0mresult\u001b[0m\u001b[0;34m\u001b[0m\u001b[0;34m\u001b[0m\u001b[0m\n\u001b[1;32m   1196\u001b[0m \u001b[0;34m\u001b[0m\u001b[0m\n",
      "\u001b[0;32m~/opt/anaconda3/lib/python3.9/site-packages/pandas/core/indexers/utils.py\u001b[0m in \u001b[0;36mdisallow_ndim_indexing\u001b[0;34m(result)\u001b[0m\n\u001b[1;32m    339\u001b[0m     \"\"\"\n\u001b[1;32m    340\u001b[0m     \u001b[0;32mif\u001b[0m \u001b[0mnp\u001b[0m\u001b[0;34m.\u001b[0m\u001b[0mndim\u001b[0m\u001b[0;34m(\u001b[0m\u001b[0mresult\u001b[0m\u001b[0;34m)\u001b[0m \u001b[0;34m>\u001b[0m \u001b[0;36m1\u001b[0m\u001b[0;34m:\u001b[0m\u001b[0;34m\u001b[0m\u001b[0;34m\u001b[0m\u001b[0m\n\u001b[0;32m--> 341\u001b[0;31m         raise ValueError(\n\u001b[0m\u001b[1;32m    342\u001b[0m             \u001b[0;34m\"Multi-dimensional indexing (e.g. `obj[:, None]`) is no longer \"\u001b[0m\u001b[0;34m\u001b[0m\u001b[0;34m\u001b[0m\u001b[0m\n\u001b[1;32m    343\u001b[0m             \u001b[0;34m\"supported. Convert to a numpy array before indexing instead.\"\u001b[0m\u001b[0;34m\u001b[0m\u001b[0;34m\u001b[0m\u001b[0m\n",
      "\u001b[0;31mValueError\u001b[0m: Multi-dimensional indexing (e.g. `obj[:, None]`) is no longer supported. Convert to a numpy array before indexing instead."
     ]
    },
    {
     "data": {
      "image/png": "[encoded data removed]",
      "text/plain": [
       "<Figure size 1008x360 with 1 Axes>"
      ]
     },
     "metadata": {
      "needs_background": "light"
     },
     "output_type": "display_data"
    }
   ],
   "source": [
    "plt.figure(figsize=(14, 5))\n",
    "\n",
    "# plot original 'Open' price\n",
    "\n",
    "plt.plot(test_dates, y_pred)\n",
    "plt.plot(test_dates[seq_len:], y_pred, color='red', linestyle='--', label='Predicted Open Price')\n",
    "plt.xlabel('Date')\n",
    "plt.ylabel('Open Price')\n",
    "plt.title('Original, Actual and Predicted Open Price')\n",
    "plt.legend()\n",
    "plt.show()\n"
   ]
  },
  {
   "cell_type": "code",
   "execution_count": null,
   "metadata": {},
   "outputs": [],
   "source": [
    "# Calculate the start and end indices for the zoomed plot\n",
    "zoom_start = len(test_dates) - 50\n",
    "zoom_end = len(test_dates)\n",
    "# Create the zoomed plot\n",
    "plt.figure(figsize=(14, 5))\n",
    "\n",
    "# Adjust the start index for the testY_original and y_pred arrays\n",
    "adjusted_start = zoom_start - seq_len\n",
    "\n",
    "plt.plot(test_dates[zoom_start:zoom_end],\n",
    "         testY_original[adjusted_start:zoom_end - zoom_start + adjusted_start],\n",
    "         color='blue',\n",
    "         label='Actual Open Price')\n",
    "\n",
    "plt.plot(test_dates[zoom_start:zoom_end],\n",
    "         y_pred[adjusted_start:zoom_end - zoom_start + adjusted_start ],\n",
    "         color='red',\n",
    "         linestyle='--',\n",
    "         label='Predicted Open Price')\n",
    "\n",
    "plt.xlabel('Date')\n",
    "plt.ylabel('Open Price')\n",
    "plt.title('Zoomed In Actual vs Predicted Open Price')\n",
    "plt.legend()\n",
    "plt.show()"
   ]
  },
  {
   "cell_type": "code",
   "execution_count": null,
   "metadata": {},
   "outputs": [],
   "source": []
  }
 ],
 "metadata": {
  "accelerator": "GPU",
  "colab": {
   "provenance": [
    {
     "file_id": "1rAhFiA-Ujmt8relY5oG0amSLXnIVJ7Fu",
     "timestamp": 1676287923203
    }
   ],
   "toc_visible": true
  },
  "gpuClass": "standard",
  "kernelspec": {
   "display_name": "Python 3 (ipykernel)",
   "language": "python",
   "name": "python3"
  },
  "language_info": {
   "codemirror_mode": {
    "name": "ipython",
    "version": 3
   },
   "file_extension": ".py",
   "mimetype": "text/x-python",
   "name": "python",
   "nbconvert_exporter": "python",
   "pygments_lexer": "ipython3",
   "version": "3.9.7"
  }
 },
 "nbformat": 4,
 "nbformat_minor": 1
}
