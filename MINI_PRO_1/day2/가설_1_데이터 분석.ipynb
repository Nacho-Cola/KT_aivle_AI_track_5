{
 "cells": [
  {
   "cell_type": "markdown",
   "id": "boxed-jamaica",
   "metadata": {
    "id": "boxed-jamaica"
   },
   "source": [
    "## AIVLE 1차 미니프로젝트 : '서울시 생활정보 기반 대중교통 수요 분석 '"
   ]
  },
  {
   "cell_type": "markdown",
   "id": "46fa690c",
   "metadata": {
    "id": "46fa690c"
   },
   "source": [
    "제공 데이터를 분석하여 버스 노선 추가 필요 대상 지역(구 단위)을 선정\n",
    "* 제공 데이터\n",
    "    - 구 별 유동인구 데이터\n",
    "    - 구 별 주민 등록 데이터\n",
    "    - 구 별 업종 등록 정보\n",
    "    - 버스 승하차 및 운행 노선 데이터 \n"
   ]
  },
  {
   "cell_type": "code",
   "execution_count": 3,
   "id": "ce78669f",
   "metadata": {},
   "outputs": [],
   "source": [
    "import pandas as pd"
   ]
  },
  {
   "cell_type": "code",
   "execution_count": 4,
   "id": "d91f797e",
   "metadata": {},
   "outputs": [],
   "source": [
    "standard = pd.DataFrame({'도착 시군구 코드': [11010, 11020, 11030, 11040, 11050, 11060, 11070, 11080, 11090, 11100, 11110, 11120, 11130, 11140, 11150, 11160, 11170, 11180, 11190, 11200, 11210, 11220, 11230, 11240, 11250],\n",
    "                         '자치구' :['종로구','중구','용산구','성동구','광진구','동대문구','중랑구','성북구','강북구','도봉구','노원구','은평구','서대문구','마포구','양천구','강서구','구로구','금천구','영등포구','동작구','관악구','서초구','강남구','송파구','강동구']})"
   ]
  },
  {
   "cell_type": "code",
   "execution_count": 5,
   "id": "823d3b41",
   "metadata": {},
   "outputs": [
    {
     "data": {
      "text/html": [
       "<div>\n",
       "<style scoped>\n",
       "    .dataframe tbody tr th:only-of-type {\n",
       "        vertical-align: middle;\n",
       "    }\n",
       "\n",
       "    .dataframe tbody tr th {\n",
       "        vertical-align: top;\n",
       "    }\n",
       "\n",
       "    .dataframe thead th {\n",
       "        text-align: right;\n",
       "    }\n",
       "</style>\n",
       "<table border=\"1\" class=\"dataframe\">\n",
       "  <thead>\n",
       "    <tr style=\"text-align: right;\">\n",
       "      <th></th>\n",
       "      <th>도착 시군구 코드</th>\n",
       "      <th>자치구</th>\n",
       "    </tr>\n",
       "  </thead>\n",
       "  <tbody>\n",
       "    <tr>\n",
       "      <th>0</th>\n",
       "      <td>11010</td>\n",
       "      <td>종로구</td>\n",
       "    </tr>\n",
       "    <tr>\n",
       "      <th>1</th>\n",
       "      <td>11020</td>\n",
       "      <td>중구</td>\n",
       "    </tr>\n",
       "    <tr>\n",
       "      <th>2</th>\n",
       "      <td>11030</td>\n",
       "      <td>용산구</td>\n",
       "    </tr>\n",
       "    <tr>\n",
       "      <th>3</th>\n",
       "      <td>11040</td>\n",
       "      <td>성동구</td>\n",
       "    </tr>\n",
       "    <tr>\n",
       "      <th>4</th>\n",
       "      <td>11050</td>\n",
       "      <td>광진구</td>\n",
       "    </tr>\n",
       "    <tr>\n",
       "      <th>5</th>\n",
       "      <td>11060</td>\n",
       "      <td>동대문구</td>\n",
       "    </tr>\n",
       "    <tr>\n",
       "      <th>6</th>\n",
       "      <td>11070</td>\n",
       "      <td>중랑구</td>\n",
       "    </tr>\n",
       "    <tr>\n",
       "      <th>7</th>\n",
       "      <td>11080</td>\n",
       "      <td>성북구</td>\n",
       "    </tr>\n",
       "    <tr>\n",
       "      <th>8</th>\n",
       "      <td>11090</td>\n",
       "      <td>강북구</td>\n",
       "    </tr>\n",
       "    <tr>\n",
       "      <th>9</th>\n",
       "      <td>11100</td>\n",
       "      <td>도봉구</td>\n",
       "    </tr>\n",
       "    <tr>\n",
       "      <th>10</th>\n",
       "      <td>11110</td>\n",
       "      <td>노원구</td>\n",
       "    </tr>\n",
       "    <tr>\n",
       "      <th>11</th>\n",
       "      <td>11120</td>\n",
       "      <td>은평구</td>\n",
       "    </tr>\n",
       "    <tr>\n",
       "      <th>12</th>\n",
       "      <td>11130</td>\n",
       "      <td>서대문구</td>\n",
       "    </tr>\n",
       "    <tr>\n",
       "      <th>13</th>\n",
       "      <td>11140</td>\n",
       "      <td>마포구</td>\n",
       "    </tr>\n",
       "    <tr>\n",
       "      <th>14</th>\n",
       "      <td>11150</td>\n",
       "      <td>양천구</td>\n",
       "    </tr>\n",
       "    <tr>\n",
       "      <th>15</th>\n",
       "      <td>11160</td>\n",
       "      <td>강서구</td>\n",
       "    </tr>\n",
       "    <tr>\n",
       "      <th>16</th>\n",
       "      <td>11170</td>\n",
       "      <td>구로구</td>\n",
       "    </tr>\n",
       "    <tr>\n",
       "      <th>17</th>\n",
       "      <td>11180</td>\n",
       "      <td>금천구</td>\n",
       "    </tr>\n",
       "    <tr>\n",
       "      <th>18</th>\n",
       "      <td>11190</td>\n",
       "      <td>영등포구</td>\n",
       "    </tr>\n",
       "    <tr>\n",
       "      <th>19</th>\n",
       "      <td>11200</td>\n",
       "      <td>동작구</td>\n",
       "    </tr>\n",
       "    <tr>\n",
       "      <th>20</th>\n",
       "      <td>11210</td>\n",
       "      <td>관악구</td>\n",
       "    </tr>\n",
       "    <tr>\n",
       "      <th>21</th>\n",
       "      <td>11220</td>\n",
       "      <td>서초구</td>\n",
       "    </tr>\n",
       "    <tr>\n",
       "      <th>22</th>\n",
       "      <td>11230</td>\n",
       "      <td>강남구</td>\n",
       "    </tr>\n",
       "    <tr>\n",
       "      <th>23</th>\n",
       "      <td>11240</td>\n",
       "      <td>송파구</td>\n",
       "    </tr>\n",
       "    <tr>\n",
       "      <th>24</th>\n",
       "      <td>11250</td>\n",
       "      <td>강동구</td>\n",
       "    </tr>\n",
       "  </tbody>\n",
       "</table>\n",
       "</div>"
      ],
      "text/plain": [
       "    도착 시군구 코드   자치구\n",
       "0       11010   종로구\n",
       "1       11020    중구\n",
       "2       11030   용산구\n",
       "3       11040   성동구\n",
       "4       11050   광진구\n",
       "5       11060  동대문구\n",
       "6       11070   중랑구\n",
       "7       11080   성북구\n",
       "8       11090   강북구\n",
       "9       11100   도봉구\n",
       "10      11110   노원구\n",
       "11      11120   은평구\n",
       "12      11130  서대문구\n",
       "13      11140   마포구\n",
       "14      11150   양천구\n",
       "15      11160   강서구\n",
       "16      11170   구로구\n",
       "17      11180   금천구\n",
       "18      11190  영등포구\n",
       "19      11200   동작구\n",
       "20      11210   관악구\n",
       "21      11220   서초구\n",
       "22      11230   강남구\n",
       "23      11240   송파구\n",
       "24      11250   강동구"
      ]
     },
     "execution_count": 5,
     "metadata": {},
     "output_type": "execute_result"
    }
   ],
   "source": [
    "standard"
   ]
  },
  {
   "cell_type": "code",
   "execution_count": 6,
   "id": "5ee007e0",
   "metadata": {},
   "outputs": [],
   "source": [
    "# 버스 정류장 데이터 - df_seoul_bus_station\n",
    "# 유동인구 데이터 - df_seoul_moving\n",
    "# 구별 상권 데이터 - df_seoul_business\n",
    "# 구별 등록 인구 데이터 - df_seoul_people"
   ]
  },
  {
   "cell_type": "code",
   "execution_count": 7,
   "id": "d8f6cfe8",
   "metadata": {},
   "outputs": [],
   "source": [
    "df_seoul_bus_station = pd.read_csv('seoul_buses.csv', sep=\",\", encoding = 'UTF-8').drop('Unnamed: 0',axis=1)\n",
    "df_seoul_moving = pd.read_csv('total_sum_mean.csv', sep=\",\", encoding = 'UTF-8').drop('Unnamed: 0',axis=1)\n",
    "df_seoul_business = pd.read_csv('seoul_business.csv', sep=\",\", encoding = 'UTF-8').drop('Unnamed: 0',axis=1)\n",
    "df_seoul_people = pd.read_csv('seoul_people.csv', sep=\",\", encoding = 'UTF-8').drop('Unnamed: 0',axis=1)"
   ]
  },
  {
   "cell_type": "code",
   "execution_count": 8,
   "id": "0f3542a0",
   "metadata": {},
   "outputs": [
    {
     "data": {
      "text/html": [
       "<div>\n",
       "<style scoped>\n",
       "    .dataframe tbody tr th:only-of-type {\n",
       "        vertical-align: middle;\n",
       "    }\n",
       "\n",
       "    .dataframe tbody tr th {\n",
       "        vertical-align: top;\n",
       "    }\n",
       "\n",
       "    .dataframe thead th {\n",
       "        text-align: right;\n",
       "    }\n",
       "</style>\n",
       "<table border=\"1\" class=\"dataframe\">\n",
       "  <thead>\n",
       "    <tr style=\"text-align: right;\">\n",
       "      <th></th>\n",
       "      <th>자치구</th>\n",
       "      <th>정류장수</th>\n",
       "      <th>노선수</th>\n",
       "      <th>총승하차객수</th>\n",
       "      <th>승차평균승객수</th>\n",
       "      <th>하차평균승객수</th>\n",
       "    </tr>\n",
       "  </thead>\n",
       "  <tbody>\n",
       "    <tr>\n",
       "      <th>0</th>\n",
       "      <td>강남구</td>\n",
       "      <td>501</td>\n",
       "      <td>98</td>\n",
       "      <td>13557423.0</td>\n",
       "      <td>123.257234</td>\n",
       "      <td>116.824633</td>\n",
       "    </tr>\n",
       "    <tr>\n",
       "      <th>1</th>\n",
       "      <td>강동구</td>\n",
       "      <td>367</td>\n",
       "      <td>22</td>\n",
       "      <td>4976487.0</td>\n",
       "      <td>91.578944</td>\n",
       "      <td>89.588445</td>\n",
       "    </tr>\n",
       "    <tr>\n",
       "      <th>2</th>\n",
       "      <td>강북구</td>\n",
       "      <td>410</td>\n",
       "      <td>71</td>\n",
       "      <td>7856134.0</td>\n",
       "      <td>126.465395</td>\n",
       "      <td>122.036345</td>\n",
       "    </tr>\n",
       "    <tr>\n",
       "      <th>3</th>\n",
       "      <td>강서구</td>\n",
       "      <td>567</td>\n",
       "      <td>51</td>\n",
       "      <td>7944456.0</td>\n",
       "      <td>86.932767</td>\n",
       "      <td>86.542122</td>\n",
       "    </tr>\n",
       "    <tr>\n",
       "      <th>4</th>\n",
       "      <td>관악구</td>\n",
       "      <td>466</td>\n",
       "      <td>83</td>\n",
       "      <td>11882999.0</td>\n",
       "      <td>134.337116</td>\n",
       "      <td>137.566391</td>\n",
       "    </tr>\n",
       "  </tbody>\n",
       "</table>\n",
       "</div>"
      ],
      "text/plain": [
       "   자치구  정류장수  노선수      총승하차객수     승차평균승객수     하차평균승객수\n",
       "0  강남구   501   98  13557423.0  123.257234  116.824633\n",
       "1  강동구   367   22   4976487.0   91.578944   89.588445\n",
       "2  강북구   410   71   7856134.0  126.465395  122.036345\n",
       "3  강서구   567   51   7944456.0   86.932767   86.542122\n",
       "4  관악구   466   83  11882999.0  134.337116  137.566391"
      ]
     },
     "execution_count": 8,
     "metadata": {},
     "output_type": "execute_result"
    }
   ],
   "source": [
    "df_seoul_bus_station.head()"
   ]
  },
  {
   "cell_type": "code",
   "execution_count": 9,
   "id": "9cc8bb00",
   "metadata": {},
   "outputs": [],
   "source": [
    "df = pd.merge(standard,df_seoul_people,how='inner', on='자치구')\n",
    "df = pd.merge(df,df_seoul_business,how='inner', on='자치구')\n",
    "df = pd.merge(df,df_seoul_bus_station,how='inner', on='자치구')\n",
    "df = pd.merge(df,df_seoul_moving,how='inner', on='도착 시군구 코드')"
   ]
  },
  {
   "cell_type": "code",
   "execution_count": 10,
   "id": "fa6cb8ff",
   "metadata": {},
   "outputs": [
    {
     "data": {
      "text/html": [
       "<div>\n",
       "<style scoped>\n",
       "    .dataframe tbody tr th:only-of-type {\n",
       "        vertical-align: middle;\n",
       "    }\n",
       "\n",
       "    .dataframe tbody tr th {\n",
       "        vertical-align: top;\n",
       "    }\n",
       "\n",
       "    .dataframe thead th {\n",
       "        text-align: right;\n",
       "    }\n",
       "</style>\n",
       "<table border=\"1\" class=\"dataframe\">\n",
       "  <thead>\n",
       "    <tr style=\"text-align: right;\">\n",
       "      <th></th>\n",
       "      <th>도착 시군구 코드</th>\n",
       "      <th>자치구</th>\n",
       "      <th>남자</th>\n",
       "      <th>여자</th>\n",
       "      <th>합계</th>\n",
       "      <th>택시운송업.1</th>\n",
       "      <th>두발미용업.1</th>\n",
       "      <th>커피전문점.1</th>\n",
       "      <th>일반 교과 학원.1</th>\n",
       "      <th>남녀용 겉옷 및 셔츠 도매업.1</th>\n",
       "      <th>정류장수</th>\n",
       "      <th>노선수</th>\n",
       "      <th>총승하차객수</th>\n",
       "      <th>승차평균승객수</th>\n",
       "      <th>하차평균승객수</th>\n",
       "      <th>평균 이동 시간(분)</th>\n",
       "      <th>이동인구(합)</th>\n",
       "      <th>총 이동 시간</th>\n",
       "      <th>총 이동인구</th>\n",
       "    </tr>\n",
       "  </thead>\n",
       "  <tbody>\n",
       "    <tr>\n",
       "      <th>0</th>\n",
       "      <td>11010</td>\n",
       "      <td>종로구</td>\n",
       "      <td>71890</td>\n",
       "      <td>78563</td>\n",
       "      <td>150453</td>\n",
       "      <td>215</td>\n",
       "      <td>480</td>\n",
       "      <td>3613</td>\n",
       "      <td>382</td>\n",
       "      <td>962</td>\n",
       "      <td>356</td>\n",
       "      <td>105</td>\n",
       "      <td>8850208.0</td>\n",
       "      <td>123.306727</td>\n",
       "      <td>119.111592</td>\n",
       "      <td>60.151307</td>\n",
       "      <td>41.911289</td>\n",
       "      <td>29075578</td>\n",
       "      <td>20258827.46</td>\n",
       "    </tr>\n",
       "    <tr>\n",
       "      <th>1</th>\n",
       "      <td>11020</td>\n",
       "      <td>중구</td>\n",
       "      <td>63495</td>\n",
       "      <td>68298</td>\n",
       "      <td>131793</td>\n",
       "      <td>235</td>\n",
       "      <td>816</td>\n",
       "      <td>3542</td>\n",
       "      <td>175</td>\n",
       "      <td>24248</td>\n",
       "      <td>173</td>\n",
       "      <td>102</td>\n",
       "      <td>6189202.0</td>\n",
       "      <td>113.678089</td>\n",
       "      <td>110.511501</td>\n",
       "      <td>58.450528</td>\n",
       "      <td>44.128266</td>\n",
       "      <td>28733286</td>\n",
       "      <td>21692705.49</td>\n",
       "    </tr>\n",
       "    <tr>\n",
       "      <th>2</th>\n",
       "      <td>11030</td>\n",
       "      <td>용산구</td>\n",
       "      <td>109826</td>\n",
       "      <td>117280</td>\n",
       "      <td>227106</td>\n",
       "      <td>523</td>\n",
       "      <td>777</td>\n",
       "      <td>2076</td>\n",
       "      <td>573</td>\n",
       "      <td>317</td>\n",
       "      <td>326</td>\n",
       "      <td>69</td>\n",
       "      <td>6918152.0</td>\n",
       "      <td>119.962938</td>\n",
       "      <td>117.447907</td>\n",
       "      <td>58.494740</td>\n",
       "      <td>34.245515</td>\n",
       "      <td>26487237</td>\n",
       "      <td>15506848.68</td>\n",
       "    </tr>\n",
       "    <tr>\n",
       "      <th>3</th>\n",
       "      <td>11040</td>\n",
       "      <td>성동구</td>\n",
       "      <td>137620</td>\n",
       "      <td>147146</td>\n",
       "      <td>284766</td>\n",
       "      <td>2527</td>\n",
       "      <td>851</td>\n",
       "      <td>1859</td>\n",
       "      <td>1494</td>\n",
       "      <td>1572</td>\n",
       "      <td>432</td>\n",
       "      <td>58</td>\n",
       "      <td>4706296.0</td>\n",
       "      <td>90.524859</td>\n",
       "      <td>88.912994</td>\n",
       "      <td>58.879851</td>\n",
       "      <td>39.001257</td>\n",
       "      <td>27279447</td>\n",
       "      <td>18069555.27</td>\n",
       "    </tr>\n",
       "    <tr>\n",
       "      <th>4</th>\n",
       "      <td>11050</td>\n",
       "      <td>광진구</td>\n",
       "      <td>167562</td>\n",
       "      <td>183618</td>\n",
       "      <td>351180</td>\n",
       "      <td>1744</td>\n",
       "      <td>1337</td>\n",
       "      <td>1887</td>\n",
       "      <td>1646</td>\n",
       "      <td>687</td>\n",
       "      <td>274</td>\n",
       "      <td>43</td>\n",
       "      <td>4760356.0</td>\n",
       "      <td>106.767427</td>\n",
       "      <td>107.460375</td>\n",
       "      <td>61.807174</td>\n",
       "      <td>42.697635</td>\n",
       "      <td>26804906</td>\n",
       "      <td>18517366.67</td>\n",
       "    </tr>\n",
       "    <tr>\n",
       "      <th>5</th>\n",
       "      <td>11060</td>\n",
       "      <td>동대문구</td>\n",
       "      <td>174120</td>\n",
       "      <td>185753</td>\n",
       "      <td>359873</td>\n",
       "      <td>2093</td>\n",
       "      <td>891</td>\n",
       "      <td>1472</td>\n",
       "      <td>984</td>\n",
       "      <td>976</td>\n",
       "      <td>307</td>\n",
       "      <td>74</td>\n",
       "      <td>8957488.0</td>\n",
       "      <td>127.490390</td>\n",
       "      <td>124.570504</td>\n",
       "      <td>60.745357</td>\n",
       "      <td>37.893985</td>\n",
       "      <td>28277328</td>\n",
       "      <td>17639877.61</td>\n",
       "    </tr>\n",
       "    <tr>\n",
       "      <th>6</th>\n",
       "      <td>11070</td>\n",
       "      <td>중랑구</td>\n",
       "      <td>189462</td>\n",
       "      <td>198008</td>\n",
       "      <td>387470</td>\n",
       "      <td>6262</td>\n",
       "      <td>1108</td>\n",
       "      <td>1037</td>\n",
       "      <td>1045</td>\n",
       "      <td>284</td>\n",
       "      <td>384</td>\n",
       "      <td>51</td>\n",
       "      <td>6394542.0</td>\n",
       "      <td>77.186457</td>\n",
       "      <td>76.421413</td>\n",
       "      <td>65.215023</td>\n",
       "      <td>38.634336</td>\n",
       "      <td>25059916</td>\n",
       "      <td>14845861.77</td>\n",
       "    </tr>\n",
       "  </tbody>\n",
       "</table>\n",
       "</div>"
      ],
      "text/plain": [
       "   도착 시군구 코드   자치구      남자      여자      합계  택시운송업.1  두발미용업.1  커피전문점.1  \\\n",
       "0      11010   종로구   71890   78563  150453      215      480     3613   \n",
       "1      11020    중구   63495   68298  131793      235      816     3542   \n",
       "2      11030   용산구  109826  117280  227106      523      777     2076   \n",
       "3      11040   성동구  137620  147146  284766     2527      851     1859   \n",
       "4      11050   광진구  167562  183618  351180     1744     1337     1887   \n",
       "5      11060  동대문구  174120  185753  359873     2093      891     1472   \n",
       "6      11070   중랑구  189462  198008  387470     6262     1108     1037   \n",
       "\n",
       "   일반 교과 학원.1  남녀용 겉옷 및 셔츠 도매업.1  정류장수  노선수     총승하차객수     승차평균승객수  \\\n",
       "0         382                962   356  105  8850208.0  123.306727   \n",
       "1         175              24248   173  102  6189202.0  113.678089   \n",
       "2         573                317   326   69  6918152.0  119.962938   \n",
       "3        1494               1572   432   58  4706296.0   90.524859   \n",
       "4        1646                687   274   43  4760356.0  106.767427   \n",
       "5         984                976   307   74  8957488.0  127.490390   \n",
       "6        1045                284   384   51  6394542.0   77.186457   \n",
       "\n",
       "      하차평균승객수  평균 이동 시간(분)    이동인구(합)   총 이동 시간       총 이동인구  \n",
       "0  119.111592    60.151307  41.911289  29075578  20258827.46  \n",
       "1  110.511501    58.450528  44.128266  28733286  21692705.49  \n",
       "2  117.447907    58.494740  34.245515  26487237  15506848.68  \n",
       "3   88.912994    58.879851  39.001257  27279447  18069555.27  \n",
       "4  107.460375    61.807174  42.697635  26804906  18517366.67  \n",
       "5  124.570504    60.745357  37.893985  28277328  17639877.61  \n",
       "6   76.421413    65.215023  38.634336  25059916  14845861.77  "
      ]
     },
     "execution_count": 10,
     "metadata": {},
     "output_type": "execute_result"
    }
   ],
   "source": [
    "df.head(7)"
   ]
  },
  {
   "cell_type": "code",
   "execution_count": 11,
   "id": "867b0042",
   "metadata": {
    "scrolled": true
   },
   "outputs": [],
   "source": [
    "df_table = pd.read_csv('table.csv').drop('Unnamed: 0',axis=1)"
   ]
  },
  {
   "cell_type": "code",
   "execution_count": 12,
   "id": "a01aa7c3",
   "metadata": {
    "scrolled": true
   },
   "outputs": [],
   "source": [
    "df_table.drop('총노선수',axis=1,inplace=True)"
   ]
  },
  {
   "cell_type": "code",
   "execution_count": 13,
   "id": "06005b3f",
   "metadata": {},
   "outputs": [],
   "source": [
    "df = pd.read_excel('찐노선수.xlsx').drop('Unnamed: 0',axis=1)\n",
    "df.columns=['자치구','총노선수']\n",
    "df_table = pd.merge(df_table,df,on='자치구')"
   ]
  },
  {
   "cell_type": "code",
   "execution_count": 14,
   "id": "91d134cb",
   "metadata": {},
   "outputs": [
    {
     "data": {
      "text/html": [
       "<div>\n",
       "<style scoped>\n",
       "    .dataframe tbody tr th:only-of-type {\n",
       "        vertical-align: middle;\n",
       "    }\n",
       "\n",
       "    .dataframe tbody tr th {\n",
       "        vertical-align: top;\n",
       "    }\n",
       "\n",
       "    .dataframe thead th {\n",
       "        text-align: right;\n",
       "    }\n",
       "</style>\n",
       "<table border=\"1\" class=\"dataframe\">\n",
       "  <thead>\n",
       "    <tr style=\"text-align: right;\">\n",
       "      <th></th>\n",
       "      <th>자치구</th>\n",
       "      <th>정류장수</th>\n",
       "      <th>노선수</th>\n",
       "      <th>넓이</th>\n",
       "      <th>평균 이동 시간(분)</th>\n",
       "      <th>이동인구(합)</th>\n",
       "      <th>총노선수</th>\n",
       "    </tr>\n",
       "  </thead>\n",
       "  <tbody>\n",
       "    <tr>\n",
       "      <th>0</th>\n",
       "      <td>중구</td>\n",
       "      <td>173</td>\n",
       "      <td>102</td>\n",
       "      <td>9.96</td>\n",
       "      <td>1478635</td>\n",
       "      <td>7614020.16</td>\n",
       "      <td>130</td>\n",
       "    </tr>\n",
       "    <tr>\n",
       "      <th>1</th>\n",
       "      <td>광진구</td>\n",
       "      <td>274</td>\n",
       "      <td>43</td>\n",
       "      <td>17.06</td>\n",
       "      <td>1704741</td>\n",
       "      <td>9902446.34</td>\n",
       "      <td>50</td>\n",
       "    </tr>\n",
       "    <tr>\n",
       "      <th>2</th>\n",
       "      <td>동대문구</td>\n",
       "      <td>307</td>\n",
       "      <td>74</td>\n",
       "      <td>14.22</td>\n",
       "      <td>1663216</td>\n",
       "      <td>8293191.64</td>\n",
       "      <td>79</td>\n",
       "    </tr>\n",
       "    <tr>\n",
       "      <th>3</th>\n",
       "      <td>양천구</td>\n",
       "      <td>319</td>\n",
       "      <td>57</td>\n",
       "      <td>17.41</td>\n",
       "      <td>1675772</td>\n",
       "      <td>8155105.75</td>\n",
       "      <td>76</td>\n",
       "    </tr>\n",
       "    <tr>\n",
       "      <th>4</th>\n",
       "      <td>용산구</td>\n",
       "      <td>326</td>\n",
       "      <td>69</td>\n",
       "      <td>21.87</td>\n",
       "      <td>1643111</td>\n",
       "      <td>6634596.40</td>\n",
       "      <td>87</td>\n",
       "    </tr>\n",
       "  </tbody>\n",
       "</table>\n",
       "</div>"
      ],
      "text/plain": [
       "    자치구  정류장수  노선수     넓이  평균 이동 시간(분)     이동인구(합)  총노선수\n",
       "0    중구   173  102   9.96      1478635  7614020.16   130\n",
       "1   광진구   274   43  17.06      1704741  9902446.34    50\n",
       "2  동대문구   307   74  14.22      1663216  8293191.64    79\n",
       "3   양천구   319   57  17.41      1675772  8155105.75    76\n",
       "4   용산구   326   69  21.87      1643111  6634596.40    87"
      ]
     },
     "execution_count": 14,
     "metadata": {},
     "output_type": "execute_result"
    }
   ],
   "source": [
    "df_table.head()"
   ]
  },
  {
   "cell_type": "markdown",
   "id": "6aa7b930",
   "metadata": {},
   "source": [
    "## 2.단변량 분석\n"
   ]
  },
  {
   "cell_type": "code",
   "execution_count": 15,
   "id": "b62009a9",
   "metadata": {},
   "outputs": [],
   "source": [
    "import seaborn as sns\n",
    "import matplotlib.pyplot as plt\n",
    "\n",
    "plt.rc('font', family='Apple Gothic')\n",
    "sns.set(font=\"AppleGothic\",#\"NanumGothicCoding\", \n",
    "        rc={\"axes.unicode_minus\":False}, # 마이너스 부호 깨짐 현상 해결\n",
    "        style='darkgrid')\n"
   ]
  },
  {
   "cell_type": "markdown",
   "id": "39ef5d0f",
   "metadata": {},
   "source": [
    "### 1) 자치구 내에서 이동한 사람들의 평균 이동 시간. \n"
   ]
  },
  {
   "cell_type": "markdown",
   "id": "4a38b850",
   "metadata": {},
   "source": [
    "- **변수의 비지니스 의미**\n",
    "\n",
    "    - 같은 자치구내에서의 평균 이동 시간이 크다는 것은 자치구의 면적이 넓거나 정류장가 많아 정차 횟수가 잦음을 예상할 수 있으며, 또한 노선의 형태가 고르게 분포 되지 못함을 예상 할 수 있다.\n",
    "\n",
    "    - 자치구의 넓이가 클 수록 정류장의 수가 많아지고, 이동 거리 또한 늘어나게 된다. 따라서 평균 이동 시간이 넓이와 관계가 있을 것이라 판단된다.\n",
    "\n",
    "    - 정류장수가 증가함에 따라서 정차 빈도가 잦아 평균 이동 시간이 넓이와 관계가 있을 것이라 판단된다.\n",
    "    \n",
    "- **전처리 사항**\n",
    "    -  자치구별 넓이, 자치구별 평균 이동 시간의 합, 자치구별 정류장 수를 자치구를 기준으로 merge 하였다.\n",
    "    \n",
    "- **추가 분석해볼 사항 도출**\n",
    "    - 추가로 교통량 데이터를 추가하여 평균 이동 시간과 연관이 있는지 확인하여 버스 노선 추가가 유의미한 해결 방안이 될 수 있는지 판단해야한다.\n",
    "\n",
    "\n",
    "\n"
   ]
  },
  {
   "cell_type": "code",
   "execution_count": 16,
   "id": "2c3af614",
   "metadata": {
    "scrolled": false
   },
   "outputs": [
    {
     "data": {
      "image/png": "[encoded data removed]",
      "text/plain": [
       "<Figure size 2000x500 with 1 Axes>"
      ]
     },
     "metadata": {},
     "output_type": "display_data"
    }
   ],
   "source": [
    "\n",
    "plt.figure(figsize=(20,5))\n",
    "df_table = df_table.sort_values('평균 이동 시간(분)')\n",
    "sns.barplot(x='자치구', y='평균 이동 시간(분)',data=df_table)\n",
    "plt.savefig('자치구,평균 이동 시간(분).png')"
   ]
  },
  {
   "cell_type": "markdown",
   "id": "a4e3ec6e",
   "metadata": {},
   "source": [
    "### 2)"
   ]
  },
  {
   "cell_type": "code",
   "execution_count": 17,
   "id": "9404e8aa",
   "metadata": {},
   "outputs": [
    {
     "data": {
      "image/png": "[encoded data removed]",
      "text/plain": [
       "<Figure size 2000x500 with 1 Axes>"
      ]
     },
     "metadata": {},
     "output_type": "display_data"
    }
   ],
   "source": [
    "\n",
    "plt.figure(figsize=(20,5))\n",
    "df_table = df_table.sort_values('넓이')\n",
    "sns.barplot(x='자치구', y='넓이',data=df_table)\n",
    "plt.savefig('자치구,넓이.png')"
   ]
  },
  {
   "cell_type": "markdown",
   "id": "a7193abc",
   "metadata": {},
   "source": [
    "### 3)"
   ]
  },
  {
   "cell_type": "code",
   "execution_count": 18,
   "id": "cb5b1e25",
   "metadata": {},
   "outputs": [
    {
     "data": {
      "image/png": "[encoded data removed]",
      "text/plain": [
       "<Figure size 2000x500 with 1 Axes>"
      ]
     },
     "metadata": {},
     "output_type": "display_data"
    }
   ],
   "source": [
    "plt.figure(figsize=(20,5))\n",
    "df_table = df_table.sort_values('정류장수')\n",
    "sns.barplot(x='자치구', y='정류장수',data=df_table)\n",
    "plt.savefig('자치구,정류장수.png')"
   ]
  },
  {
   "cell_type": "markdown",
   "id": "ac81d719",
   "metadata": {},
   "source": [
    "## 3.이변량 분석\n",
    "* 유의수준 : 5%\n",
    "* 숫자 --> 숫자 : 상관분석\n",
    "* 범주 --> 범주 : 카이제곱검정\n",
    "* 범주 --> 숫자 : t검정, 분산분석\n",
    "* 숫자 --> 범주 : 로지스틱 회귀모형을 통해, 회귀계수의 P.value\n",
    "    \n",
    "상관계수 (우리가 배운 기준)\n",
    "- 0.5 ~ 1 : 강한\n",
    "- 0.2 ~ 0.5 : 중간\n",
    "- 0.1 ~ 0.2 : 약간\n",
    "- 0 ~ 0.1 : 없음\n",
    "- 음수 똑같음 "
   ]
  },
  {
   "cell_type": "code",
   "execution_count": 19,
   "id": "05b1c4bf",
   "metadata": {},
   "outputs": [
    {
     "name": "stdout",
     "output_type": "stream",
     "text": [
      "넓이  정류장수  : 0.7258192797459022 4.01709769768881e-05\n",
      "넓이 평균 이동 시간(분)  : 0.4495437631769537 0.02416223756324472\n",
      "정류장수 평균 이동 시간(분)  : 0.5370492679329872 0.005637166048056469\n",
      "노선수 평균 이동 시간(분)  : 0.12117796893125948 0.5639369832521209\n"
     ]
    }
   ],
   "source": [
    "import pandas as pd\n",
    "import scipy.stats as stats\n",
    "\n",
    "df_table.to_csv('table.csv')\n",
    "\n",
    "statistic,pvalue = stats.pearsonr(df_table['넓이'],df_table['정류장수'])\n",
    "print('넓이  정류장수  :',statistic,pvalue )\n",
    "statistic,pvalue = stats.pearsonr(df_table['넓이'],df_table['평균 이동 시간(분)'])\n",
    "print('넓이 평균 이동 시간(분)  :',statistic,pvalue )\n",
    "statistic,pvalue = stats.pearsonr(df_table['정류장수'],df_table['평균 이동 시간(분)'])\n",
    "print('정류장수 평균 이동 시간(분)  :',statistic,pvalue )\n",
    "statistic,pvalue = stats.pearsonr(df_table['노선수'],df_table['평균 이동 시간(분)'])\n",
    "print('노선수 평균 이동 시간(분)  :',statistic,pvalue )\n"
   ]
  },
  {
   "cell_type": "markdown",
   "id": "a1ef2391",
   "metadata": {},
   "source": [
    " 1) 자치구 면적이 클 수록 이동 시간이 크다.\n",
    " 2) 정류장수가 많을 수록 이동시간이 크다.\n",
    " 3) 면적이 클 수록  정류장수가 많다."
   ]
  },
  {
   "cell_type": "markdown",
   "id": "1d3f065b",
   "metadata": {},
   "source": [
    "### 상관계수, HeatMap으로 시각화"
   ]
  },
  {
   "cell_type": "code",
   "execution_count": 20,
   "id": "4e41b8d9",
   "metadata": {},
   "outputs": [
    {
     "ename": "NameError",
     "evalue": "name 'X' is not defined",
     "output_type": "error",
     "traceback": [
      "\u001b[0;31m---------------------------------------------------------------------------\u001b[0m",
      "\u001b[0;31mNameError\u001b[0m                                 Traceback (most recent call last)",
      "Cell \u001b[0;32mIn[20], line 4\u001b[0m\n\u001b[1;32m      1\u001b[0m \u001b[38;5;66;03m# 아래에 실습코드를 작성하고 상관계수를 확인 및 시각화 합니다.\u001b[39;00m\n\u001b[1;32m      2\u001b[0m \u001b[38;5;28;01mimport\u001b[39;00m \u001b[38;5;21;01mscipy\u001b[39;00m\u001b[38;5;21;01m.\u001b[39;00m\u001b[38;5;21;01mstats\u001b[39;00m \u001b[38;5;28;01mas\u001b[39;00m \u001b[38;5;21;01mspst\u001b[39;00m\n\u001b[0;32m----> 4\u001b[0m spst\u001b[38;5;241m.\u001b[39mpearsonr(\u001b[43mX\u001b[49m,Y)\n",
      "\u001b[0;31mNameError\u001b[0m: name 'X' is not defined"
     ]
    }
   ],
   "source": [
    "# 아래에 실습코드를 작성하고 상관계수를 확인 및 시각화 합니다.\n",
    "import scipy.stats as spst\n",
    "\n",
    "spst.pearsonr(X,Y)"
   ]
  },
  {
   "cell_type": "code",
   "execution_count": 44,
   "id": "f05278c4",
   "metadata": {},
   "outputs": [
    {
     "name": "stdout",
     "output_type": "stream",
     "text": [
      "                 정류장수       노선수        넓이  평균 이동 시간(분)   이동인구(합)      총노선수\n",
      "정류장수         1.000000  0.276810  0.725819     0.537049  0.451854  0.326599\n",
      "노선수          0.276810  1.000000  0.054202     0.121178  0.002243  0.944340\n",
      "넓이           0.725819  0.054202  1.000000     0.449544  0.723771  0.225136\n",
      "평균 이동 시간(분)  0.537049  0.121178  0.449544     1.000000  0.676133  0.244735\n",
      "이동인구(합)      0.451854  0.002243  0.723771     0.676133  1.000000  0.178045\n",
      "총노선수         0.326599  0.944340  0.225136     0.244735  0.178045  1.000000\n"
     ]
    }
   ],
   "source": [
    "h_map = df_table.iloc[:, 1:].corr()\n",
    "\n",
    "print(h_map)\n"
   ]
  },
  {
   "cell_type": "code",
   "execution_count": 45,
   "id": "269c049e",
   "metadata": {},
   "outputs": [
    {
     "data": {
      "image/png": "[encoded data removed]",
      "text/plain": [
       "<Figure size 640x480 with 2 Axes>"
      ]
     },
     "metadata": {},
     "output_type": "display_data"
    }
   ],
   "source": [
    "# 아래에 실습코드를 작성하고 상관계수를 확인 및 시각화 합니다.\n",
    "sns.heatmap(h_map, annot=True, cmap='coolwarm', fmt=\".2f\", square=True, cbar_kws={\"shrink\": .8})\n",
    "plt.title(\"상관 행렬\")\n",
    "plt.show()"
   ]
  },
  {
   "cell_type": "code",
   "execution_count": 40,
   "id": "100b24d7",
   "metadata": {},
   "outputs": [],
   "source": [
    "# 위 차트를 통해 알게된 사실을 정리해봅시다.\n",
    "# 1. 자치구별 정류장수가 많을 수록 평균 이동 시간이 크다.\n",
    "# 2. 자치구별 정류장수가 많을 수록 넓이가 크다.\n",
    "# 3. 자치구 넓이와 평균 이동 시간간의 약한 선형관계를 가진다."
   ]
  },
  {
   "cell_type": "markdown",
   "id": "20e08293",
   "metadata": {},
   "source": [
    "## 4.관계 정리"
   ]
  },
  {
   "cell_type": "markdown",
   "id": "b11433ac",
   "metadata": {},
   "source": [
    "### 1) 강한 관계의 변수"
   ]
  },
  {
   "cell_type": "markdown",
   "id": "ae622498",
   "metadata": {},
   "source": [
    "- 넓이, 정류장수"
   ]
  },
  {
   "cell_type": "markdown",
   "id": "3101b64b",
   "metadata": {},
   "source": [
    "### 2) 약한 관계의 변수"
   ]
  },
  {
   "cell_type": "markdown",
   "id": "7a7f579d",
   "metadata": {},
   "source": [
    "- 평균 이동 시간, 정류장수\n",
    "- 평균 이동 시간, 넓이"
   ]
  },
  {
   "cell_type": "markdown",
   "id": "644198b7",
   "metadata": {},
   "source": [
    "## 5.솔루션 도출\n",
    "\n",
    "### 어느 구에 버스 노선 또는 정류장이 제일 필요한가?"
   ]
  },
  {
   "cell_type": "markdown",
   "id": "783e8346",
   "metadata": {},
   "source": [
    "- 면적이 작고, 정류장수도 적으나 평균 이동 시간이 제일 긴 영등포구에 정류장을 설치하는 것이 바람직하다."
   ]
  }
 ],
 "metadata": {
  "colab": {
   "collapsed_sections": [],
   "name": "서울버스수요분석 데이터 분석(EDA)_ver0.1.ipynb",
   "provenance": [],
   "toc_visible": true
  },
  "kernelspec": {
   "display_name": "Python 3 (ipykernel)",
   "language": "python",
   "name": "python3"
  },
  "language_info": {
   "codemirror_mode": {
    "name": "ipython",
    "version": 3
   },
   "file_extension": ".py",
   "mimetype": "text/x-python",
   "name": "python",
   "nbconvert_exporter": "python",
   "pygments_lexer": "ipython3",
   "version": "3.11.9"
  },
  "vscode": {
   "interpreter": {
    "hash": "f08154012ddadd8e950e6e9e035c7a7b32c136e7647e9b7c77e02eb723a8bedb"
   }
  }
 },
 "nbformat": 4,
 "nbformat_minor": 5
}
